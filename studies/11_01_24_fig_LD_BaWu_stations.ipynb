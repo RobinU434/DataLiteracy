{
 "cells": [
  {
   "cell_type": "code",
   "execution_count": 2,
   "metadata": {},
   "outputs": [
    {
     "name": "stderr",
     "output_type": "stream",
     "text": [
      "/tmp/ipykernel_35544/1039141050.py:12: MatplotlibDeprecationWarning: The get_cmap function was deprecated in Matplotlib 3.7 and will be removed two minor releases later. Use ``matplotlib.colormaps[name]`` or ``matplotlib.colormaps.get_cmap(obj)`` instead.\n",
      "  cmap_color = plt.cm.get_cmap('Pastel1')\n",
      "/tmp/ipykernel_35544/1039141050.py:13: MatplotlibDeprecationWarning: The get_cmap function was deprecated in Matplotlib 3.7 and will be removed two minor releases later. Use ``matplotlib.colormaps[name]`` or ``matplotlib.colormaps.get_cmap(obj)`` instead.\n",
      "  cdot_color = plt.cm.get_cmap('tab20')\n"
     ]
    }
   ],
   "source": [
    "\n",
    "import pandas as pd\n",
    "import geopandas as gpd\n",
    "import matplotlib.pyplot as plt\n",
    "import os\n",
    "import numpy as np\n",
    "import matplotlib.lines as mlines\n",
    "from tueplots import cycler, markers\n",
    "from tueplots.constants import markers as marker_constants\n",
    "from tueplots.constants.color import palettes\n",
    "from tueplots import figsizes, fonts\n",
    "#Colours\n",
    "cmap_color = plt.cm.get_cmap('Pastel1')\n",
    "cdot_color = plt.cm.get_cmap('tab20')"
   ]
  },
  {
   "cell_type": "code",
   "execution_count": 30,
   "metadata": {},
   "outputs": [],
   "source": [
    "#Plotting Params\n",
    "#Figsize\n",
    "import matplotlib.colors as mcolors\n",
    "plt.rcParams.update(figsizes.icml2022_full())\n",
    "\n",
    "from studies.utils.setup_pyplot import SIDEEFFECTS_setup_tueplot\n",
    "#Font\n",
    "SIDEEFFECTS_setup_tueplot()\n",
    "tue_plot_colors = palettes.tue_plot\n",
    "\n",
    "#plt.rcParams.update(cycler.cycler(color=palettes.tue_plot))\n",
    "plt.rcParams.update(cycler.cycler(color=palettes.paultol_muted))\n",
    "#Path \n",
    "FIG_SAVE_BASE_PATH = \"../docs/report/fig/\""
   ]
  },
  {
   "cell_type": "code",
   "execution_count": 3,
   "metadata": {},
   "outputs": [
    {
     "data": {
      "text/html": [
       "<div>\n",
       "<style scoped>\n",
       "    .dataframe tbody tr th:only-of-type {\n",
       "        vertical-align: middle;\n",
       "    }\n",
       "\n",
       "    .dataframe tbody tr th {\n",
       "        vertical-align: top;\n",
       "    }\n",
       "\n",
       "    .dataframe thead th {\n",
       "        text-align: right;\n",
       "    }\n",
       "</style>\n",
       "<table border=\"1\" class=\"dataframe\">\n",
       "  <thead>\n",
       "    <tr style=\"text-align: right;\">\n",
       "      <th></th>\n",
       "      <th>Stationsname</th>\n",
       "      <th>Stations_ID</th>\n",
       "      <th>Kennung</th>\n",
       "      <th>Stations-kennung</th>\n",
       "      <th>Breite</th>\n",
       "      <th>Länge</th>\n",
       "      <th>Stations-höhe</th>\n",
       "      <th>Flussgebiet</th>\n",
       "      <th>Bundesland</th>\n",
       "      <th>Beginn</th>\n",
       "      <th>Ende</th>\n",
       "    </tr>\n",
       "  </thead>\n",
       "  <tbody>\n",
       "    <tr>\n",
       "      <th>0</th>\n",
       "      <td>Aach</td>\n",
       "      <td>1</td>\n",
       "      <td>KL</td>\n",
       "      <td>02783</td>\n",
       "      <td>47.8410</td>\n",
       "      <td>8.8490</td>\n",
       "      <td>478</td>\n",
       "      <td></td>\n",
       "      <td>BW</td>\n",
       "      <td>1937-01-01</td>\n",
       "      <td>1986-06-30</td>\n",
       "    </tr>\n",
       "    <tr>\n",
       "      <th>1</th>\n",
       "      <td>Aach</td>\n",
       "      <td>1</td>\n",
       "      <td>RR</td>\n",
       "      <td>70191</td>\n",
       "      <td>47.8410</td>\n",
       "      <td>8.8490</td>\n",
       "      <td>478</td>\n",
       "      <td></td>\n",
       "      <td>BW</td>\n",
       "      <td>1912-01-01</td>\n",
       "      <td>1986-06-30</td>\n",
       "    </tr>\n",
       "    <tr>\n",
       "      <th>2</th>\n",
       "      <td>Aach/Hegau</td>\n",
       "      <td>10771</td>\n",
       "      <td>PE</td>\n",
       "      <td>10771</td>\n",
       "      <td>47.8500</td>\n",
       "      <td>8.8500</td>\n",
       "      <td>480</td>\n",
       "      <td></td>\n",
       "      <td>BW</td>\n",
       "      <td>1951-02-27</td>\n",
       "      <td>2000-06-15</td>\n",
       "    </tr>\n",
       "    <tr>\n",
       "      <th>3</th>\n",
       "      <td>Aachen</td>\n",
       "      <td>3</td>\n",
       "      <td>EB</td>\n",
       "      <td>02205</td>\n",
       "      <td>50.7827</td>\n",
       "      <td>6.0941</td>\n",
       "      <td>202</td>\n",
       "      <td>803100</td>\n",
       "      <td>NW</td>\n",
       "      <td>1951-01-01</td>\n",
       "      <td>2011-03-31</td>\n",
       "    </tr>\n",
       "    <tr>\n",
       "      <th>4</th>\n",
       "      <td>Aachen</td>\n",
       "      <td>3</td>\n",
       "      <td>FF</td>\n",
       "      <td>02205</td>\n",
       "      <td>50.7827</td>\n",
       "      <td>6.0941</td>\n",
       "      <td>202</td>\n",
       "      <td>803100</td>\n",
       "      <td>NW</td>\n",
       "      <td>1937-01-01</td>\n",
       "      <td>2011-03-31</td>\n",
       "    </tr>\n",
       "  </tbody>\n",
       "</table>\n",
       "</div>"
      ],
      "text/plain": [
       "  Stationsname  Stations_ID Kennung Stations-kennung   Breite   Länge  \\\n",
       "0         Aach            1      KL            02783  47.8410  8.8490   \n",
       "1         Aach            1      RR            70191  47.8410  8.8490   \n",
       "2   Aach/Hegau        10771      PE            10771  47.8500  8.8500   \n",
       "3       Aachen            3      EB            02205  50.7827  6.0941   \n",
       "4       Aachen            3      FF            02205  50.7827  6.0941   \n",
       "\n",
       "   Stations-höhe Flussgebiet Bundesland     Beginn       Ende  \n",
       "0            478                     BW 1937-01-01 1986-06-30  \n",
       "1            478                     BW 1912-01-01 1986-06-30  \n",
       "2            480                     BW 1951-02-27 2000-06-15  \n",
       "3            202      803100         NW 1951-01-01 2011-03-31  \n",
       "4            202      803100         NW 1937-01-01 2011-03-31  "
      ]
     },
     "execution_count": 3,
     "metadata": {},
     "output_type": "execute_result"
    }
   ],
   "source": [
    "stations = pd.read_csv(\"../project/data/dwd/stations.tsv\", sep=\"\\t\")\n",
    "\n",
    "#remove stations with empty Beginn or Ende\n",
    "mask = stations[\"Beginn\"] == \" \"\n",
    "stations = stations[~mask]\n",
    "mask = stations[\"Ende\"] == \" \"\n",
    "stations = stations[~mask]\n",
    "\n",
    "stations[\"Beginn\"] = pd.to_datetime(stations[\"Beginn\"], dayfirst=True)\n",
    "stations[\"Ende\"] = pd.to_datetime(stations[\"Ende\"], dayfirst=True)\n",
    "\n",
    "stations.head()"
   ]
  },
  {
   "cell_type": "code",
   "execution_count": 4,
   "metadata": {},
   "outputs": [],
   "source": [
    "from datetime import datetime\n",
    "bw_stations = stations.loc[stations[\"Bundesland\"] == \"BW\"].drop_duplicates(subset= [\"Stationsname\", \"Stations-kennung\"])\n",
    "\n",
    "current_bw_stations = bw_stations[bw_stations[\"Ende\"] >= datetime(day=2, month=12, year=2023)]\n",
    "id_str = current_bw_stations[\"Stations-kennung\"].to_string(index=False).replace(\"\\n \", \",\")"
   ]
  },
  {
   "cell_type": "code",
   "execution_count": 5,
   "metadata": {},
   "outputs": [],
   "source": [
    "# bw_response_stations = current_bw_stations[current_bw_stations[\"Stations-kennung\"].isin(response_ids)]\n",
    "a = [\"Q771\",  \"Q411\",  \"Q740\",  \"Q055\",  \"Q811\",  \"Q824\",  \"Q382\",  \"Q712\",  \"Q702\",  \"Q221\",  \"Q978\",  \"Q848\",  \"Q351\",  \"Q651\",  \"Q485\",  \"Q292\",  \"Q579\",  \"Q887\",  \"Q671\",  \"Q437\",  \"Q061\",  \"Q242\",  \"Q518\",  \"Q332\",  \"Q864\",  \"Q440\",  \"Q404\",  \"Q733\",  \"Q341\",  \"Q378\",  \"Q788\",  \"Q942\",  \"Q738\",  \"Q879\",  \"Q622\",  \"Q926\"]\n",
    "bw_response_stations = current_bw_stations[current_bw_stations[\"Stations-kennung\"].isin(a)]"
   ]
  },
  {
   "cell_type": "code",
   "execution_count": 6,
   "metadata": {},
   "outputs": [
    {
     "data": {
      "text/plain": [
       "36"
      ]
     },
     "execution_count": 6,
     "metadata": {},
     "output_type": "execute_result"
    }
   ],
   "source": [
    "len( bw_response_stations[\"Stations_ID\"].values)"
   ]
  },
  {
   "cell_type": "code",
   "execution_count": 7,
   "metadata": {},
   "outputs": [
    {
     "data": {
      "text/html": [
       "<div>\n",
       "<style scoped>\n",
       "    .dataframe tbody tr th:only-of-type {\n",
       "        vertical-align: middle;\n",
       "    }\n",
       "\n",
       "    .dataframe tbody tr th {\n",
       "        vertical-align: top;\n",
       "    }\n",
       "\n",
       "    .dataframe thead th {\n",
       "        text-align: right;\n",
       "    }\n",
       "</style>\n",
       "<table border=\"1\" class=\"dataframe\">\n",
       "  <thead>\n",
       "    <tr style=\"text-align: right;\">\n",
       "      <th></th>\n",
       "      <th>plz</th>\n",
       "      <th>note</th>\n",
       "      <th>einwohner</th>\n",
       "      <th>qkm</th>\n",
       "      <th>geometry</th>\n",
       "    </tr>\n",
       "  </thead>\n",
       "  <tbody>\n",
       "    <tr>\n",
       "      <th>0</th>\n",
       "      <td>64743</td>\n",
       "      <td>Situation unklar, evtl. haben die HÃ¤user Marb...</td>\n",
       "      <td>3</td>\n",
       "      <td>0.082066</td>\n",
       "      <td>POLYGON ((8.98124 49.60761, 8.98312 49.60748, ...</td>\n",
       "    </tr>\n",
       "    <tr>\n",
       "      <th>1</th>\n",
       "      <td>81248</td>\n",
       "      <td>81248 MÃ¼nchen</td>\n",
       "      <td>121</td>\n",
       "      <td>1.984763</td>\n",
       "      <td>POLYGON ((11.39468 48.14729, 11.39490 48.14780...</td>\n",
       "    </tr>\n",
       "    <tr>\n",
       "      <th>2</th>\n",
       "      <td>60315</td>\n",
       "      <td>60315 Frankfurt am Main (FOUR)</td>\n",
       "      <td>0</td>\n",
       "      <td>0.017285</td>\n",
       "      <td>POLYGON ((8.67254 50.11264, 8.67258 50.11265, ...</td>\n",
       "    </tr>\n",
       "    <tr>\n",
       "      <th>3</th>\n",
       "      <td>99331</td>\n",
       "      <td>99331 Geratal</td>\n",
       "      <td>4523</td>\n",
       "      <td>20.207080</td>\n",
       "      <td>POLYGON ((10.79153 50.69477, 10.79178 50.69819...</td>\n",
       "    </tr>\n",
       "    <tr>\n",
       "      <th>4</th>\n",
       "      <td>60312</td>\n",
       "      <td>60312 Frankfurt am Main (Omniturm)</td>\n",
       "      <td>0</td>\n",
       "      <td>0.001829</td>\n",
       "      <td>POLYGON ((8.67262 50.11164, 8.67311 50.11182, ...</td>\n",
       "    </tr>\n",
       "  </tbody>\n",
       "</table>\n",
       "</div>"
      ],
      "text/plain": [
       "     plz                                               note  einwohner  \\\n",
       "0  64743  Situation unklar, evtl. haben die HÃ¤user Marb...          3   \n",
       "1  81248                                     81248 MÃ¼nchen        121   \n",
       "2  60315                     60315 Frankfurt am Main (FOUR)          0   \n",
       "3  99331                                      99331 Geratal       4523   \n",
       "4  60312                 60312 Frankfurt am Main (Omniturm)          0   \n",
       "\n",
       "         qkm                                           geometry  \n",
       "0   0.082066  POLYGON ((8.98124 49.60761, 8.98312 49.60748, ...  \n",
       "1   1.984763  POLYGON ((11.39468 48.14729, 11.39490 48.14780...  \n",
       "2   0.017285  POLYGON ((8.67254 50.11264, 8.67258 50.11265, ...  \n",
       "3  20.207080  POLYGON ((10.79153 50.69477, 10.79178 50.69819...  \n",
       "4   0.001829  POLYGON ((8.67262 50.11164, 8.67311 50.11182, ...  "
      ]
     },
     "execution_count": 7,
     "metadata": {},
     "output_type": "execute_result"
    }
   ],
   "source": [
    "current_directory = os.curdir\n",
    "# www.suche-postleitzahl.org/downloads \n",
    "filepath_plz = r'../data/map/'\n",
    "#Create map of germany \n",
    "plz_shape_df = gpd.read_file(os.path.join(filepath_plz,'plz-5stellig.shp'), dtype={'plz': str})\n",
    "# Make sure you read postal codes as strings, otherwise \n",
    "# the postal code 01110 will be parsed as the number 1110. \n",
    "plz_shape_df.head()"
   ]
  },
  {
   "cell_type": "code",
   "execution_count": 8,
   "metadata": {},
   "outputs": [],
   "source": [
    "#Create dict of the stations and their long lat\n",
    "col_to_conv_to_dict = bw_response_stations[['Länge', 'Breite', 'Stationsname']]\n",
    "stations_dict = col_to_conv_to_dict.set_index('Stationsname').apply(tuple, axis=1).to_dict()\n",
    "tuebingen = {'Tübingen':(9.057645, 48.521637)}\n",
    "stations_dict.update(tuebingen)"
   ]
  },
  {
   "cell_type": "code",
   "execution_count": 9,
   "metadata": {},
   "outputs": [
    {
     "name": "stdout",
     "output_type": "stream",
     "text": [
      "{'Altheim, Kreis Biberach': (9.46, 48.148), 'Baden-Baden-Geroldsau': (8.246, 48.727), 'Balingen-Bronnhaupten': (8.813, 48.264), 'Buchen, Kr. Neckar-Odenwald': (9.321, 49.518), 'Buchenbach': (7.998, 47.963), 'Dachsberg-Wolpadingen': (8.106, 47.7), 'Ellwangen-Rindelbach': (10.131, 48.99), 'Elzach-Fisnacht': (8.109, 48.201), 'Emmendingen-Mundingen': (7.835, 48.138), 'Eppingen-Elsenz': (8.848, 49.166), 'Friedrichshafen-Unterraderach': (9.441, 47.685), 'Geisingen': (8.647, 47.924), 'Großerlach-Mannenweiler': (9.603, 49.021), 'Hechingen': (8.98, 48.375), 'Hermaringen-Allewind': (10.267, 48.61), 'Kirchberg/Jagst-Herboldshausen': (9.98, 49.18), 'Merklingen': (9.764, 48.512), 'Müllheim': (7.639, 47.806), 'Münsingen-Apfelstetten': (9.484, 48.385), 'Neubulach-Oberhaugstett': (8.68, 48.652), 'Notzingen': (9.463, 48.671), 'Obersulm-Willsbach': (9.353, 49.128), 'Ohlsbach': (7.993, 48.433), 'Pforzheim-Ispringen': (8.697, 48.933), 'Pfullendorf': (9.287, 47.935), 'Renningen-Ihinger Hof': (8.924, 48.743), 'Rheinau-Memprechtshofen': (7.994, 48.67), 'Rottweil': (8.636, 48.182), 'Sachsenheim': (9.071, 48.957), 'Schwäbisch Gmünd-Weiler': (9.874, 48.77), 'Sigmaringen-Laiz': (9.194, 48.072), 'Singen': (8.822, 47.774), 'Villingen-Schwenningen': (8.461, 48.045), 'Weingarten, Kr. Ravensburg': (9.621, 47.806), 'Wolfach': (8.239, 48.295), 'Wutöschingen-Ofteringen': (8.38, 47.678), 'Tübingen': (9.057645, 48.521637)}\n"
     ]
    }
   ],
   "source": [
    "\n",
    "# Assuming bw_response_stations is a DataFrame containing 'Länge', 'Breite', and 'Stationsname'\n",
    "# Create dict of the stations and their long lat\n",
    "col_to_conv_to_dict = bw_response_stations[['Länge', 'Breite', 'Stationsname']]\n",
    "stations_dict = col_to_conv_to_dict.set_index('Stationsname').apply(tuple, axis=1).to_dict()\n",
    "\n",
    "# Add Tübingen to the dictionary\n",
    "tuebingen = {'Tübingen': (9.057645, 48.521637)}\n",
    "stations_dict.update(tuebingen)\n",
    "# Print the updated dictionary\n",
    "print(stations_dict)\n"
   ]
  },
  {
   "cell_type": "code",
   "execution_count": 10,
   "metadata": {},
   "outputs": [
    {
     "name": "stdout",
     "output_type": "stream",
     "text": [
      "       plz  einwohner         qkm  \\\n",
      "546  74744       2221   53.882924   \n",
      "547  74736       6910   87.002504   \n",
      "548  74749       2090   40.883933   \n",
      "550  74731      11320  106.517171   \n",
      "552  75399       2273    6.365145   \n",
      "\n",
      "                                              geometry      ags  \\\n",
      "546  POLYGON ((9.49069 49.48888, 9.49113 49.48910, ...  8128138   \n",
      "547  POLYGON ((9.38375 49.64278, 9.38408 49.64293, ...  8225032   \n",
      "548  POLYGON ((9.42533 49.48844, 9.42537 49.48868, ...  8225082   \n",
      "550  POLYGON ((9.25891 49.59210, 9.25902 49.59267, ...  8225109   \n",
      "552  POLYGON ((8.65376 48.81218, 8.65586 48.81223, ...  8235073   \n",
      "\n",
      "                  ort              landkreis         bundesland  \n",
      "546             Ahorn      Main-Tauber-Kreis  Baden-Württemberg  \n",
      "547          Hardheim  Neckar-Odenwald-Kreis  Baden-Württemberg  \n",
      "548         Rosenberg  Neckar-Odenwald-Kreis  Baden-Württemberg  \n",
      "550          Walldürn  Neckar-Odenwald-Kreis  Baden-Württemberg  \n",
      "552  Unterreichenbach         Landkreis Calw  Baden-Württemberg  \n"
     ]
    }
   ],
   "source": [
    "plz_region_df = pd.read_csv(\n",
    "    '../data/map/zuordnung_plz_ort.csv', \n",
    "    sep=',', \n",
    "    dtype={'plz': str}\n",
    ")\n",
    "plz_region_df.drop('osm_id', axis=1, inplace=True)\n",
    "\n",
    "# Merge data.\n",
    "germany_df = pd.merge(\n",
    "    left=plz_shape_df, \n",
    "    right=plz_region_df, \n",
    "    on='plz',\n",
    "    how='inner'\n",
    ")\n",
    "\n",
    "germany_df.drop(['note'], axis=1, inplace=True)\n",
    "\n",
    "bawu_df = germany_df[germany_df['bundesland']== 'Baden-Württemberg']\n",
    "print(bawu_df.head())"
   ]
  },
  {
   "cell_type": "code",
   "execution_count": 11,
   "metadata": {},
   "outputs": [],
   "source": [
    "plt.rcParams.update(figsizes.icml2022_half())\n",
    "from tueplots import figsizes, fonts\n",
    "import matplotlib.font_manager\n",
    "\n",
    "font_dirs = [\"/usr/share/fonts/truetype/cmu/\"]\n",
    "font_files = matplotlib.font_manager.findSystemFonts(fontpaths=font_dirs)\n",
    "\n",
    "params = {\n",
    "    'text.usetex': False,\n",
    "    'font.serif': ['CMU Serif'],  # Specify the correct font name\n",
    "    'mathtext.fontset': 'stix',\n",
    "    'mathtext.rm': 'serif',\n",
    "    'mathtext.it': 'serif:italic',\n",
    "    'mathtext.bf': 'serif:bold',\n",
    "    'font.family': 'serif',\n",
    "}\n",
    "\n",
    "plt.rcParams.update(params)\n",
    "\n",
    "\n",
    "\n"
   ]
  },
  {
   "cell_type": "code",
   "execution_count": 34,
   "metadata": {},
   "outputs": [
    {
     "data": {
      "image/png": "[encoded data removed]",
      "text/plain": [
       "<Figure size 325x200.861 with 1 Axes>"
      ]
     },
     "metadata": {},
     "output_type": "display_data"
    }
   ],
   "source": [
    "fig, ax = plt.subplots()\n",
    "\n",
    "stations_dict.update({'Tübingen': (9.057645, 48.521637)})\n",
    "#plz_shape_df.plot(ax=ax, color='orange', alpha=0.8)\n",
    "bawu_df.plot(ax = ax,\n",
    "             categorical = True,\n",
    "             color= tue_plot_colors[4],\n",
    "             alpha = 1)\n",
    "# Plot cities. \n",
    "for c in stations_dict.keys():\n",
    "    # Plot city name.\n",
    "\n",
    "    # Plot city location centroid.\n",
    "    dot_color = tue_plot_colors[3] if c == 'Tübingen' else tue_plot_colors[6] if c == 'Dachsberg-Wolpadingen' else tue_plot_colors[1]\n",
    "    ax.plot(\n",
    "        stations_dict[c][0], \n",
    "        stations_dict[c][1], \n",
    "        marker='.',\n",
    "        c=dot_color, \n",
    "        alpha=0.9, \n",
    "    )\n",
    "# Hide the axes spines\n",
    "ax.spines['top'].set_visible(False)\n",
    "ax.spines['right'].set_visible(False)\n",
    "ax.spines['bottom'].set_visible(False)\n",
    "ax.spines['left'].set_visible(False)\n",
    "ax.set( \n",
    "    xticks = [],\n",
    "    yticks = [],\n",
    "    #aspect=1.3, \n",
    "    #xlabel = 'Longitude',\n",
    "    #ylabel = 'Latitude',\n",
    ")\n",
    "plt.savefig('../docs/report/fig/fig_bawu_map.pdf')"
   ]
  },
  {
   "cell_type": "markdown",
   "metadata": {},
   "source": []
  },
  {
   "cell_type": "code",
   "execution_count": 13,
   "metadata": {},
   "outputs": [],
   "source": [
    "import datetime\n",
    "import logging\n",
    "import sys\n",
    "from datetime import datetime\n",
    "\n",
    "import matplotlib.pyplot as plt\n",
    "import numpy as np\n",
    "from matplotlib import gridspec\n",
    "from tqdm import tqdm\n",
    "from utils.forecast import get_dwd_forecast\n",
    "\n",
    "# sys.path.append(\"/\".join(sys.path[0].split(\"/\")[:-1]))\n",
    "\n",
    "from studies.utils.forecast import get_dwd_forecast\n",
    "from studies.utils.dwd_data import DWD_Dataset, Feature\n",
    "\n",
    "import polars as pl\n",
    "FIG_SAVE_BASE_PATH = \"../docs/report/fig/\"\n",
    "DOUBLE_COL_FIG_SIZE = (15, 5)"
   ]
  },
  {
   "cell_type": "code",
   "execution_count": 14,
   "metadata": {},
   "outputs": [
    {
     "name": "stderr",
     "output_type": "stream",
     "text": [
      "WARNING:root:There is not forecast data for temperature at model = 2. You will find Nan\n"
     ]
    }
   ],
   "source": [
    "dataset_model_1 = DWD_Dataset(source_path=\"../data/dwd\", model=1,)\n",
    "dataset_model_2 = DWD_Dataset(source_path=\"../data/dwd\", model=2,)\n",
    "merge1 = dataset_model_1.get_merge()\n",
    "merge2 = dataset_model_2.get_merge()\n",
    "error_by_station_model_1 = merge1.groupby([\"station_id\"]).mean()\n",
    "std_error_by_station_preliminary_model_1 = merge1.groupby([\"station_id\"]).std()\n",
    "station_5688 = merge1[merge1[\"station_id\"]==\"5688\"]\n"
   ]
  },
  {
   "cell_type": "code",
   "execution_count": 15,
   "metadata": {},
   "outputs": [],
   "source": [
    "extreme_weather = dataset_model_1.get_historical()"
   ]
  },
  {
   "cell_type": "code",
   "execution_count": 16,
   "metadata": {},
   "outputs": [
    {
     "data": {
      "text/html": [
       "<div>\n",
       "<style scoped>\n",
       "    .dataframe tbody tr th:only-of-type {\n",
       "        vertical-align: middle;\n",
       "    }\n",
       "\n",
       "    .dataframe tbody tr th {\n",
       "        vertical-align: top;\n",
       "    }\n",
       "\n",
       "    .dataframe thead th {\n",
       "        text-align: right;\n",
       "    }\n",
       "</style>\n",
       "<table border=\"1\" class=\"dataframe\">\n",
       "  <thead>\n",
       "    <tr style=\"text-align: right;\">\n",
       "      <th></th>\n",
       "      <th>station_id</th>\n",
       "      <th>time</th>\n",
       "      <th>precipitation_real</th>\n",
       "      <th>air_temperature_real</th>\n",
       "    </tr>\n",
       "  </thead>\n",
       "  <tbody>\n",
       "    <tr>\n",
       "      <th>12168</th>\n",
       "      <td>5562</td>\n",
       "      <td>2023-12-08 00:00:00</td>\n",
       "      <td>0.0</td>\n",
       "      <td>0.3</td>\n",
       "    </tr>\n",
       "    <tr>\n",
       "      <th>12169</th>\n",
       "      <td>5562</td>\n",
       "      <td>2023-12-08 01:00:00</td>\n",
       "      <td>0.0</td>\n",
       "      <td>0.3</td>\n",
       "    </tr>\n",
       "    <tr>\n",
       "      <th>12170</th>\n",
       "      <td>5562</td>\n",
       "      <td>2023-12-08 02:00:00</td>\n",
       "      <td>0.0</td>\n",
       "      <td>0.6</td>\n",
       "    </tr>\n",
       "    <tr>\n",
       "      <th>12171</th>\n",
       "      <td>5562</td>\n",
       "      <td>2023-12-08 03:00:00</td>\n",
       "      <td>0.0</td>\n",
       "      <td>-0.3</td>\n",
       "    </tr>\n",
       "    <tr>\n",
       "      <th>12172</th>\n",
       "      <td>5562</td>\n",
       "      <td>2023-12-08 04:00:00</td>\n",
       "      <td>0.0</td>\n",
       "      <td>0.2</td>\n",
       "    </tr>\n",
       "    <tr>\n",
       "      <th>...</th>\n",
       "      <td>...</td>\n",
       "      <td>...</td>\n",
       "      <td>...</td>\n",
       "      <td>...</td>\n",
       "    </tr>\n",
       "    <tr>\n",
       "      <th>475188</th>\n",
       "      <td>6263</td>\n",
       "      <td>2024-01-19 19:00:00</td>\n",
       "      <td>0.0</td>\n",
       "      <td>-3.9</td>\n",
       "    </tr>\n",
       "    <tr>\n",
       "      <th>475189</th>\n",
       "      <td>6263</td>\n",
       "      <td>2024-01-19 20:00:00</td>\n",
       "      <td>0.0</td>\n",
       "      <td>-5.9</td>\n",
       "    </tr>\n",
       "    <tr>\n",
       "      <th>475190</th>\n",
       "      <td>6263</td>\n",
       "      <td>2024-01-19 21:00:00</td>\n",
       "      <td>0.0</td>\n",
       "      <td>-5.3</td>\n",
       "    </tr>\n",
       "    <tr>\n",
       "      <th>475191</th>\n",
       "      <td>6263</td>\n",
       "      <td>2024-01-19 22:00:00</td>\n",
       "      <td>0.0</td>\n",
       "      <td>-6.2</td>\n",
       "    </tr>\n",
       "    <tr>\n",
       "      <th>475192</th>\n",
       "      <td>6263</td>\n",
       "      <td>2024-01-19 23:00:00</td>\n",
       "      <td>0.0</td>\n",
       "      <td>-5.9</td>\n",
       "    </tr>\n",
       "  </tbody>\n",
       "</table>\n",
       "<p>37152 rows × 4 columns</p>\n",
       "</div>"
      ],
      "text/plain": [
       "        station_id                time  precipitation_real  \\\n",
       "12168         5562 2023-12-08 00:00:00                 0.0   \n",
       "12169         5562 2023-12-08 01:00:00                 0.0   \n",
       "12170         5562 2023-12-08 02:00:00                 0.0   \n",
       "12171         5562 2023-12-08 03:00:00                 0.0   \n",
       "12172         5562 2023-12-08 04:00:00                 0.0   \n",
       "...            ...                 ...                 ...   \n",
       "475188        6263 2024-01-19 19:00:00                 0.0   \n",
       "475189        6263 2024-01-19 20:00:00                 0.0   \n",
       "475190        6263 2024-01-19 21:00:00                 0.0   \n",
       "475191        6263 2024-01-19 22:00:00                 0.0   \n",
       "475192        6263 2024-01-19 23:00:00                 0.0   \n",
       "\n",
       "        air_temperature_real  \n",
       "12168                    0.3  \n",
       "12169                    0.3  \n",
       "12170                    0.6  \n",
       "12171                   -0.3  \n",
       "12172                    0.2  \n",
       "...                      ...  \n",
       "475188                  -3.9  \n",
       "475189                  -5.9  \n",
       "475190                  -5.3  \n",
       "475191                  -6.2  \n",
       "475192                  -5.9  \n",
       "\n",
       "[37152 rows x 4 columns]"
      ]
     },
     "execution_count": 16,
     "metadata": {},
     "output_type": "execute_result"
    }
   ],
   "source": [
    "extreme_weather"
   ]
  },
  {
   "cell_type": "code",
   "execution_count": 17,
   "metadata": {},
   "outputs": [
    {
     "name": "stdout",
     "output_type": "stream",
     "text": [
      "error_type\n",
      "Positive    24\n",
      "Negative    12\n",
      "Name: count, dtype: int64\n"
     ]
    },
    {
     "name": "stderr",
     "output_type": "stream",
     "text": [
      "/tmp/ipykernel_35544/786856227.py:1: SettingWithCopyWarning: \n",
      "A value is trying to be set on a copy of a slice from a DataFrame.\n",
      "Try using .loc[row_indexer,col_indexer] = value instead\n",
      "\n",
      "See the caveats in the documentation: https://pandas.pydata.org/pandas-docs/stable/user_guide/indexing.html#returning-a-view-versus-a-copy\n",
      "  bw_response_stations[\"station_id\"] = bw_response_stations[\"Stations_ID\"].copy()\n"
     ]
    }
   ],
   "source": [
    "bw_response_stations[\"station_id\"] = bw_response_stations[\"Stations_ID\"].copy()\n",
    "\n",
    "error_by_station_plz = pd.merge(\n",
    "    left=bw_response_stations, \n",
    "    right=error_by_station_model_1, \n",
    "    on='station_id',\n",
    "    how='inner'\n",
    ")\n",
    "error_by_station_model_1[\"error_type\"] = np.where(error_by_station_model_1[\"precipitation_error\"] < 0, \"Negative\", \"Positive\")\n",
    "# Count the number of stations with positive and negative mean errors\n",
    "optimists_station = error_by_station_model_1[\"error_type\"].value_counts()\n",
    "print(optimists_station)\n"
   ]
  },
  {
   "cell_type": "code",
   "execution_count": 18,
   "metadata": {},
   "outputs": [
    {
     "data": {
      "text/plain": [
       "<BarContainer object of 36 artists>"
      ]
     },
     "execution_count": 18,
     "metadata": {},
     "output_type": "execute_result"
    },
    {
     "data": {
      "image/png": "[encoded data removed]",
      "text/plain": [
       "<Figure size 2000x2000 with 1 Axes>"
      ]
     },
     "metadata": {},
     "output_type": "display_data"
    }
   ],
   "source": [
    "fig, ax = plt.subplots(figsize=(20,20))\n",
    "ax.bar(\n",
    "    error_by_station_plz.index,\n",
    "    error_by_station_plz[\"precipitation_error\"],\n",
    "    tick_label = error_by_station_plz[\"station_id\"]\n",
    ")"
   ]
  },
  {
   "cell_type": "code",
   "execution_count": 19,
   "metadata": {},
   "outputs": [
    {
     "name": "stderr",
     "output_type": "stream",
     "text": [
      "/tmp/ipykernel_35544/3618444368.py:11: UserWarning: set_ticklabels() should only be used with a fixed number of ticks, i.e. after set_ticks() or using a FixedLocator.\n",
      "  ax.set_xticklabels(error_by_station_plz[\"Stationsname\"].sort_index(), rotation = 45)\n"
     ]
    },
    {
     "name": "stdout",
     "output_type": "stream",
     "text": [
      "1   -0.013503\n",
      "Name: precipitation_error, dtype: float64\n"
     ]
    },
    {
     "data": {
      "image/png": "[encoded data removed]",
      "text/plain": [
       "<Figure size 325x200.861 with 1 Axes>"
      ]
     },
     "metadata": {},
     "output_type": "display_data"
    }
   ],
   "source": [
    "x_axis_range = np.arange(0,len(error_by_station_plz[\"station_id\"]))\n",
    "\n",
    "fig, ax = plt.subplots()\n",
    "ax.scatter(\n",
    "    error_by_station_plz.index,\n",
    "    error_by_station_plz[\"precipitation_error\"],\n",
    "    marker=\".\"\n",
    ")\n",
    "\n",
    "ax.set(title = 'Precipitation Difference by Station')\n",
    "ax.set_xticklabels(error_by_station_plz[\"Stationsname\"].sort_index(), rotation = 45)\n",
    "print(error_by_station_plz[\"precipitation_error\"].loc[error_by_station_plz[\"Stationsname\"]==\"Baden-Baden-Geroldsau\"])"
   ]
  }
 ],
 "metadata": {
  "kernelspec": {
   "display_name": "DataLiteracy",
   "language": "python",
   "name": "python3"
  },
  "language_info": {
   "codemirror_mode": {
    "name": "ipython",
    "version": 3
   },
   "file_extension": ".py",
   "mimetype": "text/x-python",
   "name": "python",
   "nbconvert_exporter": "python",
   "pygments_lexer": "ipython3",
   "version": "3.11.7"
  }
 },
 "nbformat": 4,
 "nbformat_minor": 2
}
