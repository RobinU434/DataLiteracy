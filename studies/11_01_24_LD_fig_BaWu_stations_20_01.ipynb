{
 "cells": [
  {
   "cell_type": "code",
   "execution_count": 1,
   "metadata": {},
   "outputs": [
    {
     "name": "stderr",
     "output_type": "stream",
     "text": [
      "/tmp/ipykernel_122326/1039141050.py:12: MatplotlibDeprecationWarning: The get_cmap function was deprecated in Matplotlib 3.7 and will be removed two minor releases later. Use ``matplotlib.colormaps[name]`` or ``matplotlib.colormaps.get_cmap(obj)`` instead.\n",
      "  cmap_color = plt.cm.get_cmap('Pastel1')\n",
      "/tmp/ipykernel_122326/1039141050.py:13: MatplotlibDeprecationWarning: The get_cmap function was deprecated in Matplotlib 3.7 and will be removed two minor releases later. Use ``matplotlib.colormaps[name]`` or ``matplotlib.colormaps.get_cmap(obj)`` instead.\n",
      "  cdot_color = plt.cm.get_cmap('tab20')\n"
     ]
    }
   ],
   "source": [
    "\n",
    "import pandas as pd\n",
    "import geopandas as gpd\n",
    "import matplotlib.pyplot as plt\n",
    "import os\n",
    "import numpy as np\n",
    "import matplotlib.lines as mlines\n",
    "from tueplots import cycler, markers\n",
    "from tueplots.constants import markers as marker_constants\n",
    "from tueplots.constants.color import palettes\n",
    "from tueplots import figsizes, fonts\n",
    "#Colours\n",
    "cmap_color = plt.cm.get_cmap('Pastel1')\n",
    "cdot_color = plt.cm.get_cmap('tab20')"
   ]
  },
  {
   "cell_type": "code",
   "execution_count": 2,
   "metadata": {},
   "outputs": [
    {
     "data": {
      "text/html": [
       "<div>\n",
       "<style scoped>\n",
       "    .dataframe tbody tr th:only-of-type {\n",
       "        vertical-align: middle;\n",
       "    }\n",
       "\n",
       "    .dataframe tbody tr th {\n",
       "        vertical-align: top;\n",
       "    }\n",
       "\n",
       "    .dataframe thead th {\n",
       "        text-align: right;\n",
       "    }\n",
       "</style>\n",
       "<table border=\"1\" class=\"dataframe\">\n",
       "  <thead>\n",
       "    <tr style=\"text-align: right;\">\n",
       "      <th></th>\n",
       "      <th>Stationsname</th>\n",
       "      <th>Stations_ID</th>\n",
       "      <th>Kennung</th>\n",
       "      <th>Stations-kennung</th>\n",
       "      <th>Breite</th>\n",
       "      <th>Länge</th>\n",
       "      <th>Stations-höhe</th>\n",
       "      <th>Flussgebiet</th>\n",
       "      <th>Bundesland</th>\n",
       "      <th>Beginn</th>\n",
       "      <th>Ende</th>\n",
       "    </tr>\n",
       "  </thead>\n",
       "  <tbody>\n",
       "    <tr>\n",
       "      <th>0</th>\n",
       "      <td>Aach</td>\n",
       "      <td>1</td>\n",
       "      <td>KL</td>\n",
       "      <td>02783</td>\n",
       "      <td>47.8410</td>\n",
       "      <td>8.8490</td>\n",
       "      <td>478</td>\n",
       "      <td></td>\n",
       "      <td>BW</td>\n",
       "      <td>1937-01-01</td>\n",
       "      <td>1986-06-30</td>\n",
       "    </tr>\n",
       "    <tr>\n",
       "      <th>1</th>\n",
       "      <td>Aach</td>\n",
       "      <td>1</td>\n",
       "      <td>RR</td>\n",
       "      <td>70191</td>\n",
       "      <td>47.8410</td>\n",
       "      <td>8.8490</td>\n",
       "      <td>478</td>\n",
       "      <td></td>\n",
       "      <td>BW</td>\n",
       "      <td>1912-01-01</td>\n",
       "      <td>1986-06-30</td>\n",
       "    </tr>\n",
       "    <tr>\n",
       "      <th>2</th>\n",
       "      <td>Aach/Hegau</td>\n",
       "      <td>10771</td>\n",
       "      <td>PE</td>\n",
       "      <td>10771</td>\n",
       "      <td>47.8500</td>\n",
       "      <td>8.8500</td>\n",
       "      <td>480</td>\n",
       "      <td></td>\n",
       "      <td>BW</td>\n",
       "      <td>1951-02-27</td>\n",
       "      <td>2000-06-15</td>\n",
       "    </tr>\n",
       "    <tr>\n",
       "      <th>3</th>\n",
       "      <td>Aachen</td>\n",
       "      <td>3</td>\n",
       "      <td>EB</td>\n",
       "      <td>02205</td>\n",
       "      <td>50.7827</td>\n",
       "      <td>6.0941</td>\n",
       "      <td>202</td>\n",
       "      <td>803100</td>\n",
       "      <td>NW</td>\n",
       "      <td>1951-01-01</td>\n",
       "      <td>2011-03-31</td>\n",
       "    </tr>\n",
       "    <tr>\n",
       "      <th>4</th>\n",
       "      <td>Aachen</td>\n",
       "      <td>3</td>\n",
       "      <td>FF</td>\n",
       "      <td>02205</td>\n",
       "      <td>50.7827</td>\n",
       "      <td>6.0941</td>\n",
       "      <td>202</td>\n",
       "      <td>803100</td>\n",
       "      <td>NW</td>\n",
       "      <td>1937-01-01</td>\n",
       "      <td>2011-03-31</td>\n",
       "    </tr>\n",
       "  </tbody>\n",
       "</table>\n",
       "</div>"
      ],
      "text/plain": [
       "  Stationsname  Stations_ID Kennung Stations-kennung   Breite   Länge  \\\n",
       "0         Aach            1      KL            02783  47.8410  8.8490   \n",
       "1         Aach            1      RR            70191  47.8410  8.8490   \n",
       "2   Aach/Hegau        10771      PE            10771  47.8500  8.8500   \n",
       "3       Aachen            3      EB            02205  50.7827  6.0941   \n",
       "4       Aachen            3      FF            02205  50.7827  6.0941   \n",
       "\n",
       "   Stations-höhe Flussgebiet Bundesland     Beginn       Ende  \n",
       "0            478                     BW 1937-01-01 1986-06-30  \n",
       "1            478                     BW 1912-01-01 1986-06-30  \n",
       "2            480                     BW 1951-02-27 2000-06-15  \n",
       "3            202      803100         NW 1951-01-01 2011-03-31  \n",
       "4            202      803100         NW 1937-01-01 2011-03-31  "
      ]
     },
     "execution_count": 2,
     "metadata": {},
     "output_type": "execute_result"
    }
   ],
   "source": [
    "stations = pd.read_csv(\"../project/data/dwd/stations.tsv\", sep=\"\\t\")\n",
    "\n",
    "#remove stations with empty Beginn or Ende\n",
    "mask = stations[\"Beginn\"] == \" \"\n",
    "stations = stations[~mask]\n",
    "mask = stations[\"Ende\"] == \" \"\n",
    "stations = stations[~mask]\n",
    "\n",
    "stations[\"Beginn\"] = pd.to_datetime(stations[\"Beginn\"], dayfirst=True)\n",
    "stations[\"Ende\"] = pd.to_datetime(stations[\"Ende\"], dayfirst=True)\n",
    "\n",
    "stations.head()"
   ]
  },
  {
   "cell_type": "code",
   "execution_count": 3,
   "metadata": {},
   "outputs": [],
   "source": [
    "from datetime import datetime\n",
    "bw_stations = stations.loc[stations[\"Bundesland\"] == \"BW\"].drop_duplicates(subset= [\"Stationsname\", \"Stations-kennung\"])\n",
    "\n",
    "current_bw_stations = bw_stations[bw_stations[\"Ende\"] >= datetime(day=2, month=12, year=2023)]\n",
    "id_str = current_bw_stations[\"Stations-kennung\"].to_string(index=False).replace(\"\\n \", \",\")"
   ]
  },
  {
   "cell_type": "code",
   "execution_count": 4,
   "metadata": {},
   "outputs": [],
   "source": [
    "# bw_response_stations = current_bw_stations[current_bw_stations[\"Stations-kennung\"].isin(response_ids)]\n",
    "a = [\"Q771\",  \"Q411\",  \"Q740\",  \"Q055\",  \"Q811\",  \"Q824\",  \"Q382\",  \"Q712\",  \"Q702\",  \"Q221\",  \"Q978\",  \"Q848\",  \"Q351\",  \"Q651\",  \"Q485\",  \"Q292\",  \"Q579\",  \"Q887\",  \"Q671\",  \"Q437\",  \"Q061\",  \"Q242\",  \"Q518\",  \"Q332\",  \"Q864\",  \"Q440\",  \"Q404\",  \"Q733\",  \"Q341\",  \"Q378\",  \"Q788\",  \"Q942\",  \"Q738\",  \"Q879\",  \"Q622\",  \"Q926\"]\n",
    "bw_response_stations = current_bw_stations[current_bw_stations[\"Stations-kennung\"].isin(a)]"
   ]
  },
  {
   "cell_type": "code",
   "execution_count": 5,
   "metadata": {},
   "outputs": [
    {
     "data": {
      "text/plain": [
       "array([ 4189,   257, 13965,   755,   757,  5688,  1197,  1214,  1224,\n",
       "        1255,  6258,  1584,  6259,  2074,  7331,  2575,  2814,   259,\n",
       "        3402,  5562,  6275,  3734,  1602,  3925,  3927,  4160,  4169,\n",
       "        4300,  4349,  6262,  4703,  6263,  5229,  4094,  5664,  5731])"
      ]
     },
     "execution_count": 5,
     "metadata": {},
     "output_type": "execute_result"
    }
   ],
   "source": [
    "bw_response_stations[\"Stations_ID\"].values"
   ]
  },
  {
   "cell_type": "code",
   "execution_count": 6,
   "metadata": {},
   "outputs": [
    {
     "data": {
      "text/html": [
       "<div>\n",
       "<style scoped>\n",
       "    .dataframe tbody tr th:only-of-type {\n",
       "        vertical-align: middle;\n",
       "    }\n",
       "\n",
       "    .dataframe tbody tr th {\n",
       "        vertical-align: top;\n",
       "    }\n",
       "\n",
       "    .dataframe thead th {\n",
       "        text-align: right;\n",
       "    }\n",
       "</style>\n",
       "<table border=\"1\" class=\"dataframe\">\n",
       "  <thead>\n",
       "    <tr style=\"text-align: right;\">\n",
       "      <th></th>\n",
       "      <th>plz</th>\n",
       "      <th>note</th>\n",
       "      <th>einwohner</th>\n",
       "      <th>qkm</th>\n",
       "      <th>geometry</th>\n",
       "    </tr>\n",
       "  </thead>\n",
       "  <tbody>\n",
       "    <tr>\n",
       "      <th>0</th>\n",
       "      <td>64743</td>\n",
       "      <td>Situation unklar, evtl. haben die HÃ¤user Marb...</td>\n",
       "      <td>3</td>\n",
       "      <td>0.082066</td>\n",
       "      <td>POLYGON ((8.98124 49.60761, 8.98312 49.60748, ...</td>\n",
       "    </tr>\n",
       "    <tr>\n",
       "      <th>1</th>\n",
       "      <td>81248</td>\n",
       "      <td>81248 MÃ¼nchen</td>\n",
       "      <td>121</td>\n",
       "      <td>1.984763</td>\n",
       "      <td>POLYGON ((11.39468 48.14729, 11.39490 48.14780...</td>\n",
       "    </tr>\n",
       "    <tr>\n",
       "      <th>2</th>\n",
       "      <td>60315</td>\n",
       "      <td>60315 Frankfurt am Main (FOUR)</td>\n",
       "      <td>0</td>\n",
       "      <td>0.017285</td>\n",
       "      <td>POLYGON ((8.67254 50.11264, 8.67258 50.11265, ...</td>\n",
       "    </tr>\n",
       "    <tr>\n",
       "      <th>3</th>\n",
       "      <td>99331</td>\n",
       "      <td>99331 Geratal</td>\n",
       "      <td>4523</td>\n",
       "      <td>20.207080</td>\n",
       "      <td>POLYGON ((10.79153 50.69477, 10.79178 50.69819...</td>\n",
       "    </tr>\n",
       "    <tr>\n",
       "      <th>4</th>\n",
       "      <td>60312</td>\n",
       "      <td>60312 Frankfurt am Main (Omniturm)</td>\n",
       "      <td>0</td>\n",
       "      <td>0.001829</td>\n",
       "      <td>POLYGON ((8.67262 50.11164, 8.67311 50.11182, ...</td>\n",
       "    </tr>\n",
       "  </tbody>\n",
       "</table>\n",
       "</div>"
      ],
      "text/plain": [
       "     plz                                               note  einwohner  \\\n",
       "0  64743  Situation unklar, evtl. haben die HÃ¤user Marb...          3   \n",
       "1  81248                                     81248 MÃ¼nchen        121   \n",
       "2  60315                     60315 Frankfurt am Main (FOUR)          0   \n",
       "3  99331                                      99331 Geratal       4523   \n",
       "4  60312                 60312 Frankfurt am Main (Omniturm)          0   \n",
       "\n",
       "         qkm                                           geometry  \n",
       "0   0.082066  POLYGON ((8.98124 49.60761, 8.98312 49.60748, ...  \n",
       "1   1.984763  POLYGON ((11.39468 48.14729, 11.39490 48.14780...  \n",
       "2   0.017285  POLYGON ((8.67254 50.11264, 8.67258 50.11265, ...  \n",
       "3  20.207080  POLYGON ((10.79153 50.69477, 10.79178 50.69819...  \n",
       "4   0.001829  POLYGON ((8.67262 50.11164, 8.67311 50.11182, ...  "
      ]
     },
     "execution_count": 6,
     "metadata": {},
     "output_type": "execute_result"
    }
   ],
   "source": [
    "current_directory = os.curdir\n",
    "# www.suche-postleitzahl.org/downloads \n",
    "filepath_plz = r'../data/map/'\n",
    "#Create map of germany \n",
    "plz_shape_df = gpd.read_file(os.path.join(filepath_plz,'plz-5stellig.shp'), dtype={'plz': str})\n",
    "# Make sure you read postal codes as strings, otherwise \n",
    "# the postal code 01110 will be parsed as the number 1110. \n",
    "plz_shape_df.head()"
   ]
  },
  {
   "cell_type": "code",
   "execution_count": 7,
   "metadata": {},
   "outputs": [],
   "source": [
    "#Create dict of the stations and their long lat\n",
    "col_to_conv_to_dict = bw_response_stations[['Länge', 'Breite', 'Stationsname']]\n",
    "stations_dict = col_to_conv_to_dict.set_index('Stationsname').apply(tuple, axis=1).to_dict()\n",
    "tuebingen = {'Tübingen':(9.057645, 48.521637)}\n",
    "stations_dict.update(tuebingen)"
   ]
  },
  {
   "cell_type": "code",
   "execution_count": 8,
   "metadata": {},
   "outputs": [
    {
     "name": "stdout",
     "output_type": "stream",
     "text": [
      "{'Altheim, Kreis Biberach': (9.46, 48.148), 'Baden-Baden-Geroldsau': (8.246, 48.727), 'Balingen-Bronnhaupten': (8.813, 48.264), 'Buchen, Kr. Neckar-Odenwald': (9.321, 49.518), 'Buchenbach': (7.998, 47.963), 'Dachsberg-Wolpadingen': (8.106, 47.7), 'Ellwangen-Rindelbach': (10.131, 48.99), 'Elzach-Fisnacht': (8.109, 48.201), 'Emmendingen-Mundingen': (7.835, 48.138), 'Eppingen-Elsenz': (8.848, 49.166), 'Friedrichshafen-Unterraderach': (9.441, 47.685), 'Geisingen': (8.647, 47.924), 'Großerlach-Mannenweiler': (9.603, 49.021), 'Hechingen': (8.98, 48.375), 'Hermaringen-Allewind': (10.267, 48.61), 'Kirchberg/Jagst-Herboldshausen': (9.98, 49.18), 'Merklingen': (9.764, 48.512), 'Müllheim': (7.639, 47.806), 'Münsingen-Apfelstetten': (9.484, 48.385), 'Neubulach-Oberhaugstett': (8.68, 48.652), 'Notzingen': (9.463, 48.671), 'Obersulm-Willsbach': (9.353, 49.128), 'Ohlsbach': (7.993, 48.433), 'Pforzheim-Ispringen': (8.697, 48.933), 'Pfullendorf': (9.287, 47.935), 'Renningen-Ihinger Hof': (8.924, 48.743), 'Rheinau-Memprechtshofen': (7.994, 48.67), 'Rottweil': (8.636, 48.182), 'Sachsenheim': (9.071, 48.957), 'Schwäbisch Gmünd-Weiler': (9.874, 48.77), 'Sigmaringen-Laiz': (9.194, 48.072), 'Singen': (8.822, 47.774), 'Villingen-Schwenningen': (8.461, 48.045), 'Weingarten, Kr. Ravensburg': (9.621, 47.806), 'Wolfach': (8.239, 48.295), 'Wutöschingen-Ofteringen': (8.38, 47.678), 'Tübingen': (9.057645, 48.521637)}\n"
     ]
    }
   ],
   "source": [
    "\n",
    "# Assuming bw_response_stations is a DataFrame containing 'Länge', 'Breite', and 'Stationsname'\n",
    "# Create dict of the stations and their long lat\n",
    "col_to_conv_to_dict = bw_response_stations[['Länge', 'Breite', 'Stationsname']]\n",
    "stations_dict = col_to_conv_to_dict.set_index('Stationsname').apply(tuple, axis=1).to_dict()\n",
    "\n",
    "# Add Tübingen to the dictionary\n",
    "tuebingen = {'Tübingen': (9.057645, 48.521637)}\n",
    "stations_dict.update(tuebingen)\n",
    "# Print the updated dictionary\n",
    "print(stations_dict)\n"
   ]
  },
  {
   "cell_type": "code",
   "execution_count": 9,
   "metadata": {},
   "outputs": [
    {
     "name": "stdout",
     "output_type": "stream",
     "text": [
      "       plz  einwohner         qkm  \\\n",
      "546  74744       2221   53.882924   \n",
      "547  74736       6910   87.002504   \n",
      "548  74749       2090   40.883933   \n",
      "550  74731      11320  106.517171   \n",
      "552  75399       2273    6.365145   \n",
      "\n",
      "                                              geometry      ags  \\\n",
      "546  POLYGON ((9.49069 49.48888, 9.49113 49.48910, ...  8128138   \n",
      "547  POLYGON ((9.38375 49.64278, 9.38408 49.64293, ...  8225032   \n",
      "548  POLYGON ((9.42533 49.48844, 9.42537 49.48868, ...  8225082   \n",
      "550  POLYGON ((9.25891 49.59210, 9.25902 49.59267, ...  8225109   \n",
      "552  POLYGON ((8.65376 48.81218, 8.65586 48.81223, ...  8235073   \n",
      "\n",
      "                  ort              landkreis         bundesland  \n",
      "546             Ahorn      Main-Tauber-Kreis  Baden-Württemberg  \n",
      "547          Hardheim  Neckar-Odenwald-Kreis  Baden-Württemberg  \n",
      "548         Rosenberg  Neckar-Odenwald-Kreis  Baden-Württemberg  \n",
      "550          Walldürn  Neckar-Odenwald-Kreis  Baden-Württemberg  \n",
      "552  Unterreichenbach         Landkreis Calw  Baden-Württemberg  \n"
     ]
    }
   ],
   "source": [
    "plz_region_df = pd.read_csv(\n",
    "    '../data/map/zuordnung_plz_ort.csv', \n",
    "    sep=',', \n",
    "    dtype={'plz': str}\n",
    ")\n",
    "plz_region_df.drop('osm_id', axis=1, inplace=True)\n",
    "\n",
    "# Merge data.\n",
    "germany_df = pd.merge(\n",
    "    left=plz_shape_df, \n",
    "    right=plz_region_df, \n",
    "    on='plz',\n",
    "    how='inner'\n",
    ")\n",
    "\n",
    "germany_df.drop(['note'], axis=1, inplace=True)\n",
    "\n",
    "bawu_df = germany_df[germany_df['bundesland']== 'Baden-Württemberg']\n",
    "print(bawu_df.head())"
   ]
  },
  {
   "cell_type": "code",
   "execution_count": 10,
   "metadata": {},
   "outputs": [],
   "source": [
    "plt.rcParams.update(figsizes.icml2022_half())\n",
    "import matplotlib.font_manager\n",
    "\n",
    "font_dirs = [\"/usr/share/fonts/truetype/cmu/\"]\n",
    "font_files = matplotlib.font_manager.findSystemFonts(fontpaths=font_dirs)\n",
    "\n",
    "params = {\n",
    "    'text.usetex': False,\n",
    "    'font.serif': ['CMU Serif'],  # Specify the correct font name\n",
    "    'mathtext.fontset': 'stix',\n",
    "    'mathtext.rm': 'serif',\n",
    "    'mathtext.it': 'serif:italic',\n",
    "    'mathtext.bf': 'serif:bold',\n",
    "    'font.family': 'serif',\n",
    "}\n",
    "\n",
    "plt.rcParams.update(params)"
   ]
  },
  {
   "cell_type": "code",
   "execution_count": 11,
   "metadata": {},
   "outputs": [
    {
     "data": {
      "image/png": "[encoded data removed]",
      "text/plain": [
       "<Figure size 325x200.861 with 1 Axes>"
      ]
     },
     "metadata": {},
     "output_type": "display_data"
    }
   ],
   "source": [
    "fig, ax = plt.subplots()\n",
    "\n",
    "stations_dict.update({'Tübingen': (9.057645, 48.521637)})\n",
    "#plz_shape_df.plot(ax=ax, color='orange', alpha=0.8)\n",
    "bawu_df.plot(ax = ax,\n",
    "             categorical = True,\n",
    "             color= cmap_color(0.15),\n",
    "             alpha = 1)\n",
    "# Plot cities. \n",
    "for c in stations_dict.keys():\n",
    "    # Plot city name.\n",
    "\n",
    "    # Plot city location centroid.\n",
    "    dot_color = cdot_color(0.1) if c == 'Tübingen' else 'red' if c == 'Dachsberg-Wolpadingen' else 'black'\n",
    "\n",
    "    ax.plot(\n",
    "        stations_dict[c][0], \n",
    "        stations_dict[c][1], \n",
    "        marker='.',\n",
    "        c=dot_color, \n",
    "        alpha=0.9 if c != 'Tübingen' else 0.2, \n",
    "    )\n",
    "\n",
    "ax.set(\n",
    "    title='Selected Stations in Baden-Württemberg', \n",
    "    xticks = [],\n",
    "    yticks = [],\n",
    "    #aspect=1.3, \n",
    "    #xlabel = 'Longitude',\n",
    "    #ylabel = 'Latitude',\n",
    ")\n",
    "plt.savefig('../figures/fig_bawu_map_stations_LD.pdf')"
   ]
  },
  {
   "cell_type": "markdown",
   "metadata": {},
   "source": []
  },
  {
   "cell_type": "code",
   "execution_count": 12,
   "metadata": {},
   "outputs": [],
   "source": [
    "import datetime\n",
    "import logging\n",
    "import sys\n",
    "from datetime import datetime\n",
    "\n",
    "import matplotlib.pyplot as plt\n",
    "import numpy as np\n",
    "from matplotlib import gridspec\n",
    "from tqdm import tqdm\n",
    "from utils.forecast import get_dwd_forecast\n",
    "\n",
    "# sys.path.append(\"/\".join(sys.path[0].split(\"/\")[:-1]))\n",
    "\n",
    "from studies.utils.forecast import get_dwd_forecast\n",
    "from studies.utils.dwd_data import DWD_Dataset, Feature\n",
    "\n",
    "import polars as pl\n",
    "FIG_SAVE_BASE_PATH = \"../docs/report/fig/\"\n",
    "DOUBLE_COL_FIG_SIZE = (15, 5)"
   ]
  },
  {
   "cell_type": "code",
   "execution_count": 13,
   "metadata": {},
   "outputs": [
    {
     "ename": "ValueError",
     "evalue": "No objects to concatenate",
     "output_type": "error",
     "traceback": [
      "\u001b[0;31m---------------------------------------------------------------------------\u001b[0m",
      "\u001b[0;31mValueError\u001b[0m                                Traceback (most recent call last)",
      "Cell \u001b[0;32mIn[13], line 1\u001b[0m\n\u001b[0;32m----> 1\u001b[0m dataset_model_1 \u001b[38;5;241m=\u001b[39m \u001b[43mDWD_Dataset\u001b[49m\u001b[43m(\u001b[49m\u001b[43msource_path\u001b[49m\u001b[38;5;241;43m=\u001b[39;49m\u001b[38;5;124;43m\"\u001b[39;49m\u001b[38;5;124;43m../data/dwd\u001b[39;49m\u001b[38;5;124;43m\"\u001b[39;49m\u001b[43m,\u001b[49m\u001b[43m \u001b[49m\u001b[43mmodel\u001b[49m\u001b[38;5;241;43m=\u001b[39;49m\u001b[38;5;241;43m1\u001b[39;49m\u001b[43m,\u001b[49m\u001b[43m)\u001b[49m\n\u001b[1;32m      2\u001b[0m dataset_model_2 \u001b[38;5;241m=\u001b[39m DWD_Dataset(source_path\u001b[38;5;241m=\u001b[39m\u001b[38;5;124m\"\u001b[39m\u001b[38;5;124m../data/dwd\u001b[39m\u001b[38;5;124m\"\u001b[39m, model\u001b[38;5;241m=\u001b[39m\u001b[38;5;241m2\u001b[39m,)\n\u001b[1;32m      3\u001b[0m merge1 \u001b[38;5;241m=\u001b[39m dataset_model_1\u001b[38;5;241m.\u001b[39mget_merge()\n",
      "File \u001b[0;32m~/Tübingen/DataLiteracy/studies/utils/dwd_data.py:140\u001b[0m, in \u001b[0;36mDWD_Dataset.__init__\u001b[0;34m(self, source_path, feature, model)\u001b[0m\n\u001b[1;32m    136\u001b[0m \u001b[38;5;28mself\u001b[39m\u001b[38;5;241m.\u001b[39m_stations \u001b[38;5;241m=\u001b[39m pd\u001b[38;5;241m.\u001b[39mread_csv(\u001b[38;5;28mself\u001b[39m\u001b[38;5;241m.\u001b[39m_source_path \u001b[38;5;241m+\u001b[39m \u001b[38;5;124m\"\u001b[39m\u001b[38;5;124m/stations.tsv\u001b[39m\u001b[38;5;124m\"\u001b[39m, sep\u001b[38;5;241m=\u001b[39m\u001b[38;5;124m\"\u001b[39m\u001b[38;5;130;01m\\t\u001b[39;00m\u001b[38;5;124m\"\u001b[39m)\n\u001b[1;32m    138\u001b[0m \u001b[38;5;28;01mif\u001b[39;00m \u001b[38;5;28mself\u001b[39m\u001b[38;5;241m.\u001b[39m_feature \u001b[38;5;241m==\u001b[39m Feature\u001b[38;5;241m.\u001b[39mALL:\n\u001b[1;32m    139\u001b[0m     \u001b[38;5;66;03m# load all specified features in Features enum\u001b[39;00m\n\u001b[0;32m--> 140\u001b[0m     precipitation_forecast \u001b[38;5;241m=\u001b[39m \u001b[38;5;28;43mself\u001b[39;49m\u001b[38;5;241;43m.\u001b[39;49m\u001b[43m_load_forecast\u001b[49m\u001b[43m(\u001b[49m\u001b[43mFeature\u001b[49m\u001b[38;5;241;43m.\u001b[39;49m\u001b[43mPRECIPITATION\u001b[49m\u001b[43m)\u001b[49m\n\u001b[1;32m    141\u001b[0m     temperature_forecast \u001b[38;5;241m=\u001b[39m \u001b[38;5;28mself\u001b[39m\u001b[38;5;241m.\u001b[39m_load_forecast(Feature\u001b[38;5;241m.\u001b[39mTEMPERATURE)\n\u001b[1;32m    142\u001b[0m     \u001b[38;5;66;03m# merge all feature; There are more temperature values than forecast values -> left outter join\u001b[39;00m\n",
      "File \u001b[0;32m~/Tübingen/DataLiteracy/studies/utils/dwd_data.py:263\u001b[0m, in \u001b[0;36mDWD_Dataset._load_forecast\u001b[0;34m(self, feature)\u001b[0m\n\u001b[1;32m    259\u001b[0m forecast_feature_name, forecast_column_name \u001b[38;5;241m=\u001b[39m FORECAST_FEATURE_TRANSLATOR[\n\u001b[1;32m    260\u001b[0m     feature\n\u001b[1;32m    261\u001b[0m ]\n\u001b[1;32m    262\u001b[0m \u001b[38;5;66;03m# get forecast\u001b[39;00m\n\u001b[0;32m--> 263\u001b[0m forecast \u001b[38;5;241m=\u001b[39m \u001b[43mget_dwd_forecast\u001b[49m\u001b[43m(\u001b[49m\u001b[43mforecast_feature_name\u001b[49m\u001b[43m,\u001b[49m\u001b[43m \u001b[49m\u001b[38;5;28;43mself\u001b[39;49m\u001b[38;5;241;43m.\u001b[39;49m\u001b[43m_source_path\u001b[49m\u001b[43m)\u001b[49m\n\u001b[1;32m    264\u001b[0m \u001b[38;5;66;03m# drop unnamed colum\u001b[39;00m\n\u001b[1;32m    265\u001b[0m forecast \u001b[38;5;241m=\u001b[39m forecast\u001b[38;5;241m.\u001b[39mdrop(columns\u001b[38;5;241m=\u001b[39m\u001b[38;5;124m\"\u001b[39m\u001b[38;5;124mUnnamed: 0\u001b[39m\u001b[38;5;124m\"\u001b[39m)\n",
      "File \u001b[0;32m~/Tübingen/DataLiteracy/studies/utils/forecast.py:64\u001b[0m, in \u001b[0;36mget_dwd_forecast\u001b[0;34m(feature, source_path)\u001b[0m\n\u001b[1;32m     61\u001b[0m     temp_df \u001b[38;5;241m=\u001b[39m pd\u001b[38;5;241m.\u001b[39mread_csv(file)\n\u001b[1;32m     62\u001b[0m     frames\u001b[38;5;241m.\u001b[39mappend(temp_df)\n\u001b[0;32m---> 64\u001b[0m df \u001b[38;5;241m=\u001b[39m \u001b[43mpd\u001b[49m\u001b[38;5;241;43m.\u001b[39;49m\u001b[43mconcat\u001b[49m\u001b[43m(\u001b[49m\u001b[43mframes\u001b[49m\u001b[43m)\u001b[49m\n\u001b[1;32m     66\u001b[0m \u001b[38;5;66;03m# convert time to datetime\u001b[39;00m\n\u001b[1;32m     67\u001b[0m df[\u001b[38;5;124m\"\u001b[39m\u001b[38;5;124mcall_time\u001b[39m\u001b[38;5;124m\"\u001b[39m] \u001b[38;5;241m=\u001b[39m df[\u001b[38;5;124m\"\u001b[39m\u001b[38;5;124mcall_time\u001b[39m\u001b[38;5;124m\"\u001b[39m]\u001b[38;5;241m.\u001b[39mapply(serialized_to_datetime)\n",
      "File \u001b[0;32m~/miniconda3/envs/project/lib/python3.11/site-packages/pandas/core/reshape/concat.py:380\u001b[0m, in \u001b[0;36mconcat\u001b[0;34m(objs, axis, join, ignore_index, keys, levels, names, verify_integrity, sort, copy)\u001b[0m\n\u001b[1;32m    377\u001b[0m \u001b[38;5;28;01melif\u001b[39;00m copy \u001b[38;5;129;01mand\u001b[39;00m using_copy_on_write():\n\u001b[1;32m    378\u001b[0m     copy \u001b[38;5;241m=\u001b[39m \u001b[38;5;28;01mFalse\u001b[39;00m\n\u001b[0;32m--> 380\u001b[0m op \u001b[38;5;241m=\u001b[39m \u001b[43m_Concatenator\u001b[49m\u001b[43m(\u001b[49m\n\u001b[1;32m    381\u001b[0m \u001b[43m    \u001b[49m\u001b[43mobjs\u001b[49m\u001b[43m,\u001b[49m\n\u001b[1;32m    382\u001b[0m \u001b[43m    \u001b[49m\u001b[43maxis\u001b[49m\u001b[38;5;241;43m=\u001b[39;49m\u001b[43maxis\u001b[49m\u001b[43m,\u001b[49m\n\u001b[1;32m    383\u001b[0m \u001b[43m    \u001b[49m\u001b[43mignore_index\u001b[49m\u001b[38;5;241;43m=\u001b[39;49m\u001b[43mignore_index\u001b[49m\u001b[43m,\u001b[49m\n\u001b[1;32m    384\u001b[0m \u001b[43m    \u001b[49m\u001b[43mjoin\u001b[49m\u001b[38;5;241;43m=\u001b[39;49m\u001b[43mjoin\u001b[49m\u001b[43m,\u001b[49m\n\u001b[1;32m    385\u001b[0m \u001b[43m    \u001b[49m\u001b[43mkeys\u001b[49m\u001b[38;5;241;43m=\u001b[39;49m\u001b[43mkeys\u001b[49m\u001b[43m,\u001b[49m\n\u001b[1;32m    386\u001b[0m \u001b[43m    \u001b[49m\u001b[43mlevels\u001b[49m\u001b[38;5;241;43m=\u001b[39;49m\u001b[43mlevels\u001b[49m\u001b[43m,\u001b[49m\n\u001b[1;32m    387\u001b[0m \u001b[43m    \u001b[49m\u001b[43mnames\u001b[49m\u001b[38;5;241;43m=\u001b[39;49m\u001b[43mnames\u001b[49m\u001b[43m,\u001b[49m\n\u001b[1;32m    388\u001b[0m \u001b[43m    \u001b[49m\u001b[43mverify_integrity\u001b[49m\u001b[38;5;241;43m=\u001b[39;49m\u001b[43mverify_integrity\u001b[49m\u001b[43m,\u001b[49m\n\u001b[1;32m    389\u001b[0m \u001b[43m    \u001b[49m\u001b[43mcopy\u001b[49m\u001b[38;5;241;43m=\u001b[39;49m\u001b[43mcopy\u001b[49m\u001b[43m,\u001b[49m\n\u001b[1;32m    390\u001b[0m \u001b[43m    \u001b[49m\u001b[43msort\u001b[49m\u001b[38;5;241;43m=\u001b[39;49m\u001b[43msort\u001b[49m\u001b[43m,\u001b[49m\n\u001b[1;32m    391\u001b[0m \u001b[43m\u001b[49m\u001b[43m)\u001b[49m\n\u001b[1;32m    393\u001b[0m \u001b[38;5;28;01mreturn\u001b[39;00m op\u001b[38;5;241m.\u001b[39mget_result()\n",
      "File \u001b[0;32m~/miniconda3/envs/project/lib/python3.11/site-packages/pandas/core/reshape/concat.py:443\u001b[0m, in \u001b[0;36m_Concatenator.__init__\u001b[0;34m(self, objs, axis, join, keys, levels, names, ignore_index, verify_integrity, copy, sort)\u001b[0m\n\u001b[1;32m    440\u001b[0m \u001b[38;5;28mself\u001b[39m\u001b[38;5;241m.\u001b[39mverify_integrity \u001b[38;5;241m=\u001b[39m verify_integrity\n\u001b[1;32m    441\u001b[0m \u001b[38;5;28mself\u001b[39m\u001b[38;5;241m.\u001b[39mcopy \u001b[38;5;241m=\u001b[39m copy\n\u001b[0;32m--> 443\u001b[0m objs, keys \u001b[38;5;241m=\u001b[39m \u001b[38;5;28;43mself\u001b[39;49m\u001b[38;5;241;43m.\u001b[39;49m\u001b[43m_clean_keys_and_objs\u001b[49m\u001b[43m(\u001b[49m\u001b[43mobjs\u001b[49m\u001b[43m,\u001b[49m\u001b[43m \u001b[49m\u001b[43mkeys\u001b[49m\u001b[43m)\u001b[49m\n\u001b[1;32m    445\u001b[0m \u001b[38;5;66;03m# figure out what our result ndim is going to be\u001b[39;00m\n\u001b[1;32m    446\u001b[0m ndims \u001b[38;5;241m=\u001b[39m \u001b[38;5;28mself\u001b[39m\u001b[38;5;241m.\u001b[39m_get_ndims(objs)\n",
      "File \u001b[0;32m~/miniconda3/envs/project/lib/python3.11/site-packages/pandas/core/reshape/concat.py:505\u001b[0m, in \u001b[0;36m_Concatenator._clean_keys_and_objs\u001b[0;34m(self, objs, keys)\u001b[0m\n\u001b[1;32m    502\u001b[0m     objs_list \u001b[38;5;241m=\u001b[39m \u001b[38;5;28mlist\u001b[39m(objs)\n\u001b[1;32m    504\u001b[0m \u001b[38;5;28;01mif\u001b[39;00m \u001b[38;5;28mlen\u001b[39m(objs_list) \u001b[38;5;241m==\u001b[39m \u001b[38;5;241m0\u001b[39m:\n\u001b[0;32m--> 505\u001b[0m     \u001b[38;5;28;01mraise\u001b[39;00m \u001b[38;5;167;01mValueError\u001b[39;00m(\u001b[38;5;124m\"\u001b[39m\u001b[38;5;124mNo objects to concatenate\u001b[39m\u001b[38;5;124m\"\u001b[39m)\n\u001b[1;32m    507\u001b[0m \u001b[38;5;28;01mif\u001b[39;00m keys \u001b[38;5;129;01mis\u001b[39;00m \u001b[38;5;28;01mNone\u001b[39;00m:\n\u001b[1;32m    508\u001b[0m     objs_list \u001b[38;5;241m=\u001b[39m \u001b[38;5;28mlist\u001b[39m(com\u001b[38;5;241m.\u001b[39mnot_none(\u001b[38;5;241m*\u001b[39mobjs_list))\n",
      "\u001b[0;31mValueError\u001b[0m: No objects to concatenate"
     ]
    }
   ],
   "source": [
    "dataset_model_1 = DWD_Dataset(source_path=\"../data/dwd\", model=1,)\n",
    "dataset_model_2 = DWD_Dataset(source_path=\"../data/dwd\", model=2,)\n",
    "merge1 = dataset_model_1.get_merge()\n",
    "merge2 = dataset_model_2.get_merge()\n",
    "error_by_station_model_1 = merge1.groupby([\"station_id\"]).mean()\n",
    "std_error_by_station_preliminary_model_1 = merge1.groupby([\"station_id\"]).std()\n",
    "station_5688 = merge1[merge1[\"station_id\"]==\"5688\"]\n"
   ]
  },
  {
   "cell_type": "code",
   "execution_count": null,
   "metadata": {},
   "outputs": [],
   "source": [
    "extreme_weather = dataset_model_1.get_historical()"
   ]
  },
  {
   "cell_type": "code",
   "execution_count": null,
   "metadata": {},
   "outputs": [
    {
     "data": {
      "text/html": [
       "<div>\n",
       "<style scoped>\n",
       "    .dataframe tbody tr th:only-of-type {\n",
       "        vertical-align: middle;\n",
       "    }\n",
       "\n",
       "    .dataframe tbody tr th {\n",
       "        vertical-align: top;\n",
       "    }\n",
       "\n",
       "    .dataframe thead th {\n",
       "        text-align: right;\n",
       "    }\n",
       "</style>\n",
       "<table border=\"1\" class=\"dataframe\">\n",
       "  <thead>\n",
       "    <tr style=\"text-align: right;\">\n",
       "      <th></th>\n",
       "      <th>station_id</th>\n",
       "      <th>time</th>\n",
       "      <th>precipitation_real</th>\n",
       "      <th>air_temperature_real</th>\n",
       "    </tr>\n",
       "  </thead>\n",
       "  <tbody>\n",
       "    <tr>\n",
       "      <th>12287</th>\n",
       "      <td>5562</td>\n",
       "      <td>2023-12-07 23:00:00</td>\n",
       "      <td>0.0</td>\n",
       "      <td>-0.2</td>\n",
       "    </tr>\n",
       "    <tr>\n",
       "      <th>12288</th>\n",
       "      <td>5562</td>\n",
       "      <td>2023-12-08 00:00:00</td>\n",
       "      <td>0.0</td>\n",
       "      <td>0.3</td>\n",
       "    </tr>\n",
       "    <tr>\n",
       "      <th>12289</th>\n",
       "      <td>5562</td>\n",
       "      <td>2023-12-08 01:00:00</td>\n",
       "      <td>0.0</td>\n",
       "      <td>0.3</td>\n",
       "    </tr>\n",
       "    <tr>\n",
       "      <th>12290</th>\n",
       "      <td>5562</td>\n",
       "      <td>2023-12-08 02:00:00</td>\n",
       "      <td>0.0</td>\n",
       "      <td>0.6</td>\n",
       "    </tr>\n",
       "    <tr>\n",
       "      <th>12291</th>\n",
       "      <td>5562</td>\n",
       "      <td>2023-12-08 03:00:00</td>\n",
       "      <td>0.0</td>\n",
       "      <td>-0.3</td>\n",
       "    </tr>\n",
       "    <tr>\n",
       "      <th>...</th>\n",
       "      <td>...</td>\n",
       "      <td>...</td>\n",
       "      <td>...</td>\n",
       "      <td>...</td>\n",
       "    </tr>\n",
       "    <tr>\n",
       "      <th>475188</th>\n",
       "      <td>6263</td>\n",
       "      <td>2024-01-14 19:00:00</td>\n",
       "      <td>0.0</td>\n",
       "      <td>-1.5</td>\n",
       "    </tr>\n",
       "    <tr>\n",
       "      <th>475189</th>\n",
       "      <td>6263</td>\n",
       "      <td>2024-01-14 20:00:00</td>\n",
       "      <td>0.0</td>\n",
       "      <td>-0.9</td>\n",
       "    </tr>\n",
       "    <tr>\n",
       "      <th>475190</th>\n",
       "      <td>6263</td>\n",
       "      <td>2024-01-14 21:00:00</td>\n",
       "      <td>0.0</td>\n",
       "      <td>-0.8</td>\n",
       "    </tr>\n",
       "    <tr>\n",
       "      <th>475191</th>\n",
       "      <td>6263</td>\n",
       "      <td>2024-01-14 22:00:00</td>\n",
       "      <td>0.0</td>\n",
       "      <td>0.1</td>\n",
       "    </tr>\n",
       "    <tr>\n",
       "      <th>475192</th>\n",
       "      <td>6263</td>\n",
       "      <td>2024-01-14 23:00:00</td>\n",
       "      <td>0.0</td>\n",
       "      <td>0.6</td>\n",
       "    </tr>\n",
       "  </tbody>\n",
       "</table>\n",
       "<p>32868 rows × 4 columns</p>\n",
       "</div>"
      ],
      "text/plain": [
       "        station_id                time  precipitation_real  \\\n",
       "12287         5562 2023-12-07 23:00:00                 0.0   \n",
       "12288         5562 2023-12-08 00:00:00                 0.0   \n",
       "12289         5562 2023-12-08 01:00:00                 0.0   \n",
       "12290         5562 2023-12-08 02:00:00                 0.0   \n",
       "12291         5562 2023-12-08 03:00:00                 0.0   \n",
       "...            ...                 ...                 ...   \n",
       "475188        6263 2024-01-14 19:00:00                 0.0   \n",
       "475189        6263 2024-01-14 20:00:00                 0.0   \n",
       "475190        6263 2024-01-14 21:00:00                 0.0   \n",
       "475191        6263 2024-01-14 22:00:00                 0.0   \n",
       "475192        6263 2024-01-14 23:00:00                 0.0   \n",
       "\n",
       "        air_temperature_real  \n",
       "12287                   -0.2  \n",
       "12288                    0.3  \n",
       "12289                    0.3  \n",
       "12290                    0.6  \n",
       "12291                   -0.3  \n",
       "...                      ...  \n",
       "475188                  -1.5  \n",
       "475189                  -0.9  \n",
       "475190                  -0.8  \n",
       "475191                   0.1  \n",
       "475192                   0.6  \n",
       "\n",
       "[32868 rows x 4 columns]"
      ]
     },
     "execution_count": 47,
     "metadata": {},
     "output_type": "execute_result"
    }
   ],
   "source": [
    "extreme_weather"
   ]
  },
  {
   "cell_type": "code",
   "execution_count": null,
   "metadata": {},
   "outputs": [
    {
     "name": "stdout",
     "output_type": "stream",
     "text": [
      "error_type\n",
      "Positive    24\n",
      "Negative    12\n",
      "Name: count, dtype: int64\n"
     ]
    },
    {
     "name": "stderr",
     "output_type": "stream",
     "text": [
      "/tmp/ipykernel_223228/786856227.py:1: SettingWithCopyWarning: \n",
      "A value is trying to be set on a copy of a slice from a DataFrame.\n",
      "Try using .loc[row_indexer,col_indexer] = value instead\n",
      "\n",
      "See the caveats in the documentation: https://pandas.pydata.org/pandas-docs/stable/user_guide/indexing.html#returning-a-view-versus-a-copy\n",
      "  bw_response_stations[\"station_id\"] = bw_response_stations[\"Stations_ID\"].copy()\n"
     ]
    }
   ],
   "source": [
    "bw_response_stations[\"station_id\"] = bw_response_stations[\"Stations_ID\"].copy()\n",
    "\n",
    "error_by_station_plz = pd.merge(\n",
    "    left=bw_response_stations, \n",
    "    right=error_by_station_model_1, \n",
    "    on='station_id',\n",
    "    how='inner'\n",
    ")\n",
    "error_by_station_model_1[\"error_type\"] = np.where(error_by_station_model_1[\"precipitation_error\"] < 0, \"Negative\", \"Positive\")\n",
    "# Count the number of stations with positive and negative mean errors\n",
    "optimists_station = error_by_station_model_1[\"error_type\"].value_counts()\n",
    "print(optimists_station)\n"
   ]
  },
  {
   "cell_type": "code",
   "execution_count": null,
   "metadata": {},
   "outputs": [
    {
     "data": {
      "text/plain": [
       "<BarContainer object of 36 artists>"
      ]
     },
     "execution_count": 16,
     "metadata": {},
     "output_type": "execute_result"
    },
    {
     "name": "stderr",
     "output_type": "stream",
     "text": [
      "WARNING:matplotlib.font_manager:findfont: Generic family 'serif' not found because none of the following families were found: Times New Roman\n",
      "WARNING:matplotlib.font_manager:findfont: Generic family 'serif' not found because none of the following families were found: Times New Roman\n",
      "WARNING:matplotlib.font_manager:findfont: Generic family 'serif' not found because none of the following families were found: Times New Roman\n",
      "WARNING:matplotlib.font_manager:findfont: Generic family 'serif' not found because none of the following families were found: Times New Roman\n",
      "WARNING:matplotlib.font_manager:findfont: Generic family 'serif' not found because none of the following families were found: Times New Roman\n",
      "WARNING:matplotlib.font_manager:findfont: Generic family 'serif' not found because none of the following families were found: Times New Roman\n",
      "WARNING:matplotlib.font_manager:findfont: Generic family 'serif' not found because none of the following families were found: Times New Roman\n",
      "WARNING:matplotlib.font_manager:findfont: Generic family 'serif' not found because none of the following families were found: Times New Roman\n",
      "WARNING:matplotlib.font_manager:findfont: Generic family 'serif' not found because none of the following families were found: Times New Roman\n",
      "WARNING:matplotlib.font_manager:findfont: Generic family 'serif' not found because none of the following families were found: Times New Roman\n",
      "WARNING:matplotlib.font_manager:findfont: Generic family 'serif' not found because none of the following families were found: Times New Roman\n",
      "WARNING:matplotlib.font_manager:findfont: Generic family 'serif' not found because none of the following families were found: Times New Roman\n",
      "WARNING:matplotlib.font_manager:findfont: Generic family 'serif' not found because none of the following families were found: Times New Roman\n",
      "WARNING:matplotlib.font_manager:findfont: Generic family 'serif' not found because none of the following families were found: Times New Roman\n",
      "WARNING:matplotlib.font_manager:findfont: Generic family 'serif' not found because none of the following families were found: Times New Roman\n",
      "WARNING:matplotlib.font_manager:findfont: Generic family 'serif' not found because none of the following families were found: Times New Roman\n",
      "WARNING:matplotlib.font_manager:findfont: Generic family 'serif' not found because none of the following families were found: Times New Roman\n",
      "WARNING:matplotlib.font_manager:findfont: Generic family 'serif' not found because none of the following families were found: Times New Roman\n",
      "WARNING:matplotlib.font_manager:findfont: Generic family 'serif' not found because none of the following families were found: Times New Roman\n",
      "WARNING:matplotlib.font_manager:findfont: Generic family 'serif' not found because none of the following families were found: Times New Roman\n",
      "WARNING:matplotlib.font_manager:findfont: Generic family 'serif' not found because none of the following families were found: Times New Roman\n",
      "WARNING:matplotlib.font_manager:findfont: Generic family 'serif' not found because none of the following families were found: Times New Roman\n",
      "WARNING:matplotlib.font_manager:findfont: Generic family 'serif' not found because none of the following families were found: Times New Roman\n",
      "WARNING:matplotlib.font_manager:findfont: Generic family 'serif' not found because none of the following families were found: Times New Roman\n",
      "WARNING:matplotlib.font_manager:findfont: Generic family 'serif' not found because none of the following families were found: Times New Roman\n",
      "WARNING:matplotlib.font_manager:findfont: Generic family 'serif' not found because none of the following families were found: Times New Roman\n",
      "WARNING:matplotlib.font_manager:findfont: Generic family 'serif' not found because none of the following families were found: Times New Roman\n",
      "WARNING:matplotlib.font_manager:findfont: Generic family 'serif' not found because none of the following families were found: Times New Roman\n",
      "WARNING:matplotlib.font_manager:findfont: Generic family 'serif' not found because none of the following families were found: Times New Roman\n",
      "WARNING:matplotlib.font_manager:findfont: Generic family 'serif' not found because none of the following families were found: Times New Roman\n",
      "WARNING:matplotlib.font_manager:findfont: Generic family 'serif' not found because none of the following families were found: Times New Roman\n",
      "WARNING:matplotlib.font_manager:findfont: Generic family 'serif' not found because none of the following families were found: Times New Roman\n",
      "WARNING:matplotlib.font_manager:findfont: Generic family 'serif' not found because none of the following families were found: Times New Roman\n",
      "WARNING:matplotlib.font_manager:findfont: Generic family 'serif' not found because none of the following families were found: Times New Roman\n",
      "WARNING:matplotlib.font_manager:findfont: Generic family 'serif' not found because none of the following families were found: Times New Roman\n",
      "WARNING:matplotlib.font_manager:findfont: Generic family 'serif' not found because none of the following families were found: Times New Roman\n",
      "WARNING:matplotlib.font_manager:findfont: Generic family 'serif' not found because none of the following families were found: Times New Roman\n",
      "WARNING:matplotlib.font_manager:findfont: Generic family 'serif' not found because none of the following families were found: Times New Roman\n",
      "WARNING:matplotlib.font_manager:findfont: Generic family 'serif' not found because none of the following families were found: Times New Roman\n",
      "WARNING:matplotlib.font_manager:findfont: Generic family 'serif' not found because none of the following families were found: Times New Roman\n",
      "WARNING:matplotlib.font_manager:findfont: Generic family 'serif' not found because none of the following families were found: Times New Roman\n",
      "WARNING:matplotlib.font_manager:findfont: Generic family 'serif' not found because none of the following families were found: Times New Roman\n",
      "WARNING:matplotlib.font_manager:findfont: Generic family 'serif' not found because none of the following families were found: Times New Roman\n",
      "WARNING:matplotlib.font_manager:findfont: Generic family 'serif' not found because none of the following families were found: Times New Roman\n",
      "WARNING:matplotlib.font_manager:findfont: Generic family 'serif' not found because none of the following families were found: Times New Roman\n"
     ]
    },
    {
     "name": "stderr",
     "output_type": "stream",
     "text": [
      "WARNING:matplotlib.font_manager:findfont: Generic family 'serif' not found because none of the following families were found: Times New Roman\n",
      "WARNING:matplotlib.font_manager:findfont: Generic family 'serif' not found because none of the following families were found: Times New Roman\n",
      "WARNING:matplotlib.font_manager:findfont: Generic family 'serif' not found because none of the following families were found: Times New Roman\n",
      "WARNING:matplotlib.font_manager:findfont: Generic family 'serif' not found because none of the following families were found: Times New Roman\n",
      "WARNING:matplotlib.font_manager:findfont: Generic family 'serif' not found because none of the following families were found: Times New Roman\n",
      "WARNING:matplotlib.font_manager:findfont: Generic family 'serif' not found because none of the following families were found: Times New Roman\n",
      "WARNING:matplotlib.font_manager:findfont: Generic family 'serif' not found because none of the following families were found: Times New Roman\n",
      "WARNING:matplotlib.font_manager:findfont: Generic family 'serif' not found because none of the following families were found: Times New Roman\n",
      "WARNING:matplotlib.font_manager:findfont: Generic family 'serif' not found because none of the following families were found: Times New Roman\n",
      "WARNING:matplotlib.font_manager:findfont: Generic family 'serif' not found because none of the following families were found: Times New Roman\n",
      "WARNING:matplotlib.font_manager:findfont: Generic family 'serif' not found because none of the following families were found: Times New Roman\n",
      "WARNING:matplotlib.font_manager:findfont: Generic family 'serif' not found because none of the following families were found: Times New Roman\n",
      "WARNING:matplotlib.font_manager:findfont: Generic family 'serif' not found because none of the following families were found: Times New Roman\n",
      "WARNING:matplotlib.font_manager:findfont: Generic family 'serif' not found because none of the following families were found: Times New Roman\n",
      "WARNING:matplotlib.font_manager:findfont: Generic family 'serif' not found because none of the following families were found: Times New Roman\n",
      "WARNING:matplotlib.font_manager:findfont: Generic family 'serif' not found because none of the following families were found: Times New Roman\n",
      "WARNING:matplotlib.font_manager:findfont: Generic family 'serif' not found because none of the following families were found: Times New Roman\n",
      "WARNING:matplotlib.font_manager:findfont: Generic family 'serif' not found because none of the following families were found: Times New Roman\n",
      "WARNING:matplotlib.font_manager:findfont: Generic family 'serif' not found because none of the following families were found: Times New Roman\n",
      "WARNING:matplotlib.font_manager:findfont: Generic family 'serif' not found because none of the following families were found: Times New Roman\n",
      "WARNING:matplotlib.font_manager:findfont: Generic family 'serif' not found because none of the following families were found: Times New Roman\n",
      "WARNING:matplotlib.font_manager:findfont: Generic family 'serif' not found because none of the following families were found: Times New Roman\n",
      "WARNING:matplotlib.font_manager:findfont: Generic family 'serif' not found because none of the following families were found: Times New Roman\n",
      "WARNING:matplotlib.font_manager:findfont: Generic family 'serif' not found because none of the following families were found: Times New Roman\n",
      "WARNING:matplotlib.font_manager:findfont: Generic family 'serif' not found because none of the following families were found: Times New Roman\n",
      "WARNING:matplotlib.font_manager:findfont: Generic family 'serif' not found because none of the following families were found: Times New Roman\n",
      "WARNING:matplotlib.font_manager:findfont: Generic family 'serif' not found because none of the following families were found: Times New Roman\n",
      "WARNING:matplotlib.font_manager:findfont: Generic family 'serif' not found because none of the following families were found: Times New Roman\n",
      "WARNING:matplotlib.font_manager:findfont: Generic family 'serif' not found because none of the following families were found: Times New Roman\n",
      "WARNING:matplotlib.font_manager:findfont: Generic family 'serif' not found because none of the following families were found: Times New Roman\n",
      "WARNING:matplotlib.font_manager:findfont: Generic family 'serif' not found because none of the following families were found: Times New Roman\n",
      "WARNING:matplotlib.font_manager:findfont: Generic family 'serif' not found because none of the following families were found: Times New Roman\n",
      "WARNING:matplotlib.font_manager:findfont: Generic family 'serif' not found because none of the following families were found: Times New Roman\n",
      "WARNING:matplotlib.font_manager:findfont: Generic family 'serif' not found because none of the following families were found: Times New Roman\n",
      "WARNING:matplotlib.font_manager:findfont: Generic family 'serif' not found because none of the following families were found: Times New Roman\n",
      "WARNING:matplotlib.font_manager:findfont: Generic family 'serif' not found because none of the following families were found: Times New Roman\n",
      "WARNING:matplotlib.font_manager:findfont: Generic family 'serif' not found because none of the following families were found: Times New Roman\n",
      "WARNING:matplotlib.font_manager:findfont: Generic family 'serif' not found because none of the following families were found: Times New Roman\n",
      "WARNING:matplotlib.font_manager:findfont: Generic family 'serif' not found because none of the following families were found: Times New Roman\n",
      "WARNING:matplotlib.font_manager:findfont: Generic family 'serif' not found because none of the following families were found: Times New Roman\n",
      "WARNING:matplotlib.font_manager:findfont: Generic family 'serif' not found because none of the following families were found: Times New Roman\n",
      "WARNING:matplotlib.font_manager:findfont: Generic family 'serif' not found because none of the following families were found: Times New Roman\n",
      "WARNING:matplotlib.font_manager:findfont: Generic family 'serif' not found because none of the following families were found: Times New Roman\n",
      "WARNING:matplotlib.font_manager:findfont: Generic family 'serif' not found because none of the following families were found: Times New Roman\n",
      "WARNING:matplotlib.font_manager:findfont: Generic family 'serif' not found because none of the following families were found: Times New Roman\n",
      "WARNING:matplotlib.font_manager:findfont: Generic family 'serif' not found because none of the following families were found: Times New Roman\n",
      "WARNING:matplotlib.font_manager:findfont: Generic family 'serif' not found because none of the following families were found: Times New Roman\n",
      "WARNING:matplotlib.font_manager:findfont: Generic family 'serif' not found because none of the following families were found: Times New Roman\n",
      "WARNING:matplotlib.font_manager:findfont: Generic family 'serif' not found because none of the following families were found: Times New Roman\n",
      "WARNING:matplotlib.font_manager:findfont: Generic family 'serif' not found because none of the following families were found: Times New Roman\n",
      "WARNING:matplotlib.font_manager:findfont: Generic family 'serif' not found because none of the following families were found: Times New Roman\n",
      "WARNING:matplotlib.font_manager:findfont: Generic family 'serif' not found because none of the following families were found: Times New Roman\n",
      "WARNING:matplotlib.font_manager:findfont: Generic family 'serif' not found because none of the following families were found: Times New Roman\n",
      "WARNING:matplotlib.font_manager:findfont: Generic family 'serif' not found because none of the following families were found: Times New Roman\n",
      "WARNING:matplotlib.font_manager:findfont: Generic family 'serif' not found because none of the following families were found: Times New Roman\n",
      "WARNING:matplotlib.font_manager:findfont: Generic family 'serif' not found because none of the following families were found: Times New Roman\n",
      "WARNING:matplotlib.font_manager:findfont: Generic family 'serif' not found because none of the following families were found: Times New Roman\n",
      "WARNING:matplotlib.font_manager:findfont: Generic family 'serif' not found because none of the following families were found: Times New Roman\n",
      "WARNING:matplotlib.font_manager:findfont: Generic family 'serif' not found because none of the following families were found: Times New Roman\n",
      "WARNING:matplotlib.font_manager:findfont: Generic family 'serif' not found because none of the following families were found: Times New Roman\n",
      "WARNING:matplotlib.font_manager:findfont: Generic family 'serif' not found because none of the following families were found: Times New Roman\n",
      "WARNING:matplotlib.font_manager:findfont: Generic family 'serif' not found because none of the following families were found: Times New Roman\n",
      "WARNING:matplotlib.font_manager:findfont: Generic family 'serif' not found because none of the following families were found: Times New Roman\n",
      "WARNING:matplotlib.font_manager:findfont: Generic family 'serif' not found because none of the following families were found: Times New Roman\n",
      "WARNING:matplotlib.font_manager:findfont: Generic family 'serif' not found because none of the following families were found: Times New Roman\n",
      "WARNING:matplotlib.font_manager:findfont: Generic family 'serif' not found because none of the following families were found: Times New Roman\n",
      "WARNING:matplotlib.font_manager:findfont: Generic family 'serif' not found because none of the following families were found: Times New Roman\n",
      "WARNING:matplotlib.font_manager:findfont: Generic family 'serif' not found because none of the following families were found: Times New Roman\n",
      "WARNING:matplotlib.font_manager:findfont: Generic family 'serif' not found because none of the following families were found: Times New Roman\n",
      "WARNING:matplotlib.font_manager:findfont: Generic family 'serif' not found because none of the following families were found: Times New Roman\n",
      "WARNING:matplotlib.font_manager:findfont: Generic family 'serif' not found because none of the following families were found: Times New Roman\n",
      "WARNING:matplotlib.font_manager:findfont: Generic family 'serif' not found because none of the following families were found: Times New Roman\n",
      "WARNING:matplotlib.font_manager:findfont: Generic family 'serif' not found because none of the following families were found: Times New Roman\n",
      "WARNING:matplotlib.font_manager:findfont: Generic family 'serif' not found because none of the following families were found: Times New Roman\n",
      "WARNING:matplotlib.font_manager:findfont: Generic family 'serif' not found because none of the following families were found: Times New Roman\n",
      "WARNING:matplotlib.font_manager:findfont: Generic family 'serif' not found because none of the following families were found: Times New Roman\n",
      "WARNING:matplotlib.font_manager:findfont: Generic family 'serif' not found because none of the following families were found: Times New Roman\n",
      "WARNING:matplotlib.font_manager:findfont: Generic family 'serif' not found because none of the following families were found: Times New Roman\n",
      "WARNING:matplotlib.font_manager:findfont: Generic family 'serif' not found because none of the following families were found: Times New Roman\n",
      "WARNING:matplotlib.font_manager:findfont: Generic family 'serif' not found because none of the following families were found: Times New Roman\n",
      "WARNING:matplotlib.font_manager:findfont: Generic family 'serif' not found because none of the following families were found: Times New Roman\n",
      "WARNING:matplotlib.font_manager:findfont: Generic family 'serif' not found because none of the following families were found: Times New Roman\n",
      "WARNING:matplotlib.font_manager:findfont: Generic family 'serif' not found because none of the following families were found: Times New Roman\n",
      "WARNING:matplotlib.font_manager:findfont: Generic family 'serif' not found because none of the following families were found: Times New Roman\n",
      "WARNING:matplotlib.font_manager:findfont: Generic family 'serif' not found because none of the following families were found: Times New Roman\n",
      "WARNING:matplotlib.font_manager:findfont: Generic family 'serif' not found because none of the following families were found: Times New Roman\n",
      "WARNING:matplotlib.font_manager:findfont: Generic family 'serif' not found because none of the following families were found: Times New Roman\n",
      "WARNING:matplotlib.font_manager:findfont: Generic family 'serif' not found because none of the following families were found: Times New Roman\n",
      "WARNING:matplotlib.font_manager:findfont: Generic family 'serif' not found because none of the following families were found: Times New Roman\n",
      "WARNING:matplotlib.font_manager:findfont: Generic family 'serif' not found because none of the following families were found: Times New Roman\n",
      "WARNING:matplotlib.font_manager:findfont: Generic family 'serif' not found because none of the following families were found: Times New Roman\n",
      "WARNING:matplotlib.font_manager:findfont: Generic family 'serif' not found because none of the following families were found: Times New Roman\n",
      "WARNING:matplotlib.font_manager:findfont: Generic family 'serif' not found because none of the following families were found: Times New Roman\n",
      "WARNING:matplotlib.font_manager:findfont: Generic family 'serif' not found because none of the following families were found: Times New Roman\n",
      "WARNING:matplotlib.font_manager:findfont: Generic family 'serif' not found because none of the following families were found: Times New Roman\n",
      "WARNING:matplotlib.font_manager:findfont: Generic family 'serif' not found because none of the following families were found: Times New Roman\n",
      "WARNING:matplotlib.font_manager:findfont: Generic family 'serif' not found because none of the following families were found: Times New Roman\n",
      "WARNING:matplotlib.font_manager:findfont: Generic family 'serif' not found because none of the following families were found: Times New Roman\n",
      "WARNING:matplotlib.font_manager:findfont: Generic family 'serif' not found because none of the following families were found: Times New Roman\n",
      "WARNING:matplotlib.font_manager:findfont: Generic family 'serif' not found because none of the following families were found: Times New Roman\n",
      "WARNING:matplotlib.font_manager:findfont: Generic family 'serif' not found because none of the following families were found: Times New Roman\n",
      "WARNING:matplotlib.font_manager:findfont: Generic family 'serif' not found because none of the following families were found: Times New Roman\n",
      "WARNING:matplotlib.font_manager:findfont: Generic family 'serif' not found because none of the following families were found: Times New Roman\n",
      "WARNING:matplotlib.font_manager:findfont: Generic family 'serif' not found because none of the following families were found: Times New Roman\n",
      "WARNING:matplotlib.font_manager:findfont: Generic family 'serif' not found because none of the following families were found: Times New Roman\n",
      "WARNING:matplotlib.font_manager:findfont: Generic family 'serif' not found because none of the following families were found: Times New Roman\n",
      "WARNING:matplotlib.font_manager:findfont: Generic family 'serif' not found because none of the following families were found: Times New Roman\n",
      "WARNING:matplotlib.font_manager:findfont: Generic family 'serif' not found because none of the following families were found: Times New Roman\n",
      "WARNING:matplotlib.font_manager:findfont: Generic family 'serif' not found because none of the following families were found: Times New Roman\n",
      "WARNING:matplotlib.font_manager:findfont: Generic family 'serif' not found because none of the following families were found: Times New Roman\n",
      "WARNING:matplotlib.font_manager:findfont: Generic family 'serif' not found because none of the following families were found: Times New Roman\n",
      "WARNING:matplotlib.font_manager:findfont: Generic family 'serif' not found because none of the following families were found: Times New Roman\n",
      "WARNING:matplotlib.font_manager:findfont: Generic family 'serif' not found because none of the following families were found: Times New Roman\n",
      "WARNING:matplotlib.font_manager:findfont: Generic family 'serif' not found because none of the following families were found: Times New Roman\n",
      "WARNING:matplotlib.font_manager:findfont: Generic family 'serif' not found because none of the following families were found: Times New Roman\n",
      "WARNING:matplotlib.font_manager:findfont: Generic family 'serif' not found because none of the following families were found: Times New Roman\n",
      "WARNING:matplotlib.font_manager:findfont: Generic family 'serif' not found because none of the following families were found: Times New Roman\n",
      "WARNING:matplotlib.font_manager:findfont: Generic family 'serif' not found because none of the following families were found: Times New Roman\n",
      "WARNING:matplotlib.font_manager:findfont: Generic family 'serif' not found because none of the following families were found: Times New Roman\n",
      "WARNING:matplotlib.font_manager:findfont: Generic family 'serif' not found because none of the following families were found: Times New Roman\n",
      "WARNING:matplotlib.font_manager:findfont: Generic family 'serif' not found because none of the following families were found: Times New Roman\n",
      "WARNING:matplotlib.font_manager:findfont: Generic family 'serif' not found because none of the following families were found: Times New Roman\n",
      "WARNING:matplotlib.font_manager:findfont: Generic family 'serif' not found because none of the following families were found: Times New Roman\n",
      "WARNING:matplotlib.font_manager:findfont: Generic family 'serif' not found because none of the following families were found: Times New Roman\n",
      "WARNING:matplotlib.font_manager:findfont: Generic family 'serif' not found because none of the following families were found: Times New Roman\n",
      "WARNING:matplotlib.font_manager:findfont: Generic family 'serif' not found because none of the following families were found: Times New Roman\n",
      "WARNING:matplotlib.font_manager:findfont: Generic family 'serif' not found because none of the following families were found: Times New Roman\n",
      "WARNING:matplotlib.font_manager:findfont: Generic family 'serif' not found because none of the following families were found: Times New Roman\n",
      "WARNING:matplotlib.font_manager:findfont: Generic family 'serif' not found because none of the following families were found: Times New Roman\n",
      "WARNING:matplotlib.font_manager:findfont: Generic family 'serif' not found because none of the following families were found: Times New Roman\n",
      "WARNING:matplotlib.font_manager:findfont: Generic family 'serif' not found because none of the following families were found: Times New Roman\n",
      "WARNING:matplotlib.font_manager:findfont: Generic family 'serif' not found because none of the following families were found: Times New Roman\n",
      "WARNING:matplotlib.font_manager:findfont: Generic family 'serif' not found because none of the following families were found: Times New Roman\n"
     ]
    },
    {
     "data": {
      "image/png": "[encoded data removed]",
      "text/plain": [
       "<Figure size 2000x2000 with 1 Axes>"
      ]
     },
     "metadata": {},
     "output_type": "display_data"
    }
   ],
   "source": [
    "fig, ax = plt.subplots(figsize=(20,20))\n",
    "ax.bar(\n",
    "    error_by_station_plz.index,\n",
    "    error_by_station_plz[\"precipitation_error\"],\n",
    "    tick_label = error_by_station_plz[\"station_id\"]\n",
    ")"
   ]
  },
  {
   "cell_type": "code",
   "execution_count": null,
   "metadata": {},
   "outputs": [
    {
     "ename": "NameError",
     "evalue": "name 'error_by_station_plz' is not defined",
     "output_type": "error",
     "traceback": [
      "\u001b[0;31m---------------------------------------------------------------------------\u001b[0m",
      "\u001b[0;31mNameError\u001b[0m                                 Traceback (most recent call last)",
      "Cell \u001b[0;32mIn[11], line 1\u001b[0m\n\u001b[0;32m----> 1\u001b[0m x_axis_range \u001b[38;5;241m=\u001b[39m np\u001b[38;5;241m.\u001b[39marange(\u001b[38;5;241m0\u001b[39m,\u001b[38;5;28mlen\u001b[39m(\u001b[43merror_by_station_plz\u001b[49m[\u001b[38;5;124m\"\u001b[39m\u001b[38;5;124mstation_id\u001b[39m\u001b[38;5;124m\"\u001b[39m]))\n\u001b[1;32m      3\u001b[0m fig, ax \u001b[38;5;241m=\u001b[39m plt\u001b[38;5;241m.\u001b[39msubplots()\n\u001b[1;32m      4\u001b[0m ax\u001b[38;5;241m.\u001b[39mscatter(\n\u001b[1;32m      5\u001b[0m     error_by_station_plz\u001b[38;5;241m.\u001b[39mindex,\n\u001b[1;32m      6\u001b[0m     error_by_station_plz[\u001b[38;5;124m\"\u001b[39m\u001b[38;5;124mprecipitation_error\u001b[39m\u001b[38;5;124m\"\u001b[39m],\n\u001b[1;32m      7\u001b[0m     marker\u001b[38;5;241m=\u001b[39m\u001b[38;5;124m\"\u001b[39m\u001b[38;5;124m.\u001b[39m\u001b[38;5;124m\"\u001b[39m\n\u001b[1;32m      8\u001b[0m )\n",
      "\u001b[0;31mNameError\u001b[0m: name 'error_by_station_plz' is not defined"
     ]
    }
   ],
   "source": [
    "x_axis_range = np.arange(0,len(error_by_station_plz[\"station_id\"]))\n",
    "\n",
    "fig, ax = plt.subplots()\n",
    "ax.scatter(\n",
    "    error_by_station_plz.index,\n",
    "    error_by_station_plz[\"precipitation_error\"],\n",
    "    marker=\".\"\n",
    ")\n",
    "\n",
    "ax.set(title = 'Precipitation Difference by Station')\n",
    "ax.set_xticklabels(error_by_station_plz[\"Stationsname\"].sort_index(), rotation = 45)\n",
    "print(error_by_station_plz[\"precipitation_error\"].loc[error_by_station_plz[\"Stationsname\"]==\"Baden-Baden-Geroldsau\"])"
   ]
  },
  {
   "cell_type": "markdown",
   "metadata": {},
   "source": [
    "Questions remain like: Why is Badeb-Baden-Geroldsau so much less raining than predicted?\n",
    "How many stations are over predicting? 24  How many stations are underpredicting? 12\n",
    "Now I try to correlate the stations errors by distance to each other\n",
    "Can we predict with the neighboring stations the precipitation of the station?\n",
    "1. Measure the distance of station 1 towards tübingen"
   ]
  },
  {
   "cell_type": "code",
   "execution_count": null,
   "metadata": {},
   "outputs": [
    {
     "ename": "NameError",
     "evalue": "name 'merge1' is not defined",
     "output_type": "error",
     "traceback": [
      "\u001b[0;31m---------------------------------------------------------------------------\u001b[0m",
      "\u001b[0;31mNameError\u001b[0m                                 Traceback (most recent call last)",
      "Cell \u001b[0;32mIn[2], line 2\u001b[0m\n\u001b[1;32m      1\u001b[0m \u001b[38;5;66;03m#Precipitation to difference\u001b[39;00m\n\u001b[0;32m----> 2\u001b[0m sorted_by_precipitation_m1 \u001b[38;5;241m=\u001b[39m \u001b[43mmerge1\u001b[49m\u001b[38;5;241m.\u001b[39msort_values(\u001b[38;5;124m\"\u001b[39m\u001b[38;5;124mprecipitation_real\u001b[39m\u001b[38;5;124m\"\u001b[39m)\n\u001b[1;32m      3\u001b[0m sorted_by_precipitation_m2 \u001b[38;5;241m=\u001b[39m merge2\u001b[38;5;241m.\u001b[39msort_values(\u001b[38;5;124m\"\u001b[39m\u001b[38;5;124mprecipitation_real\u001b[39m\u001b[38;5;124m\"\u001b[39m)\n\u001b[1;32m      4\u001b[0m sorted_by_precipitation_m2[\u001b[38;5;124m\"\u001b[39m\u001b[38;5;124mprecipitation_real\u001b[39m\u001b[38;5;124m\"\u001b[39m]\u001b[38;5;241m=\u001b[39msorted_by_precipitation_m2[\u001b[38;5;124m\"\u001b[39m\u001b[38;5;124mprecipitation_real\u001b[39m\u001b[38;5;124m\"\u001b[39m]\u001b[38;5;241m/\u001b[39m\u001b[38;5;241m3\u001b[39m\n",
      "\u001b[0;31mNameError\u001b[0m: name 'merge1' is not defined"
     ]
    }
   ],
   "source": [
    "#Precipitation to difference\n",
    "sorted_by_precipitation_m1 = merge1.sort_values(\"precipitation_real\")\n",
    "sorted_by_precipitation_m2 = merge2.sort_values(\"precipitation_real\")\n",
    "sorted_by_precipitation_m2[\"precipitation_real\"]=sorted_by_precipitation_m2[\"precipitation_real\"]/3\n",
    "sorted_by_precipitation_m2[\"precipitation_forecast\"]=sorted_by_precipitation_m2[\"precipitation_forecast\"]\n"
   ]
  },
  {
   "cell_type": "code",
   "execution_count": null,
   "metadata": {},
   "outputs": [
    {
     "ename": "NameError",
     "evalue": "name 'plt' is not defined",
     "output_type": "error",
     "traceback": [
      "\u001b[0;31m---------------------------------------------------------------------------\u001b[0m",
      "\u001b[0;31mNameError\u001b[0m                                 Traceback (most recent call last)",
      "Cell \u001b[0;32mIn[1], line 1\u001b[0m\n\u001b[0;32m----> 1\u001b[0m fig, ax \u001b[38;5;241m=\u001b[39m \u001b[43mplt\u001b[49m\u001b[38;5;241m.\u001b[39msubplots()\n\u001b[1;32m      3\u001b[0m \u001b[38;5;66;03m#plot sorted values\u001b[39;00m\n\u001b[1;32m      4\u001b[0m ax\u001b[38;5;241m.\u001b[39mscatter(sorted_by_precipitation_m1[\u001b[38;5;124m\"\u001b[39m\u001b[38;5;124mprecipitation_real\u001b[39m\u001b[38;5;124m\"\u001b[39m],\n\u001b[1;32m      5\u001b[0m            sorted_by_precipitation_m1[\u001b[38;5;124m\"\u001b[39m\u001b[38;5;124mprecipitation_error\u001b[39m\u001b[38;5;124m\"\u001b[39m],\n\u001b[1;32m      6\u001b[0m            c\u001b[38;5;241m=\u001b[39m cmap_color(\u001b[38;5;241m0.2\u001b[39m),\n\u001b[1;32m      7\u001b[0m            alpha\u001b[38;5;241m=\u001b[39m \u001b[38;5;241m0.05\u001b[39m,\n\u001b[1;32m      8\u001b[0m            label \u001b[38;5;241m=\u001b[39m \u001b[38;5;124m\"\u001b[39m\u001b[38;5;124mModel 1\u001b[39m\u001b[38;5;124m\"\u001b[39m,\n\u001b[1;32m      9\u001b[0m            marker \u001b[38;5;241m=\u001b[39m \u001b[38;5;124m\"\u001b[39m\u001b[38;5;124m.\u001b[39m\u001b[38;5;124m\"\u001b[39m)\n",
      "\u001b[0;31mNameError\u001b[0m: name 'plt' is not defined"
     ]
    }
   ],
   "source": [
    "fig, ax = plt.subplots()\n",
    "\n",
    "#plot sorted values\n",
    "ax.scatter(sorted_by_precipitation_m1[\"precipitation_real\"],\n",
    "           sorted_by_precipitation_m1[\"precipitation_error\"],\n",
    "           c= cmap_color(0.2),\n",
    "           alpha= 0.05,\n",
    "           label = \"Model 1\",\n",
    "           marker = \".\")\n",
    "ax.scatter(sorted_by_precipitation_m2[\"precipitation_real\"],\n",
    "           sorted_by_precipitation_m2[\"precipitation_error\"],\n",
    "           c= cmap_color(0.5),\n",
    "           alpha= 0.05,\n",
    "           label=\"Model 2\",\n",
    "           marker = \".\")\n",
    "\n",
    "#Plot mean\n",
    "ax.scatter(sorted_by_precipitation_m1[\"precipitation_real\"].mean(),\n",
    "           sorted_by_precipitation_m1[\"precipitation_error\"].mean(),\n",
    "             c= cmap_color(0.3),marker = \"o\")\n",
    "ax.scatter(sorted_by_precipitation_m2[\"precipitation_real\"].mean(),\n",
    "           sorted_by_precipitation_m2[\"precipitation_error\"].mean(),\n",
    "             c= cmap_color(0.6), marker = \"o\")\n",
    "ax.set(xlabel = \"Precipitation [mm/m^2]\",\n",
    "       ylabel= \"Precipitation difference [mm/m^2]\",\n",
    "       title= \"Difference of Precipitation and Forecast\",\n",
    "       ylim = (-6,4),\n",
    "       xlim= (0,4))\n",
    "#ax.axis('equal')\n",
    "print(\"MeanPrecipitation/Precipitation Error for Model 1 (real =\",\n",
    "      sorted_by_precipitation_m1[\"precipitation_real\"].mean() ,\n",
    "      \", difference by forecast = \",\n",
    "      sorted_by_precipitation_m1[\"precipitation_error\"].mean(), \")\" )\n",
    "print(\"MeanPrecipitation/Precipitation Error for Model 2 (real =\",\n",
    "      sorted_by_precipitation_m2[\"precipitation_real\"].mean() ,\n",
    "      \", difference by forecast = \",\n",
    "      sorted_by_precipitation_m2[\"precipitation_error\"].mean(), \")\" )\n",
    "plt.rcParams.update()\n",
    "\n",
    "#Create Legend\n",
    "eight = mlines.Line2D([], [], color=cmap_color(0.2), marker='.', ls='', label='Model 1')\n",
    "nine = mlines.Line2D([], [], color=cmap_color(0.5), marker='.', ls='', label='Model 2')\n",
    "# etc etc\n",
    "plt.legend(handles=[eight, nine])"
   ]
  },
  {
   "cell_type": "code",
   "execution_count": null,
   "metadata": {},
   "outputs": [],
   "source": [
    "#Accuracy\n",
    "#Threshold difference> 0.002 mm/m^2\n",
    "error_by_station_model_1_sorted = merge1.sort_values(\"station_id\")"
   ]
  },
  {
   "cell_type": "code",
   "execution_count": null,
   "metadata": {},
   "outputs": [],
   "source": [
    "error_by_station_model_1_sorted[\"Accuracy_difference_greater_0.002\"]= (error_by_station_model_1_sorted[\"precipitation_error\"]>0.002).astype(int) \n",
    "error_by_station_model_1_sorted[\"Accuracy_difference_greater_0.002\"] = error_by_station_model_1_sorted.groupby(\"station_id\").mean()[\"Accuracy_difference_greater_0.002\"]"
   ]
  },
  {
   "cell_type": "code",
   "execution_count": null,
   "metadata": {},
   "outputs": [
    {
     "name": "stdout",
     "output_type": "stream",
     "text": [
      "91305      257\n",
      "91306      257\n",
      "91307      257\n",
      "91308      257\n",
      "91309      257\n",
      "         ...  \n",
      "56417    13965\n",
      "56402    13965\n",
      "56403    13965\n",
      "56420    13965\n",
      "12313    13965\n",
      "Name: station_id, Length: 93314, dtype: int64\n"
     ]
    },
    {
     "data": {
      "text/plain": [
       "<matplotlib.collections.PathCollection at 0x7fe8d3419350>"
      ]
     },
     "execution_count": 22,
     "metadata": {},
     "output_type": "execute_result"
    },
    {
     "name": "stderr",
     "output_type": "stream",
     "text": [
      "WARNING:matplotlib.font_manager:findfont: Generic family 'serif' not found because none of the following families were found: Times New Roman\n",
      "WARNING:matplotlib.font_manager:findfont: Generic family 'serif' not found because none of the following families were found: Times New Roman\n",
      "WARNING:matplotlib.font_manager:findfont: Generic family 'serif' not found because none of the following families were found: Times New Roman\n",
      "WARNING:matplotlib.font_manager:findfont: Generic family 'serif' not found because none of the following families were found: Times New Roman\n",
      "WARNING:matplotlib.font_manager:findfont: Generic family 'serif' not found because none of the following families were found: Times New Roman\n",
      "WARNING:matplotlib.font_manager:findfont: Generic family 'serif' not found because none of the following families were found: Times New Roman\n",
      "WARNING:matplotlib.font_manager:findfont: Generic family 'serif' not found because none of the following families were found: Times New Roman\n",
      "WARNING:matplotlib.font_manager:findfont: Generic family 'serif' not found because none of the following families were found: Times New Roman\n",
      "WARNING:matplotlib.font_manager:findfont: Generic family 'serif' not found because none of the following families were found: Times New Roman\n",
      "WARNING:matplotlib.font_manager:findfont: Generic family 'serif' not found because none of the following families were found: Times New Roman\n",
      "WARNING:matplotlib.font_manager:findfont: Generic family 'serif' not found because none of the following families were found: Times New Roman\n",
      "WARNING:matplotlib.font_manager:findfont: Generic family 'serif' not found because none of the following families were found: Times New Roman\n",
      "WARNING:matplotlib.font_manager:findfont: Generic family 'serif' not found because none of the following families were found: Times New Roman\n",
      "WARNING:matplotlib.font_manager:findfont: Generic family 'serif' not found because none of the following families were found: Times New Roman\n",
      "WARNING:matplotlib.font_manager:findfont: Generic family 'serif' not found because none of the following families were found: Times New Roman\n"
     ]
    },
    {
     "name": "stderr",
     "output_type": "stream",
     "text": [
      "WARNING:matplotlib.font_manager:findfont: Generic family 'serif' not found because none of the following families were found: Times New Roman\n",
      "WARNING:matplotlib.font_manager:findfont: Generic family 'serif' not found because none of the following families were found: Times New Roman\n",
      "WARNING:matplotlib.font_manager:findfont: Generic family 'serif' not found because none of the following families were found: Times New Roman\n",
      "WARNING:matplotlib.font_manager:findfont: Generic family 'serif' not found because none of the following families were found: Times New Roman\n",
      "WARNING:matplotlib.font_manager:findfont: Generic family 'serif' not found because none of the following families were found: Times New Roman\n",
      "WARNING:matplotlib.font_manager:findfont: Generic family 'serif' not found because none of the following families were found: Times New Roman\n",
      "WARNING:matplotlib.font_manager:findfont: Generic family 'serif' not found because none of the following families were found: Times New Roman\n",
      "WARNING:matplotlib.font_manager:findfont: Generic family 'serif' not found because none of the following families were found: Times New Roman\n",
      "WARNING:matplotlib.font_manager:findfont: Generic family 'serif' not found because none of the following families were found: Times New Roman\n",
      "WARNING:matplotlib.font_manager:findfont: Generic family 'serif' not found because none of the following families were found: Times New Roman\n",
      "WARNING:matplotlib.font_manager:findfont: Generic family 'serif' not found because none of the following families were found: Times New Roman\n",
      "WARNING:matplotlib.font_manager:findfont: Generic family 'serif' not found because none of the following families were found: Times New Roman\n",
      "WARNING:matplotlib.font_manager:findfont: Generic family 'serif' not found because none of the following families were found: Times New Roman\n",
      "WARNING:matplotlib.font_manager:findfont: Generic family 'serif' not found because none of the following families were found: Times New Roman\n",
      "WARNING:matplotlib.font_manager:findfont: Generic family 'serif' not found because none of the following families were found: Times New Roman\n"
     ]
    },
    {
     "data": {
      "image/png": "[encoded data removed]",
      "text/plain": [
       "<Figure size 325x200.861 with 1 Axes>"
      ]
     },
     "metadata": {},
     "output_type": "display_data"
    }
   ],
   "source": [
    "\n",
    "print(error_by_station_model_1_sorted[\"station_id\"])\n",
    "fig, ax = plt.subplots()\n",
    "ax.scatter(\n",
    "    error_by_station_model_1_sorted[\"station_id\"],\n",
    "    error_by_station_model_1_sorted[\"Accuracy_difference_greater_0.002\"]\n",
    ")"
   ]
  }
 ],
 "metadata": {
  "kernelspec": {
   "display_name": "DataLiteracy",
   "language": "python",
   "name": "python3"
  },
  "language_info": {
   "codemirror_mode": {
    "name": "ipython",
    "version": 3
   },
   "file_extension": ".py",
   "mimetype": "text/x-python",
   "name": "python",
   "nbconvert_exporter": "python",
   "pygments_lexer": "ipython3",
   "version": "3.11.7"
  }
 },
 "nbformat": 4,
 "nbformat_minor": 2
}
