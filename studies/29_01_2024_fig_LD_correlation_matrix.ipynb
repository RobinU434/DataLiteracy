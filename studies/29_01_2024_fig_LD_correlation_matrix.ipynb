{
 "cells": [
  {
   "cell_type": "code",
   "execution_count": 1,
   "metadata": {},
   "outputs": [],
   "source": [
    "#Raw data displayed\n",
    "#plots created by Robin Uhrich\n",
    "#modified by Lilli DIederichs\n",
    "\n",
    "import matplotlib.pyplot as plt\n",
    "import numpy as np\n",
    "from tqdm import tqdm\n",
    "import os\n",
    "\n",
    "# sys.path.append(\"/\".join(sys.path[0].split(\"/\")[:-1]))\n",
    "\n",
    "from studies.utils.dwd_data import DWD_Dataset, Feature\n",
    "\n",
    "import polars as pl\n",
    "import pandas as pd\n",
    "import datetime\n",
    "import matplotlib\n",
    "import seaborn as sn\n",
    "\n",
    "\n",
    "#Tueplots\n",
    "from scipy.stats import linregress\n",
    "import matplotlib.colors as mcolors\n",
    "from tueplots import cycler, markers,figsizes, fonts\n",
    "from tueplots.constants import markers as marker_constants\n",
    "from tueplots.constants.color import palettes\n",
    "\n",
    "#Legend\n",
    "import matplotlib.lines as mlines"
   ]
  },
  {
   "cell_type": "code",
   "execution_count": 2,
   "metadata": {},
   "outputs": [],
   "source": [
    "#Plotting Params\n",
    "\n",
    "plt.rcParams.update(figsizes.icml2022_full())\n",
    "tue_plot_colors = palettes.tue_plot\n",
    "from studies.utils.setup_pyplot import (\n",
    "    SIDEEFFECTS_setup_tueplot,\n",
    "    SIDEEFFECTS_choose_color_palette,\n",
    ")\n",
    "SIDEEFFECTS_setup_tueplot()\n",
    "FIG_SAVE_BASE_PATH = '../docs/report/fig/'"
   ]
  },
  {
   "cell_type": "code",
   "execution_count": 3,
   "metadata": {},
   "outputs": [],
   "source": [
    "#Import dataset\n",
    "dataset_model_1 = DWD_Dataset(\n",
    "    source_path=\"../data/dwd\",\n",
    "    model=1,\n",
    "    feature=Feature.PRECIPITATION\n",
    ")\n",
    "dataset_model_2 = DWD_Dataset(\n",
    "    source_path=\"../data/dwd\",\n",
    "    model=2,\n",
    "    feature=Feature.PRECIPITATION\n",
    ")"
   ]
  },
  {
   "cell_type": "code",
   "execution_count": 4,
   "metadata": {},
   "outputs": [
    {
     "data": {
      "image/png": "[encoded data removed]",
      "text/plain": [
       "<Figure size 325x200.861 with 2 Axes>"
      ]
     },
     "metadata": {},
     "output_type": "display_data"
    }
   ],
   "source": [
    "import pandas as pd\n",
    "from sklearn.decomposition import PCA\n",
    "from sklearn.preprocessing import StandardScaler\n",
    "\n",
    "def get_delta_seconds(series):\n",
    "    return series.total_seconds()\n",
    "\n",
    "\n",
    "merge1 = dataset_model_1.get_merge().copy()\n",
    "merge2 = dataset_model_2.get_merge().copy()\n",
    "\n",
    "station_meta = dataset_model_1._stations\n",
    "used_station_ids = merge1[\"station_id\"].unique()\n",
    "station_meta = station_meta[\n",
    "    station_meta[\"Stations_ID\"].isin(used_station_ids)\n",
    "    & (station_meta[\"Kennung\"] == \"MN\")\n",
    "]\n",
    "coords = station_meta[[\"Stations_ID\", \"Breite\", \"Länge\", \"Stations-höhe\"]]\n",
    "coords = coords.rename(\n",
    "    columns={\n",
    "        \"Stations_ID\": \"station_id\",\n",
    "        \"Breite\": \"Latitude\",\n",
    "        \"Länge\": \"Longitude\",\n",
    "        \"Stations-höhe\": \"Altitude\",\n",
    "    }\n",
    ")\n",
    "merge1[\"day\"] = merge1[\"time\"].dt.day\n",
    "time_delta = (merge1[\"time\"] - merge1[\"call_time\"]).apply(get_delta_seconds)\n",
    "merge1[\"time_delta\"] = time_delta\n",
    "merge1 = pd.merge(merge1, coords, how=\"left\", on=\"station_id\")\n",
    "\n",
    "# Drop the original datetime column\n",
    "merge1 = merge1.drop(columns=\"time\")\n",
    "merge1 = merge1.drop(columns=\"station_id\")\n",
    "merge1 = merge1.drop(columns=\"day\")\n",
    "\n",
    "#Plot Correlation Matrix\n",
    "fig, axs = plt.subplots()\n",
    "axs.set_aspect('equal')\n",
    "#axs.set_title('Correlation Matrix')\n",
    "names = merge1.columns\n",
    "corr = merge1.corr()\n",
    "\n",
    "ylabel = [\"Query\", \"Forecast\", \"Reference\", \"Difference\", \"$\\Delta t$\", \"Latitude\", \"Longitude\", \"Altitude\"]\n",
    "heatmap = sn.heatmap(corr, cmap=\"seismic\", yticklabels=ylabel, xticklabels=ylabel, vmin=-1, vmax=1, ax=axs)\n",
    "\n",
    "# Rotate x-axis labels by 90 degrees\n",
    "heatmap.set_xticklabels(heatmap.get_xticklabels(), rotation=90)\n",
    "\n",
    "plt.savefig(os.path.join(FIG_SAVE_BASE_PATH,'fig_correlation_matrix.pdf'))\n"
   ]
  }
 ],
 "metadata": {
  "kernelspec": {
   "display_name": "project",
   "language": "python",
   "name": "python3"
  },
  "language_info": {
   "codemirror_mode": {
    "name": "ipython",
    "version": 3
   },
   "file_extension": ".py",
   "mimetype": "text/x-python",
   "name": "python",
   "nbconvert_exporter": "python",
   "pygments_lexer": "ipython3",
   "version": "3.11.7"
  }
 },
 "nbformat": 4,
 "nbformat_minor": 2
}
