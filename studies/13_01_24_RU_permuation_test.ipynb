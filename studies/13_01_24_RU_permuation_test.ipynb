{
 "cells": [
  {
   "cell_type": "markdown",
   "metadata": {},
   "source": [
    "# Permutation Tests"
   ]
  },
  {
   "cell_type": "code",
   "execution_count": 1,
   "metadata": {},
   "outputs": [],
   "source": [
    "import sys\n",
    "from random import shuffle\n",
    "\n",
    "import matplotlib.pyplot as plt\n",
    "import numpy as np\n",
    "from tqdm import tqdm\n",
    "\n",
    "sys.path.append(\"/\".join(sys.path[0].split(\"/\")[:-1]))\n",
    "\n",
    "from studies.utils.dwd_data import DWD_Dataset, Feature"
   ]
  },
  {
   "cell_type": "code",
   "execution_count": 2,
   "metadata": {},
   "outputs": [],
   "source": [
    "FIG_SAVE_BASE_PATH = \"../docs/report/fig/\""
   ]
  },
  {
   "cell_type": "code",
   "execution_count": 3,
   "metadata": {},
   "outputs": [],
   "source": [
    "dataset_model_1 = DWD_Dataset(source_path=\"../data/dwd\", feature=Feature.PRECIPITATION, model=1)\n",
    "dataset_model_2 = DWD_Dataset(source_path=\"../data/dwd\", feature=Feature.PRECIPITATION, model=2)"
   ]
  },
  {
   "cell_type": "markdown",
   "metadata": {},
   "source": [
    "## H0: The forecast is not prone to overestimate nor underestimate precipitation "
   ]
  },
  {
   "cell_type": "code",
   "execution_count": 4,
   "metadata": {},
   "outputs": [
    {
     "name": "stderr",
     "output_type": "stream",
     "text": [
      "100%|██████████| 500/500 [00:45<00:00, 11.09it/s]\n"
     ]
    }
   ],
   "source": [
    "merge1 = dataset_model_1.get_merge()\n",
    "merge2 = dataset_model_2.get_merge()\n",
    "\n",
    "# Bootstrap\n",
    "N_BOOT = 500\n",
    "\n",
    "boot_mean_errors = np.empty((N_BOOT, 2))\n",
    "for i in tqdm(range(N_BOOT)):\n",
    "    # concatenate real values as forecasts ....\n",
    "    concat = np.concatenate(\n",
    "        [merge1[\"precipitation_forecast\"].values.copy(), merge1[\"precipitation_real\"].values.copy()]\n",
    "    )\n",
    "    # ... shuffle it because it should not make a difference if I take the value of a perfect model or the real life data...\n",
    "    shuffle(concat)\n",
    "    # ... and take the mean difference\n",
    "    shuffle_error = concat[: len(merge1)] - concat[len(merge1) :]\n",
    "    boot_mean_errors[i, 0] = shuffle_error.mean()\n",
    "\n",
    "    concat = np.concatenate(\n",
    "        [merge2[\"precipitation_forecast\"].values.copy(), merge2[\"precipitation_real\"].values.copy()]\n",
    "    )\n",
    "    shuffle(concat)\n",
    "    shuffle_error = concat[: len(merge2)] - concat[len(merge2) :]\n",
    "    boot_mean_errors[i, 1] = shuffle_error.mean()"
   ]
  },
  {
   "cell_type": "code",
   "execution_count": 5,
   "metadata": {},
   "outputs": [],
   "source": [
    "mean_error1 = merge1[\"precipitation_error\"].mean()\n",
    "mean_error2 = merge2[\"precipitation_error\"].mean()"
   ]
  },
  {
   "cell_type": "code",
   "execution_count": 6,
   "metadata": {},
   "outputs": [
    {
     "name": "stderr",
     "output_type": "stream",
     "text": [
      "/home/robin/miniconda3/envs/DataLiteracy/lib/python3.11/site-packages/matplotlib/axes/_axes.py:6831: RuntimeWarning: All-NaN slice encountered\n",
      "  xmin = min(xmin, np.nanmin(xi))\n",
      "/home/robin/miniconda3/envs/DataLiteracy/lib/python3.11/site-packages/matplotlib/axes/_axes.py:6832: RuntimeWarning: All-NaN slice encountered\n",
      "  xmax = max(xmax, np.nanmax(xi))\n"
     ]
    },
    {
     "ename": "ValueError",
     "evalue": "autodetected range of [nan, nan] is not finite",
     "output_type": "error",
     "traceback": [
      "\u001b[0;31m---------------------------------------------------------------------------\u001b[0m",
      "\u001b[0;31mValueError\u001b[0m                                Traceback (most recent call last)",
      "Cell \u001b[0;32mIn[6], line 3\u001b[0m\n\u001b[1;32m      1\u001b[0m \u001b[38;5;66;03m# for model 1\u001b[39;00m\n\u001b[1;32m      2\u001b[0m fig, axs \u001b[38;5;241m=\u001b[39m plt\u001b[38;5;241m.\u001b[39msubplots(nrows\u001b[38;5;241m=\u001b[39m\u001b[38;5;241m2\u001b[39m, sharex\u001b[38;5;241m=\u001b[39m\u001b[38;5;28;01mTrue\u001b[39;00m)\n\u001b[0;32m----> 3\u001b[0m counts, bins, _ \u001b[38;5;241m=\u001b[39m \u001b[43maxs\u001b[49m\u001b[43m[\u001b[49m\u001b[38;5;241;43m0\u001b[39;49m\u001b[43m]\u001b[49m\u001b[38;5;241;43m.\u001b[39;49m\u001b[43mhist\u001b[49m\u001b[43m(\u001b[49m\u001b[43mboot_mean_errors\u001b[49m\u001b[43m[\u001b[49m\u001b[43m:\u001b[49m\u001b[43m,\u001b[49m\u001b[43m \u001b[49m\u001b[38;5;241;43m0\u001b[39;49m\u001b[43m]\u001b[49m\u001b[43m)\u001b[49m\n\u001b[1;32m      4\u001b[0m counts \u001b[38;5;241m=\u001b[39m counts \u001b[38;5;241m/\u001b[39m counts\u001b[38;5;241m.\u001b[39msum()\n\u001b[1;32m      5\u001b[0m axs[\u001b[38;5;241m0\u001b[39m]\u001b[38;5;241m.\u001b[39maxvline(mean_error1, c\u001b[38;5;241m=\u001b[39m\u001b[38;5;124m\"\u001b[39m\u001b[38;5;124morange\u001b[39m\u001b[38;5;124m\"\u001b[39m)\n",
      "File \u001b[0;32m~/miniconda3/envs/DataLiteracy/lib/python3.11/site-packages/matplotlib/__init__.py:1465\u001b[0m, in \u001b[0;36m_preprocess_data.<locals>.inner\u001b[0;34m(ax, data, *args, **kwargs)\u001b[0m\n\u001b[1;32m   1462\u001b[0m \u001b[38;5;129m@functools\u001b[39m\u001b[38;5;241m.\u001b[39mwraps(func)\n\u001b[1;32m   1463\u001b[0m \u001b[38;5;28;01mdef\u001b[39;00m \u001b[38;5;21minner\u001b[39m(ax, \u001b[38;5;241m*\u001b[39margs, data\u001b[38;5;241m=\u001b[39m\u001b[38;5;28;01mNone\u001b[39;00m, \u001b[38;5;241m*\u001b[39m\u001b[38;5;241m*\u001b[39mkwargs):\n\u001b[1;32m   1464\u001b[0m     \u001b[38;5;28;01mif\u001b[39;00m data \u001b[38;5;129;01mis\u001b[39;00m \u001b[38;5;28;01mNone\u001b[39;00m:\n\u001b[0;32m-> 1465\u001b[0m         \u001b[38;5;28;01mreturn\u001b[39;00m \u001b[43mfunc\u001b[49m\u001b[43m(\u001b[49m\u001b[43max\u001b[49m\u001b[43m,\u001b[49m\u001b[43m \u001b[49m\u001b[38;5;241;43m*\u001b[39;49m\u001b[38;5;28;43mmap\u001b[39;49m\u001b[43m(\u001b[49m\u001b[43msanitize_sequence\u001b[49m\u001b[43m,\u001b[49m\u001b[43m \u001b[49m\u001b[43margs\u001b[49m\u001b[43m)\u001b[49m\u001b[43m,\u001b[49m\u001b[43m \u001b[49m\u001b[38;5;241;43m*\u001b[39;49m\u001b[38;5;241;43m*\u001b[39;49m\u001b[43mkwargs\u001b[49m\u001b[43m)\u001b[49m\n\u001b[1;32m   1467\u001b[0m     bound \u001b[38;5;241m=\u001b[39m new_sig\u001b[38;5;241m.\u001b[39mbind(ax, \u001b[38;5;241m*\u001b[39margs, \u001b[38;5;241m*\u001b[39m\u001b[38;5;241m*\u001b[39mkwargs)\n\u001b[1;32m   1468\u001b[0m     auto_label \u001b[38;5;241m=\u001b[39m (bound\u001b[38;5;241m.\u001b[39marguments\u001b[38;5;241m.\u001b[39mget(label_namer)\n\u001b[1;32m   1469\u001b[0m                   \u001b[38;5;129;01mor\u001b[39;00m bound\u001b[38;5;241m.\u001b[39mkwargs\u001b[38;5;241m.\u001b[39mget(label_namer))\n",
      "File \u001b[0;32m~/miniconda3/envs/DataLiteracy/lib/python3.11/site-packages/matplotlib/axes/_axes.py:6859\u001b[0m, in \u001b[0;36mAxes.hist\u001b[0;34m(self, x, bins, range, density, weights, cumulative, bottom, histtype, align, orientation, rwidth, log, color, label, stacked, **kwargs)\u001b[0m\n\u001b[1;32m   6855\u001b[0m \u001b[38;5;66;03m# Loop through datasets\u001b[39;00m\n\u001b[1;32m   6856\u001b[0m \u001b[38;5;28;01mfor\u001b[39;00m i \u001b[38;5;129;01min\u001b[39;00m \u001b[38;5;28mrange\u001b[39m(nx):\n\u001b[1;32m   6857\u001b[0m     \u001b[38;5;66;03m# this will automatically overwrite bins,\u001b[39;00m\n\u001b[1;32m   6858\u001b[0m     \u001b[38;5;66;03m# so that each histogram uses the same bins\u001b[39;00m\n\u001b[0;32m-> 6859\u001b[0m     m, bins \u001b[38;5;241m=\u001b[39m \u001b[43mnp\u001b[49m\u001b[38;5;241;43m.\u001b[39;49m\u001b[43mhistogram\u001b[49m\u001b[43m(\u001b[49m\u001b[43mx\u001b[49m\u001b[43m[\u001b[49m\u001b[43mi\u001b[49m\u001b[43m]\u001b[49m\u001b[43m,\u001b[49m\u001b[43m \u001b[49m\u001b[43mbins\u001b[49m\u001b[43m,\u001b[49m\u001b[43m \u001b[49m\u001b[43mweights\u001b[49m\u001b[38;5;241;43m=\u001b[39;49m\u001b[43mw\u001b[49m\u001b[43m[\u001b[49m\u001b[43mi\u001b[49m\u001b[43m]\u001b[49m\u001b[43m,\u001b[49m\u001b[43m \u001b[49m\u001b[38;5;241;43m*\u001b[39;49m\u001b[38;5;241;43m*\u001b[39;49m\u001b[43mhist_kwargs\u001b[49m\u001b[43m)\u001b[49m\n\u001b[1;32m   6860\u001b[0m     tops\u001b[38;5;241m.\u001b[39mappend(m)\n\u001b[1;32m   6861\u001b[0m tops \u001b[38;5;241m=\u001b[39m np\u001b[38;5;241m.\u001b[39marray(tops, \u001b[38;5;28mfloat\u001b[39m)  \u001b[38;5;66;03m# causes problems later if it's an int\u001b[39;00m\n",
      "File \u001b[0;32m~/miniconda3/envs/DataLiteracy/lib/python3.11/site-packages/numpy/lib/histograms.py:780\u001b[0m, in \u001b[0;36mhistogram\u001b[0;34m(a, bins, range, density, weights)\u001b[0m\n\u001b[1;32m    680\u001b[0m \u001b[38;5;250m\u001b[39m\u001b[38;5;124mr\u001b[39m\u001b[38;5;124;03m\"\"\"\u001b[39;00m\n\u001b[1;32m    681\u001b[0m \u001b[38;5;124;03mCompute the histogram of a dataset.\u001b[39;00m\n\u001b[1;32m    682\u001b[0m \n\u001b[0;32m   (...)\u001b[0m\n\u001b[1;32m    776\u001b[0m \n\u001b[1;32m    777\u001b[0m \u001b[38;5;124;03m\"\"\"\u001b[39;00m\n\u001b[1;32m    778\u001b[0m a, weights \u001b[38;5;241m=\u001b[39m _ravel_and_check_weights(a, weights)\n\u001b[0;32m--> 780\u001b[0m bin_edges, uniform_bins \u001b[38;5;241m=\u001b[39m \u001b[43m_get_bin_edges\u001b[49m\u001b[43m(\u001b[49m\u001b[43ma\u001b[49m\u001b[43m,\u001b[49m\u001b[43m \u001b[49m\u001b[43mbins\u001b[49m\u001b[43m,\u001b[49m\u001b[43m \u001b[49m\u001b[38;5;28;43mrange\u001b[39;49m\u001b[43m,\u001b[49m\u001b[43m \u001b[49m\u001b[43mweights\u001b[49m\u001b[43m)\u001b[49m\n\u001b[1;32m    782\u001b[0m \u001b[38;5;66;03m# Histogram is an integer or a float array depending on the weights.\u001b[39;00m\n\u001b[1;32m    783\u001b[0m \u001b[38;5;28;01mif\u001b[39;00m weights \u001b[38;5;129;01mis\u001b[39;00m \u001b[38;5;28;01mNone\u001b[39;00m:\n",
      "File \u001b[0;32m~/miniconda3/envs/DataLiteracy/lib/python3.11/site-packages/numpy/lib/histograms.py:426\u001b[0m, in \u001b[0;36m_get_bin_edges\u001b[0;34m(a, bins, range, weights)\u001b[0m\n\u001b[1;32m    423\u001b[0m     \u001b[38;5;28;01mif\u001b[39;00m n_equal_bins \u001b[38;5;241m<\u001b[39m \u001b[38;5;241m1\u001b[39m:\n\u001b[1;32m    424\u001b[0m         \u001b[38;5;28;01mraise\u001b[39;00m \u001b[38;5;167;01mValueError\u001b[39;00m(\u001b[38;5;124m'\u001b[39m\u001b[38;5;124m`bins` must be positive, when an integer\u001b[39m\u001b[38;5;124m'\u001b[39m)\n\u001b[0;32m--> 426\u001b[0m     first_edge, last_edge \u001b[38;5;241m=\u001b[39m \u001b[43m_get_outer_edges\u001b[49m\u001b[43m(\u001b[49m\u001b[43ma\u001b[49m\u001b[43m,\u001b[49m\u001b[43m \u001b[49m\u001b[38;5;28;43mrange\u001b[39;49m\u001b[43m)\u001b[49m\n\u001b[1;32m    428\u001b[0m \u001b[38;5;28;01melif\u001b[39;00m np\u001b[38;5;241m.\u001b[39mndim(bins) \u001b[38;5;241m==\u001b[39m \u001b[38;5;241m1\u001b[39m:\n\u001b[1;32m    429\u001b[0m     bin_edges \u001b[38;5;241m=\u001b[39m np\u001b[38;5;241m.\u001b[39masarray(bins)\n",
      "File \u001b[0;32m~/miniconda3/envs/DataLiteracy/lib/python3.11/site-packages/numpy/lib/histograms.py:323\u001b[0m, in \u001b[0;36m_get_outer_edges\u001b[0;34m(a, range)\u001b[0m\n\u001b[1;32m    321\u001b[0m     first_edge, last_edge \u001b[38;5;241m=\u001b[39m a\u001b[38;5;241m.\u001b[39mmin(), a\u001b[38;5;241m.\u001b[39mmax()\n\u001b[1;32m    322\u001b[0m     \u001b[38;5;28;01mif\u001b[39;00m \u001b[38;5;129;01mnot\u001b[39;00m (np\u001b[38;5;241m.\u001b[39misfinite(first_edge) \u001b[38;5;129;01mand\u001b[39;00m np\u001b[38;5;241m.\u001b[39misfinite(last_edge)):\n\u001b[0;32m--> 323\u001b[0m         \u001b[38;5;28;01mraise\u001b[39;00m \u001b[38;5;167;01mValueError\u001b[39;00m(\n\u001b[1;32m    324\u001b[0m             \u001b[38;5;124m\"\u001b[39m\u001b[38;5;124mautodetected range of [\u001b[39m\u001b[38;5;132;01m{}\u001b[39;00m\u001b[38;5;124m, \u001b[39m\u001b[38;5;132;01m{}\u001b[39;00m\u001b[38;5;124m] is not finite\u001b[39m\u001b[38;5;124m\"\u001b[39m\u001b[38;5;241m.\u001b[39mformat(first_edge, last_edge))\n\u001b[1;32m    326\u001b[0m \u001b[38;5;66;03m# expand empty range to avoid divide by zero\u001b[39;00m\n\u001b[1;32m    327\u001b[0m \u001b[38;5;28;01mif\u001b[39;00m first_edge \u001b[38;5;241m==\u001b[39m last_edge:\n",
      "\u001b[0;31mValueError\u001b[0m: autodetected range of [nan, nan] is not finite"
     ]
    },
    {
     "data": {
      "image/png": "[encoded data removed]",
      "text/plain": [
       "<Figure size 640x480 with 2 Axes>"
      ]
     },
     "metadata": {},
     "output_type": "display_data"
    }
   ],
   "source": [
    "# for model 1\n",
    "fig, axs = plt.subplots(nrows=2, sharex=True)\n",
    "counts, bins, _ = axs[0].hist(boot_mean_errors[:, 0])\n",
    "counts = counts / counts.sum()\n",
    "axs[0].axvline(mean_error1, c=\"orange\")\n",
    "cdf = np.cumsum(counts)\n",
    "axs[1].plot(bins[:-1],1 - cdf)\n",
    "axs[1].axvline(mean_error1, c=\"orange\")"
   ]
  },
  {
   "cell_type": "code",
   "execution_count": null,
   "metadata": {},
   "outputs": [
    {
     "data": {
      "text/plain": [
       "<matplotlib.lines.Line2D at 0x7f475897e610>"
      ]
     },
     "execution_count": 10,
     "metadata": {},
     "output_type": "execute_result"
    },
    {
     "data": {
      "image/png": "[encoded data removed]",
      "text/plain": [
       "<Figure size 640x480 with 2 Axes>"
      ]
     },
     "metadata": {},
     "output_type": "display_data"
    }
   ],
   "source": [
    "# for model 2\n",
    "fig, axs = plt.subplots(nrows=2, sharex=True)\n",
    "counts, bins, _ = axs[0].hist(boot_mean_errors[:, 1])\n",
    "counts = counts / counts.sum()\n",
    "axs[0].axvline(mean_error2, c=\"orange\")\n",
    "cdf = np.cumsum(counts)\n",
    "axs[1].plot(bins[:-1],1 - cdf)\n",
    "axs[1].axvline(mean_error2, c=\"orange\")"
   ]
  },
  {
   "cell_type": "markdown",
   "metadata": {},
   "source": [
    "Conclusion: Test results are very significant. We will reject reject H0"
   ]
  },
  {
   "cell_type": "markdown",
   "metadata": {},
   "source": [
    "Recall the difference plots over time steps into the future.  \n",
    "Are the coefficients we found for the linear trend significant?\n",
    "\n",
    "## H0: There is no difference between the error at t versus the error at t + h with t >= 0 and h > 0. "
   ]
  },
  {
   "cell_type": "code",
   "execution_count": null,
   "metadata": {},
   "outputs": [],
   "source": [
    "merge1 = dataset_model_1.get_merge()\n",
    "\n",
    "call_times = sorted(merge1[\"call_time\"].unique())\n",
    "station_ids = sorted(merge1[\"station_id\"].unique())\n",
    "result = []\n",
    "for call_time in call_times:\n",
    "    call_time_result = []\n",
    "    for station_id in station_ids:\n",
    "        sub_df_forecast = merge1[(merge1[\"call_time\"] == call_time) & (merge1[\"station_id\"] == station_id)]\n",
    "        \n",
    "        if len(sub_df_forecast) < 72:\n",
    "            continue\n",
    "        call_time_result.append(sub_df_forecast[\"precipitation_error\"].values[:72])\n",
    "    \n",
    "    if not call_time_result:\n",
    "        continue\n",
    "    result.append(np.stack(call_time_result))\n",
    "error_mat_model_1 = np.stack(result)\n",
    "\n"
   ]
  },
  {
   "cell_type": "code",
   "execution_count": null,
   "metadata": {},
   "outputs": [],
   "source": [
    "merge2 = dataset_model_2.get_merge() \n",
    "\n",
    "call_times = sorted(merge2[\"call_time\"].unique())\n",
    "station_ids = sorted(merge2[\"station_id\"].unique())\n",
    "result = []\n",
    "for call_time in call_times:\n",
    "    call_time_result = []\n",
    "    for station_id in station_ids:\n",
    "        sub_df_forecast = merge2[(merge2[\"call_time\"] == call_time) & (merge2[\"station_id\"] == station_id)]\n",
    "        \n",
    "        if len(sub_df_forecast) < 56:  # 56 is how many samples are expected in a forecast of model 2\n",
    "            continue\n",
    "        call_time_result.append(sub_df_forecast[\"precipitation_error\"][:56])\n",
    "    \n",
    "    if not call_time_result:\n",
    "        continue\n",
    "    result.append(np.stack(call_time_result))\n",
    "error_mat_model_2 = np.stack(result)"
   ]
  },
  {
   "cell_type": "code",
   "execution_count": null,
   "metadata": {},
   "outputs": [],
   "source": [
    "station_errors_model_1 = error_mat_model_1.mean(axis=0)\n",
    "forecast_error_model_1 = station_errors_model_1.mean(axis=0)\n",
    "\n",
    "station_errors_model_2 = error_mat_model_2.mean(axis=0)\n",
    "forecast_error_model_2 = station_errors_model_2.mean(axis=0)"
   ]
  },
  {
   "cell_type": "code",
   "execution_count": null,
   "metadata": {},
   "outputs": [
    {
     "name": "stderr",
     "output_type": "stream",
     "text": [
      "100%|██████████| 1000000/1000000 [00:06<00:00, 154795.69it/s]\n"
     ]
    }
   ],
   "source": [
    "N_BOOT = 1000000\n",
    "x = np.arange(forecast_error_model_1.shape[-1])[:, None]\n",
    "x_aug = np.concatenate([np.ones_like(x), x], axis=1)\n",
    "X_1 = np.linalg.inv(x_aug.T @ x_aug) @ x_aug.T\n",
    "\n",
    "x = np.arange(forecast_error_model_2.shape[-1])[:, None]\n",
    "x_aug = np.concatenate([np.ones_like(x), x], axis=1)\n",
    "X_2 = np.linalg.inv(x_aug.T @ x_aug) @ x_aug.T\n",
    "\n",
    "\n",
    "coefs = np.empty((N_BOOT, x_aug.shape[1], 2))\n",
    "for i in tqdm(range(N_BOOT)):\n",
    "    # shape: (num_pred_steps, num_stations)\n",
    "    temp = forecast_error_model_1.copy()\n",
    "    np.random.shuffle(temp)\n",
    "    regression_coef = X_1 @ temp\n",
    "    coefs[i, :, 0] = regression_coef\n",
    "\n",
    "    temp = forecast_error_model_2.copy()\n",
    "    np.random.shuffle(temp)\n",
    "    regression_coef = X_2 @ temp\n",
    "    coefs[i, :, 1] = regression_coef"
   ]
  },
  {
   "cell_type": "code",
   "execution_count": null,
   "metadata": {},
   "outputs": [
    {
     "name": "stdout",
     "output_type": "stream",
     "text": [
      "Significance level of mean error on b = 3.075973587815694 = 0.7887615\n",
      "Significance level of mean error on m = -0.00214683342972818 = 0.7365539999999999\n"
     ]
    },
    {
     "data": {
      "image/png": "[encoded data removed]",
      "text/plain": [
       "<Figure size 640x480 with 4 Axes>"
      ]
     },
     "metadata": {},
     "output_type": "display_data"
    }
   ],
   "source": [
    "fig, axs = plt.subplots(ncols=2)\n",
    "b_counts, b_bins = np.histogram(coefs[:, 0], bins=1000)\n",
    "m_counts, m_bins = np.histogram(coefs[:, 1], bins=1000)\n",
    "\n",
    "axs[0, 0].hist(coefs[:, 0], bins=b_bins)\n",
    "axs[0, 0].axvline(regression_coef[0], c=\"orange\")\n",
    "axs[0, 0].set_title(\"b\")\n",
    "axs[0, 0].get_yaxis().set_visible(False)\n",
    "axs[0, 0].set_xticklabels([])\n",
    "axs[0, 1].hist(coefs[:, 1], bins=m_bins)\n",
    "axs[0, 1].axvline(regression_coef[1], c=\"orange\")\n",
    "axs[0, 1].get_yaxis().set_visible(False)\n",
    "axs[0, 1].set_xticklabels([])\n",
    "b_cdf = np.cumsum(b_counts) / np.sum(b_counts)\n",
    "axs[1, 0].plot(b_bins[:-1], b_cdf)\n",
    "axs[1, 0].axvline(regression_coef[0], c=\"orange\")\n",
    "axs[1, 0].set_xlabel(\"b\")\n",
    "m_cdf = np.cumsum(m_counts) / np.sum(m_counts)\n",
    "axs[1, 1].plot(m_bins[:-1], (1 - m_cdf))\n",
    "axs[1, 1].axvline(regression_coef[1], c=\"orange\")\n",
    "axs[1, 1].set_xlabel(\"m\")\n",
    "\n",
    "# find index \n",
    "bins = np.stack([b_bins, m_bins]).T\n",
    "index = np.argmax((bins - regression_coef) > 0, axis=0)\n",
    "# TODO: left or right bucket for p-value -> or linear interpolation\n",
    "print(f\"Significance level of mean error on b = {regression_coef[0]} = {b_cdf[index[0]]}\") \n",
    "print(f\"Significance level of mean error on m = {regression_coef[1]} = {(1 - m_cdf)[index[1]]}\")"
   ]
  }
 ],
 "metadata": {
  "kernelspec": {
   "display_name": "DataLiteracy",
   "language": "python",
   "name": "python3"
  },
  "language_info": {
   "codemirror_mode": {
    "name": "ipython",
    "version": 3
   },
   "file_extension": ".py",
   "mimetype": "text/x-python",
   "name": "python",
   "nbconvert_exporter": "python",
   "pygments_lexer": "ipython3",
   "version": "3.11.7"
  }
 },
 "nbformat": 4,
 "nbformat_minor": 2
}
