{
 "cells": [
  {
   "cell_type": "markdown",
   "metadata": {},
   "source": [
    "# Permutation Tests"
   ]
  },
  {
   "cell_type": "code",
   "execution_count": 144,
   "metadata": {},
   "outputs": [],
   "source": [
    "import sys\n",
    "from random import shuffle\n",
    "\n",
    "import matplotlib.pyplot as plt\n",
    "import numpy as np\n",
    "from tqdm import tqdm\n",
    "\n",
    "sys.path.append(\"/\".join(sys.path[0].split(\"/\")[:-1]))\n",
    "\n",
    "from studies.utils.dwd_data import DWD_Dataset, Feature"
   ]
  },
  {
   "cell_type": "code",
   "execution_count": 145,
   "metadata": {},
   "outputs": [],
   "source": [
    "FIG_SAVE_BASE_PATH = \"../docs/report/fig/\""
   ]
  },
  {
   "cell_type": "code",
   "execution_count": 146,
   "metadata": {},
   "outputs": [],
   "source": [
    "dataset_model_1 = DWD_Dataset(source_path=\"../data/dwd\", feature=Feature.PRECIPITATION, model=1)\n",
    "dataset_model_2 = DWD_Dataset(source_path=\"../data/dwd\", feature=Feature.PRECIPITATION, model=2)"
   ]
  },
  {
   "cell_type": "markdown",
   "metadata": {},
   "source": [
    "## H0: The forecast is not prone to overestimate nor underestimate precipitation "
   ]
  },
  {
   "cell_type": "code",
   "execution_count": 147,
   "metadata": {},
   "outputs": [
    {
     "name": "stderr",
     "output_type": "stream",
     "text": [
      " 45%|████▌     | 226/500 [00:30<00:36,  7.47it/s]\n"
     ]
    },
    {
     "ename": "KeyboardInterrupt",
     "evalue": "",
     "output_type": "error",
     "traceback": [
      "\u001b[0;31m---------------------------------------------------------------------------\u001b[0m",
      "\u001b[0;31mKeyboardInterrupt\u001b[0m                         Traceback (most recent call last)",
      "Cell \u001b[0;32mIn[147], line 24\u001b[0m\n\u001b[1;32m     22\u001b[0m data \u001b[38;5;241m=\u001b[39m merge1[[\u001b[38;5;124m\"\u001b[39m\u001b[38;5;124mprecipitation_forecast\u001b[39m\u001b[38;5;124m\"\u001b[39m, \u001b[38;5;124m\"\u001b[39m\u001b[38;5;124mprecipitation_real\u001b[39m\u001b[38;5;124m\"\u001b[39m]]\u001b[38;5;241m.\u001b[39mvalues\u001b[38;5;241m.\u001b[39mcopy()\n\u001b[1;32m     23\u001b[0m \u001b[38;5;66;03m# ... shuffle it because it should not make a difference if I take the value of a perfect model or the real life data...\u001b[39;00m\n\u001b[0;32m---> 24\u001b[0m data \u001b[38;5;241m=\u001b[39m \u001b[43mshuffle_pairs\u001b[49m\u001b[43m(\u001b[49m\u001b[43mdata\u001b[49m\u001b[43m)\u001b[49m\n\u001b[1;32m     25\u001b[0m \u001b[38;5;66;03m# ... and take the mean difference\u001b[39;00m\n\u001b[1;32m     26\u001b[0m shuffle_error \u001b[38;5;241m=\u001b[39m data[:, \u001b[38;5;241m0\u001b[39m] \u001b[38;5;241m-\u001b[39m data[:, \u001b[38;5;241m1\u001b[39m]\n",
      "Cell \u001b[0;32mIn[147], line 7\u001b[0m, in \u001b[0;36mshuffle_pairs\u001b[0;34m(arr)\u001b[0m\n\u001b[1;32m      4\u001b[0m \u001b[38;5;28;01mdef\u001b[39;00m \u001b[38;5;21mshuffle_pairs\u001b[39m(arr: np\u001b[38;5;241m.\u001b[39mndarray) \u001b[38;5;241m-\u001b[39m\u001b[38;5;241m>\u001b[39m np\u001b[38;5;241m.\u001b[39mndarray:\n\u001b[1;32m      5\u001b[0m     \u001b[38;5;66;03m# Shuffle each pair individually\u001b[39;00m\n\u001b[1;32m      6\u001b[0m     \u001b[38;5;28;01mfor\u001b[39;00m pair \u001b[38;5;129;01min\u001b[39;00m arr:\n\u001b[0;32m----> 7\u001b[0m         \u001b[43mrandom\u001b[49m\u001b[38;5;241;43m.\u001b[39;49m\u001b[43mshuffle\u001b[49m\u001b[43m(\u001b[49m\u001b[43mpair\u001b[49m\u001b[43m)\u001b[49m\n\u001b[1;32m      8\u001b[0m     \u001b[38;5;66;03m# Shuffle the entire array\u001b[39;00m\n\u001b[1;32m      9\u001b[0m     \u001b[38;5;66;03m# np.random.shuffle(arr)\u001b[39;00m\n\u001b[1;32m     10\u001b[0m     \u001b[38;5;28;01mreturn\u001b[39;00m arr\n",
      "File \u001b[0;32m~/miniconda3/envs/DataLiteracy/lib/python3.11/random.py:380\u001b[0m, in \u001b[0;36mRandom.shuffle\u001b[0;34m(self, x)\u001b[0m\n\u001b[1;32m    377\u001b[0m \u001b[38;5;250m\u001b[39m\u001b[38;5;124;03m\"\"\"Shuffle list x in place, and return None.\"\"\"\u001b[39;00m\n\u001b[1;32m    379\u001b[0m randbelow \u001b[38;5;241m=\u001b[39m \u001b[38;5;28mself\u001b[39m\u001b[38;5;241m.\u001b[39m_randbelow\n\u001b[0;32m--> 380\u001b[0m \u001b[38;5;28;01mfor\u001b[39;00m i \u001b[38;5;129;01min\u001b[39;00m \u001b[38;5;28mreversed\u001b[39m(\u001b[38;5;28mrange\u001b[39m(\u001b[38;5;241m1\u001b[39m, \u001b[38;5;28mlen\u001b[39m(x))):\n\u001b[1;32m    381\u001b[0m     \u001b[38;5;66;03m# pick an element in x[:i+1] with which to exchange x[i]\u001b[39;00m\n\u001b[1;32m    382\u001b[0m     j \u001b[38;5;241m=\u001b[39m randbelow(i \u001b[38;5;241m+\u001b[39m \u001b[38;5;241m1\u001b[39m)\n\u001b[1;32m    383\u001b[0m     x[i], x[j] \u001b[38;5;241m=\u001b[39m x[j], x[i]\n",
      "\u001b[0;31mKeyboardInterrupt\u001b[0m: "
     ]
    }
   ],
   "source": [
    "import random\n",
    "\n",
    "\n",
    "def shuffle_pairs(arr: np.ndarray) -> np.ndarray:\n",
    "    # Shuffle each pair individually\n",
    "    for pair in arr:\n",
    "        random.shuffle(pair)\n",
    "    # Shuffle the entire array\n",
    "    # np.random.shuffle(arr)\n",
    "    return arr\n",
    "\n",
    "merge1 = dataset_model_1.get_merge()\n",
    "merge2 = dataset_model_2.get_merge()\n",
    "\n",
    "# Bootstrap\n",
    "N_BOOT = 500\n",
    "\n",
    "\n",
    "boot_mean_errors = np.empty((N_BOOT, 2))\n",
    "boot_mean_errors = [[], []]\n",
    "for i in tqdm(range(N_BOOT)):\n",
    "    data = merge1[[\"precipitation_forecast\", \"precipitation_real\"]].values.copy()\n",
    "    # ... shuffle it because it should not make a difference if I take the value of a perfect model or the real life data...\n",
    "    data = shuffle_pairs(data)\n",
    "    # ... and take the mean difference\n",
    "    shuffle_error = data[:, 0] - data[:, 1]\n",
    "    boot_mean_errors[0].append(shuffle_error)\n",
    "    # boot_mean_errors[i, 0] = shuffle_error.mean()\n",
    "\n",
    "    data = merge2[[\"precipitation_forecast\", \"precipitation_real\"]].values.copy()\n",
    "    # ... shuffle it because it should not make a difference if I take the value of a perfect model or the real life data...\n",
    "    data = shuffle_pairs(data)\n",
    "    # ... and take the mean difference\n",
    "    shuffle_error = data[:, 0] - data[:, 1]\n",
    "    boot_mean_errors[1].append(shuffle_error)\n",
    "    # boot_mean_errors[i, 1] = shuffle_error.mean()\n"
   ]
  },
  {
   "cell_type": "code",
   "execution_count": null,
   "metadata": {},
   "outputs": [],
   "source": [
    "mean_error1 = merge1[\"precipitation_error\"].mean()\n",
    "mean_error2 = merge2[\"precipitation_error\"].mean()"
   ]
  },
  {
   "cell_type": "code",
   "execution_count": null,
   "metadata": {},
   "outputs": [
    {
     "name": "stdout",
     "output_type": "stream",
     "text": [
      "116642.0\n",
      "Significance level = 0.06527144596286083\n"
     ]
    },
    {
     "data": {
      "image/png": "[encoded data removed]",
      "text/plain": [
       "<Figure size 640x480 with 2 Axes>"
      ]
     },
     "metadata": {},
     "output_type": "display_data"
    }
   ],
   "source": [
    "# for model 1\n",
    "fig, axs = plt.subplots(nrows=2, sharex=True)\n",
    "concat = np.concatenate(boot_mean_errors[0])\n",
    "print(len(concat) / N_BOOT)\n",
    "counts, bins, _ = axs[0].hist(concat, 150)\n",
    "counts = counts / counts.sum()\n",
    "axs[0].axvline(mean_error1, c=\"orange\")\n",
    "cdf = np.cumsum(counts)\n",
    "axs[1].plot(bins[:-1],1 - cdf)\n",
    "axs[1].axvline(mean_error1, c=\"orange\")\n",
    "\n",
    "# bins = np.stack([b_bins, m_bins]).T\n",
    "index = np.argmax((bins - mean_error1) > 0, axis=0)\n",
    "# TODO: left or right bucket for p-value -> or linear interpolation\n",
    "print(f\"Significance level = {(1 - cdf)[index + 1]}\") "
   ]
  },
  {
   "cell_type": "code",
   "execution_count": null,
   "metadata": {},
   "outputs": [
    {
     "name": "stdout",
     "output_type": "stream",
     "text": [
      "80640.0\n",
      "Significance level = 0.12074739583333327\n"
     ]
    },
    {
     "data": {
      "image/png": "[encoded data removed]",
      "text/plain": [
       "<Figure size 640x480 with 2 Axes>"
      ]
     },
     "metadata": {},
     "output_type": "display_data"
    }
   ],
   "source": [
    "# for model 2\n",
    "fig, axs = plt.subplots(nrows=2, sharex=True)\n",
    "concat = np.concatenate(boot_mean_errors[1])\n",
    "print(len(concat) / N_BOOT)\n",
    "counts, bins, _ = axs[0].hist(concat, 150)\n",
    "counts = counts / counts.sum()\n",
    "# axs[0].axvline(mean_error2, c=\"orange\")\n",
    "cdf = np.cumsum(counts)\n",
    "axs[1].plot(bins[:-1],1 - cdf)\n",
    "axs[1].axvline(mean_error2, c=\"orange\")\n",
    "\n",
    "# bins = np.stack([b_bins, m_bins]).T\n",
    "index = np.argmax((bins - mean_error2) > 0, axis=0)\n",
    "# TODO: left or right bucket for p-value -> or linear interpolation\n",
    "print(f\"Significance level = {(1 - cdf)[index]}\") "
   ]
  },
  {
   "cell_type": "markdown",
   "metadata": {},
   "source": [
    "Conclusion: Test results are very significant. We will reject reject H0"
   ]
  },
  {
   "cell_type": "markdown",
   "metadata": {},
   "source": [
    "Recall the difference plots over time steps into the future.  \n",
    "Are the coefficients we found for the linear trend significant?\n",
    "\n",
    "## H0: There is no difference between the error at t versus the error at t + h with t >= 0 and h > 0. "
   ]
  },
  {
   "cell_type": "code",
   "execution_count": null,
   "metadata": {},
   "outputs": [],
   "source": [
    "def poly_reg(x:np.ndarray, Y: np.ndarray, deg: int) -> np.ndarray:\n",
    "    \"\"\"polynomial regression\n",
    "\n",
    "    Args:\n",
    "        x (np.ndarray): ascending sorted one dimensional array \n",
    "        Y (np.ndarray): measured data. one dimensional array \n",
    "        deg (int): which degree should the polynomial have. bigger than 0\n",
    "\n",
    "    Returns:\n",
    "        np.ndarray: regression coefficients of length deg + 1\n",
    "    \"\"\"\n",
    "    assert deg >= 0 \n",
    "    num_samples = len(x)\n",
    "    x = np.arange(num_samples)[:, None]\n",
    "    x_aug = np.concatenate([x**i for i in range(deg + 1)], axis=1)\n",
    "    regression_coef = (\n",
    "        np.linalg.inv(x_aug.T @ x_aug)\n",
    "        @ x_aug.T\n",
    "        @ Y\n",
    "    )\n",
    "    return regression_coef\n"
   ]
  },
  {
   "cell_type": "code",
   "execution_count": 156,
   "metadata": {},
   "outputs": [
    {
     "name": "stdout",
     "output_type": "stream",
     "text": [
      "[-0.00495516  0.00029572]\n",
      "[ 0.04099848 -0.00098297]\n"
     ]
    },
    {
     "name": "stderr",
     "output_type": "stream",
     "text": [
      "  0%|          | 0/1000000 [00:00<?, ?it/s]"
     ]
    },
    {
     "name": "stderr",
     "output_type": "stream",
     "text": [
      "100%|██████████| 1000000/1000000 [00:42<00:00, 23383.16it/s]\n"
     ]
    }
   ],
   "source": [
    "merge1 = dataset_model_1.get_merge()\n",
    "merge2 = dataset_model_2.get_merge()\n",
    "\n",
    "# absolute values\n",
    "# merge1[\"precipitation_error\"] = merge1[\"precipitation_error\"].abs()\n",
    "# merge2[\"precipitation_error\"] = merge2[\"precipitation_error\"].abs()\n",
    "\n",
    "\n",
    "# set call time for all to 00:00\n",
    "merge1[\"call_time\"] = merge1[\"call_time\"].dt.normalize()\n",
    "merge2[\"call_time\"] = merge2[\"call_time\"].dt.normalize()\n",
    "# insert time delta column\n",
    "time_delta = merge1[\"time\"] - merge1[\"call_time\"]\n",
    "merge1.insert(len(merge1.columns), \"time_delta\", time_delta)\n",
    "time_delta = merge2[\"time\"] - merge2[\"call_time\"]\n",
    "merge2.insert(len(merge2.columns), \"time_delta\", time_delta)\n",
    "\n",
    "\n",
    "mean_1 = merge1.groupby(\"time_delta\").mean().iloc[:-1]\n",
    "mean_2 = merge2.groupby(\"time_delta\").mean()\n",
    "\n",
    "# compute real coefs\n",
    "x_1 = np.arange(len(mean_1))\n",
    "y_1 = mean_1[\"precipitation_error\"].values\n",
    "coefs_1 = poly_reg(x_1, y_1, deg=1)\n",
    "print(coefs_1)\n",
    "\n",
    "x_2 = np.arange(len(mean_2)) * 3\n",
    "y_2 = mean_2[\"precipitation_error\"].values / 3\n",
    "coefs_2 = poly_reg(x_2, y_2, deg=1)\n",
    "print(coefs_2)\n",
    "\n",
    "\n",
    "N_BOOT = 1000000\n",
    "coefs = np.empty((N_BOOT, 2, 2))  # num boot strap, num_forecasts, num_params\n",
    "for i in tqdm(range(N_BOOT)):\n",
    "    np.random.shuffle(y_1)\n",
    "    coefs[i, 0] = poly_reg(x_1, y_1, deg=1)\n",
    "\n",
    "    np.random.shuffle(y_2)\n",
    "    coefs[i, 1] = poly_reg(x_2, y_2, deg=1)"
   ]
  },
  {
   "cell_type": "code",
   "execution_count": 155,
   "metadata": {},
   "outputs": [
    {
     "name": "stdout",
     "output_type": "stream",
     "text": [
      "Significance level of slope in forecast 1 = 0.0005893739907460926 = 0.0006181091128915042\n",
      "Significance level of slope in forecast 2 = 0.0007108789199544555 = 0.0010855948394025866\n"
     ]
    },
    {
     "data": {
      "image/png": "[encoded data removed]",
      "text/plain": [
       "<Figure size 640x480 with 2 Axes>"
      ]
     },
     "metadata": {},
     "output_type": "display_data"
    }
   ],
   "source": [
    "fig, (ax1, ax2) = plt.subplots(ncols=2)\n",
    "m_1_counts, m_1_bins = np.histogram(coefs[:, 0, 1], bins=200)\n",
    "m_2_counts, m_2_bins = np.histogram(coefs[:, 1, 1], bins=200)\n",
    "\n",
    "ax1.set_title(\"forecast 1\")\n",
    "ax1.plot(m_1_bins[1:], 1 - m_1_counts.cumsum() / m_1_counts.sum(), label=\"1 - cumsum\")\n",
    "# ax1.plot(m_1_bins[:-1], m_1_counts / m_1_counts.sum())\n",
    "ax1.axvline(coefs_1[1], c=\"orange\", label=\"measured slope\")\n",
    "\n",
    "ax2.set_title(\"forecast 2\")\n",
    "ax2.plot(m_2_bins[1:], 1 - m_2_counts.cumsum() / m_2_counts.sum(), label=\"cumsum\")\n",
    "# ax2.plot(m_2_bins[:-1], m_2_counts / m_2_counts.sum())\n",
    "ax2.axvline(coefs_2[1], c=\"orange\", label=\"measured slope\")\n",
    "\n",
    "\n",
    "# ax2.hist(coefs[:, 1, 1], bins=m_2_bins, density=True)\n",
    "\n",
    "# find index\n",
    "# TODO: left or right bucket for p-value -> or linear interpolation\n",
    "index = np.argmax(m_1_bins - coefs_1[1])\n",
    "print(\n",
    "    f\"Significance level of slope in forecast 1 = {coefs_1[1]} = {m_1_bins[index]}\"\n",
    ")\n",
    "index = np.argmax(m_2_bins - coefs_2[1])\n",
    "print(\n",
    "    f\"Significance level of slope in forecast 2 = {coefs_2[1]} = {m_2_bins[index]}\"\n",
    ")\n"
   ]
  },
  {
   "cell_type": "code",
   "execution_count": null,
   "metadata": {},
   "outputs": [],
   "source": []
  },
  {
   "cell_type": "code",
   "execution_count": null,
   "metadata": {},
   "outputs": [],
   "source": []
  },
  {
   "cell_type": "code",
   "execution_count": 1,
   "metadata": {},
   "outputs": [],
   "source": []
  },
  {
   "cell_type": "code",
   "execution_count": null,
   "metadata": {},
   "outputs": [],
   "source": [
    "merge1 = dataset_model_1.get_merge()\n",
    "\n",
    "call_times = sorted(merge1[\"call_time\"].unique())\n",
    "station_ids = sorted(merge1[\"station_id\"].unique())\n",
    "result = []\n",
    "for call_time in call_times:\n",
    "    call_time_result = []\n",
    "    for station_id in station_ids:\n",
    "        sub_df_forecast = merge1[(merge1[\"call_time\"] == call_time) & (merge1[\"station_id\"] == station_id)]\n",
    "        \n",
    "        if len(sub_df_forecast) < 72:\n",
    "            continue\n",
    "        call_time_result.append(sub_df_forecast[\"precipitation_error\"].values[:72])\n",
    "    \n",
    "    if not call_time_result:\n",
    "        continue\n",
    "    result.append(np.stack(call_time_result))\n",
    "error_mat_model_1 = np.stack(result)\n",
    "\n"
   ]
  },
  {
   "cell_type": "code",
   "execution_count": null,
   "metadata": {},
   "outputs": [],
   "source": [
    "merge2 = dataset_model_2.get_merge() \n",
    "\n",
    "call_times = sorted(merge2[\"call_time\"].unique())\n",
    "station_ids = sorted(merge2[\"station_id\"].unique())\n",
    "result = []\n",
    "for call_time in call_times:\n",
    "    call_time_result = []\n",
    "    for station_id in station_ids:\n",
    "        sub_df_forecast = merge2[(merge2[\"call_time\"] == call_time) & (merge2[\"station_id\"] == station_id)]\n",
    "        \n",
    "        if len(sub_df_forecast) < 56:  # 56 is how many samples are expected in a forecast of model 2\n",
    "            continue\n",
    "        call_time_result.append(sub_df_forecast[\"precipitation_error\"][:56])\n",
    "    \n",
    "    if not call_time_result:\n",
    "        continue\n",
    "    result.append(np.stack(call_time_result))\n",
    "error_mat_model_2 = np.stack(result)"
   ]
  },
  {
   "cell_type": "code",
   "execution_count": null,
   "metadata": {},
   "outputs": [],
   "source": [
    "station_errors_model_1 = error_mat_model_1.mean(axis=0)\n",
    "forecast_error_model_1 = station_errors_model_1.mean(axis=0)\n",
    "\n",
    "station_errors_model_2 = error_mat_model_2.mean(axis=0)\n",
    "forecast_error_model_2 = station_errors_model_2.mean(axis=0)"
   ]
  },
  {
   "cell_type": "code",
   "execution_count": null,
   "metadata": {},
   "outputs": [
    {
     "name": "stderr",
     "output_type": "stream",
     "text": [
      "100%|██████████| 1000000/1000000 [00:06<00:00, 154795.69it/s]\n"
     ]
    }
   ],
   "source": [
    "N_BOOT = 1000000\n",
    "x = np.arange(forecast_error_model_1.shape[-1])[:, None]\n",
    "x_aug = np.concatenate([np.ones_like(x), x], axis=1)\n",
    "X_1 = np.linalg.inv(x_aug.T @ x_aug) @ x_aug.T\n",
    "\n",
    "x = np.arange(forecast_error_model_2.shape[-1])[:, None]\n",
    "x_aug = np.concatenate([np.ones_like(x), x], axis=1)\n",
    "X_2 = np.linalg.inv(x_aug.T @ x_aug) @ x_aug.T\n",
    "\n",
    "\n",
    "coefs = np.empty((N_BOOT, x_aug.shape[1], 2))\n",
    "for i in tqdm(range(N_BOOT)):\n",
    "    # shape: (num_pred_steps, num_stations)\n",
    "    temp = forecast_error_model_1.copy()\n",
    "    np.random.shuffle(temp)\n",
    "    regression_coef = X_1 @ temp\n",
    "    coefs[i, :, 0] = regression_coef\n",
    "\n",
    "    temp = forecast_error_model_2.copy()\n",
    "    np.random.shuffle(temp)\n",
    "    regression_coef = X_2 @ temp\n",
    "    coefs[i, :, 1] = regression_coef"
   ]
  },
  {
   "cell_type": "code",
   "execution_count": null,
   "metadata": {},
   "outputs": [
    {
     "name": "stdout",
     "output_type": "stream",
     "text": [
      "Significance level of mean error on b = 3.075973587815694 = 0.7887615\n",
      "Significance level of mean error on m = -0.00214683342972818 = 0.7365539999999999\n"
     ]
    },
    {
     "data": {
      "image/png": "[encoded data removed]",
      "text/plain": [
       "<Figure size 640x480 with 4 Axes>"
      ]
     },
     "metadata": {},
     "output_type": "display_data"
    }
   ],
   "source": [
    "fig, axs = plt.subplots(ncols=2)\n",
    "b_counts, b_bins = np.histogram(coefs[:, 0], bins=1000)\n",
    "m_counts, m_bins = np.histogram(coefs[:, 1], bins=1000)\n",
    "\n",
    "axs[0, 0].hist(coefs[:, 0], bins=b_bins)\n",
    "axs[0, 0].axvline(regression_coef[0], c=\"orange\")\n",
    "axs[0, 0].set_title(\"b\")\n",
    "axs[0, 0].get_yaxis().set_visible(False)\n",
    "axs[0, 0].set_xticklabels([])\n",
    "axs[0, 1].hist(coefs[:, 1], bins=m_bins)\n",
    "axs[0, 1].axvline(regression_coef[1], c=\"orange\")\n",
    "axs[0, 1].get_yaxis().set_visible(False)\n",
    "axs[0, 1].set_xticklabels([])\n",
    "b_cdf = np.cumsum(b_counts) / np.sum(b_counts)\n",
    "axs[1, 0].plot(b_bins[:-1], b_cdf)\n",
    "axs[1, 0].axvline(regression_coef[0], c=\"orange\")\n",
    "axs[1, 0].set_xlabel(\"b\")\n",
    "m_cdf = np.cumsum(m_counts) / np.sum(m_counts)\n",
    "axs[1, 1].plot(m_bins[:-1], (1 - m_cdf))\n",
    "axs[1, 1].axvline(regression_coef[1], c=\"orange\")\n",
    "axs[1, 1].set_xlabel(\"m\")\n",
    "\n",
    "# find index \n",
    "bins = np.stack([b_bins, m_bins]).T\n",
    "index = np.argmax((bins - regression_coef) > 0, axis=0)\n",
    "# TODO: left or right bucket for p-value -> or linear interpolation\n",
    "print(f\"Significance level of mean error on b = {regression_coef[0]} = {b_cdf[index[0]]}\") \n",
    "print(f\"Significance level of mean error on m = {regression_coef[1]} = {(1 - m_cdf)[index[1]]}\")"
   ]
  }
 ],
 "metadata": {
  "kernelspec": {
   "display_name": "DataLiteracy",
   "language": "python",
   "name": "python3"
  },
  "language_info": {
   "codemirror_mode": {
    "name": "ipython",
    "version": 3
   },
   "file_extension": ".py",
   "mimetype": "text/x-python",
   "name": "python",
   "nbconvert_exporter": "python",
   "pygments_lexer": "ipython3",
   "version": "3.11.7"
  }
 },
 "nbformat": 4,
 "nbformat_minor": 2
}
