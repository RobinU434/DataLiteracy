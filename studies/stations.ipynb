{
 "cells": [
  {
   "cell_type": "code",
   "execution_count": 66,
   "metadata": {},
   "outputs": [],
   "source": [
    "import pandas as pd\n",
    "import json\n",
    "import yaml"
   ]
  },
  {
   "cell_type": "code",
   "execution_count": 67,
   "metadata": {},
   "outputs": [],
   "source": [
    "def preprocess():\n",
    "    pass"
   ]
  },
  {
   "cell_type": "code",
   "execution_count": 68,
   "metadata": {},
   "outputs": [
    {
     "data": {
      "text/html": [
       "<div>\n",
       "<style scoped>\n",
       "    .dataframe tbody tr th:only-of-type {\n",
       "        vertical-align: middle;\n",
       "    }\n",
       "\n",
       "    .dataframe tbody tr th {\n",
       "        vertical-align: top;\n",
       "    }\n",
       "\n",
       "    .dataframe thead th {\n",
       "        text-align: right;\n",
       "    }\n",
       "</style>\n",
       "<table border=\"1\" class=\"dataframe\">\n",
       "  <thead>\n",
       "    <tr style=\"text-align: right;\">\n",
       "      <th></th>\n",
       "      <th>Stationsname</th>\n",
       "      <th>Stations_ID</th>\n",
       "      <th>Kennung</th>\n",
       "      <th>Stations-kennung</th>\n",
       "      <th>Breite</th>\n",
       "      <th>Länge</th>\n",
       "      <th>Stations-höhe</th>\n",
       "      <th>Flussgebiet</th>\n",
       "      <th>Bundesland</th>\n",
       "      <th>Beginn</th>\n",
       "      <th>Ende</th>\n",
       "    </tr>\n",
       "  </thead>\n",
       "  <tbody>\n",
       "    <tr>\n",
       "      <th>0</th>\n",
       "      <td>Aach</td>\n",
       "      <td>1</td>\n",
       "      <td>KL</td>\n",
       "      <td>02783</td>\n",
       "      <td>47.8410</td>\n",
       "      <td>8.8490</td>\n",
       "      <td>478</td>\n",
       "      <td></td>\n",
       "      <td>BW</td>\n",
       "      <td>1937-01-01</td>\n",
       "      <td>1986-06-30</td>\n",
       "    </tr>\n",
       "    <tr>\n",
       "      <th>1</th>\n",
       "      <td>Aach</td>\n",
       "      <td>1</td>\n",
       "      <td>RR</td>\n",
       "      <td>70191</td>\n",
       "      <td>47.8410</td>\n",
       "      <td>8.8490</td>\n",
       "      <td>478</td>\n",
       "      <td></td>\n",
       "      <td>BW</td>\n",
       "      <td>1912-01-01</td>\n",
       "      <td>1986-06-30</td>\n",
       "    </tr>\n",
       "    <tr>\n",
       "      <th>2</th>\n",
       "      <td>Aach/Hegau</td>\n",
       "      <td>10771</td>\n",
       "      <td>PE</td>\n",
       "      <td>10771</td>\n",
       "      <td>47.8500</td>\n",
       "      <td>8.8500</td>\n",
       "      <td>480</td>\n",
       "      <td></td>\n",
       "      <td>BW</td>\n",
       "      <td>1951-02-27</td>\n",
       "      <td>2000-06-15</td>\n",
       "    </tr>\n",
       "    <tr>\n",
       "      <th>3</th>\n",
       "      <td>Aachen</td>\n",
       "      <td>3</td>\n",
       "      <td>EB</td>\n",
       "      <td>02205</td>\n",
       "      <td>50.7827</td>\n",
       "      <td>6.0941</td>\n",
       "      <td>202</td>\n",
       "      <td>803100</td>\n",
       "      <td>NW</td>\n",
       "      <td>1951-01-01</td>\n",
       "      <td>2011-03-31</td>\n",
       "    </tr>\n",
       "    <tr>\n",
       "      <th>4</th>\n",
       "      <td>Aachen</td>\n",
       "      <td>3</td>\n",
       "      <td>FF</td>\n",
       "      <td>02205</td>\n",
       "      <td>50.7827</td>\n",
       "      <td>6.0941</td>\n",
       "      <td>202</td>\n",
       "      <td>803100</td>\n",
       "      <td>NW</td>\n",
       "      <td>1937-01-01</td>\n",
       "      <td>2011-03-31</td>\n",
       "    </tr>\n",
       "  </tbody>\n",
       "</table>\n",
       "</div>"
      ],
      "text/plain": [
       "  Stationsname  Stations_ID Kennung Stations-kennung   Breite   Länge  \\\n",
       "0         Aach            1      KL            02783  47.8410  8.8490   \n",
       "1         Aach            1      RR            70191  47.8410  8.8490   \n",
       "2   Aach/Hegau        10771      PE            10771  47.8500  8.8500   \n",
       "3       Aachen            3      EB            02205  50.7827  6.0941   \n",
       "4       Aachen            3      FF            02205  50.7827  6.0941   \n",
       "\n",
       "   Stations-höhe Flussgebiet Bundesland     Beginn       Ende  \n",
       "0            478                     BW 1937-01-01 1986-06-30  \n",
       "1            478                     BW 1912-01-01 1986-06-30  \n",
       "2            480                     BW 1951-02-27 2000-06-15  \n",
       "3            202      803100         NW 1951-01-01 2011-03-31  \n",
       "4            202      803100         NW 1937-01-01 2011-03-31  "
      ]
     },
     "execution_count": 68,
     "metadata": {},
     "output_type": "execute_result"
    }
   ],
   "source": [
    "stations = pd.read_csv(\"../project/data/dwd/stations.tsv\", sep=\"\\t\")\n",
    "\n",
    "#remove stations with empty Beginn or Ende\n",
    "mask = stations[\"Beginn\"] == \" \"\n",
    "stations = stations[~mask]\n",
    "mask = stations[\"Ende\"] == \" \"\n",
    "stations = stations[~mask]\n",
    "\n",
    "stations[\"Beginn\"] = pd.to_datetime(stations[\"Beginn\"], dayfirst=True)\n",
    "stations[\"Ende\"] = pd.to_datetime(stations[\"Ende\"], dayfirst=True)\n",
    "\n",
    "stations.head()"
   ]
  },
  {
   "cell_type": "code",
   "execution_count": 69,
   "metadata": {},
   "outputs": [],
   "source": [
    "from datetime import datetime\n",
    "bw_stations = stations.loc[stations[\"Bundesland\"] == \"BW\"].drop_duplicates(subset= [\"Stationsname\", \"Stations-kennung\"])\n",
    "\n",
    "current_bw_stations = bw_stations[bw_stations[\"Ende\"] >= datetime(day=2, month=12, year=2023)]\n",
    "id_str = current_bw_stations[\"Stations-kennung\"].to_string(index=False).replace(\"\\n \", \",\")"
   ]
  },
  {
   "cell_type": "code",
   "execution_count": 70,
   "metadata": {},
   "outputs": [],
   "source": [
    "import requests\n",
    "\n",
    "# repsonse = requests.get(f'https://dwd.api.proxy.bund.dev/v30/stationOverviewExtended?stationIds={id_str}')"
   ]
  },
  {
   "cell_type": "code",
   "execution_count": 71,
   "metadata": {},
   "outputs": [],
   "source": [
    "\n",
    "# content = json.loads(repsonse.content.decode(\"utf-8\"))\n",
    "# response_ids = content.keys()\n",
    "\n",
    "# bw_response_stations = current_bw_stations[current_bw_stations[\"Stations-kennung\"].isin(response_ids)]\n",
    "a = [\"Q771\",  \"Q411\",  \"Q740\",  \"Q055\",  \"Q811\",  \"Q824\",  \"Q382\",  \"Q712\",  \"Q702\",  \"Q221\",  \"Q978\",  \"Q848\",  \"Q351\",  \"Q651\",  \"Q485\",  \"Q292\",  \"Q579\",  \"Q887\",  \"Q671\",  \"Q437\",  \"Q061\",  \"Q242\",  \"Q518\",  \"Q332\",  \"Q864\",  \"Q440\",  \"Q404\",  \"Q733\",  \"Q341\",  \"Q378\",  \"Q788\",  \"Q942\",  \"Q738\",  \"Q879\",  \"Q622\",  \"Q926\"]\n",
    "bw_response_stations = current_bw_stations[current_bw_stations[\"Stations-kennung\"].isin(a)]"
   ]
  },
  {
   "cell_type": "code",
   "execution_count": 72,
   "metadata": {},
   "outputs": [],
   "source": [
    "# response = requests.get(\"http://my.meteoblue.com/packages/basic-1h_basic-day?lat=47.558&lon=7.573&apikey=DEMOKEY\")\n",
    "# response.content"
   ]
  },
  {
   "cell_type": "code",
   "execution_count": 73,
   "metadata": {},
   "outputs": [
    {
     "name": "stderr",
     "output_type": "stream",
     "text": [
      "/tmp/ipykernel_7567/2725097648.py:12: FutureWarning: The geopandas.dataset module is deprecated and will be removed in GeoPandas 1.0. You can get the original 'naturalearth_lowres' data from https://www.naturalearthdata.com/downloads/110m-cultural-vectors/.\n",
      "  world = gpd.read_file(gpd.datasets.get_path('naturalearth_lowres'))\n"
     ]
    },
    {
     "data": {
      "text/plain": [
       "<Axes: >"
      ]
     },
     "execution_count": 73,
     "metadata": {},
     "output_type": "execute_result"
    },
    {
     "data": {
      "image/png": "[encoded data removed]",
      "text/plain": [
       "<Figure size 640x480 with 1 Axes>"
      ]
     },
     "metadata": {},
     "output_type": "display_data"
    }
   ],
   "source": [
    "import pandas as pd\n",
    "from shapely.geometry import Point\n",
    "import geopandas as gpd\n",
    "from geopandas import GeoDataFrame\n",
    "import matplotlib.pyplot as plt\n",
    "\n",
    "\n",
    "geometry = [Point(xy) for xy in zip(bw_response_stations['Länge'], bw_response_stations['Breite'])]\n",
    "gdf = GeoDataFrame(bw_response_stations, geometry=geometry)\n",
    "tübingen = GeoDataFrame(geometry=[Point([9.057645 ,48.521637])])\n",
    "#this is a simple map that goes with geopandas\n",
    "world = gpd.read_file(gpd.datasets.get_path('naturalearth_lowres'))\n",
    "germany = world[world[\"name\"] == \"Germany\"]\n",
    "\n",
    "fig, ax = plt.subplots()\n",
    "\n",
    "germany.plot(\n",
    "    ax=ax,\n",
    "    alpha=0.5\n",
    ")\n",
    "gdf.plot(ax=ax, color=\"g\", markersize=10)\n",
    "tübingen.plot(ax=ax, color=\"r\")"
   ]
  },
  {
   "cell_type": "markdown",
   "metadata": {},
   "source": [
    "get lat lon coords of stations"
   ]
  },
  {
   "cell_type": "code",
   "execution_count": 74,
   "metadata": {},
   "outputs": [
    {
     "data": {
      "text/plain": [
       "[[9.46, 48.148],\n",
       " [8.246, 48.727],\n",
       " [8.813, 48.264],\n",
       " [9.321, 49.518],\n",
       " [7.998, 47.963],\n",
       " [8.106, 47.7],\n",
       " [10.131, 48.99],\n",
       " [8.109, 48.201],\n",
       " [7.835, 48.138],\n",
       " [8.848, 49.166],\n",
       " [9.441, 47.685],\n",
       " [8.647, 47.924],\n",
       " [9.603, 49.021],\n",
       " [8.98, 48.375],\n",
       " [10.267, 48.61],\n",
       " [9.98, 49.18],\n",
       " [9.764, 48.512],\n",
       " [7.639, 47.806],\n",
       " [9.484, 48.385],\n",
       " [8.68, 48.652],\n",
       " [9.463, 48.671],\n",
       " [9.353, 49.128],\n",
       " [7.993, 48.433],\n",
       " [8.697, 48.933],\n",
       " [9.287, 47.935],\n",
       " [8.924, 48.743],\n",
       " [7.994, 48.67],\n",
       " [8.636, 48.182],\n",
       " [9.071, 48.957],\n",
       " [9.874, 48.77],\n",
       " [9.194, 48.072],\n",
       " [8.822, 47.774],\n",
       " [8.461, 48.045],\n",
       " [9.621, 47.806],\n",
       " [8.239, 48.295],\n",
       " [8.38, 47.678]]"
      ]
     },
     "execution_count": 74,
     "metadata": {},
     "output_type": "execute_result"
    }
   ],
   "source": [
    "import numpy as np\n",
    "np.stack([bw_response_stations['Länge'], bw_response_stations['Breite']]).T.tolist()"
   ]
  },
  {
   "cell_type": "code",
   "execution_count": 83,
   "metadata": {},
   "outputs": [
    {
     "data": {
      "text/plain": [
       "48.148"
      ]
     },
     "execution_count": 83,
     "metadata": {},
     "output_type": "execute_result"
    }
   ],
   "source": [
    "with open(\"../project/config/crawler.config.yaml\", \"r\") as file:\n",
    "    d = yaml.safe_load(file)\n",
    "\n"
   ]
  },
  {
   "cell_type": "code",
   "execution_count": 95,
   "metadata": {},
   "outputs": [],
   "source": [
    "response = requests.get(\"https://my.meteoblue.com/packages/basic-1h_basic-day?apikey=akDpC43URINvoYBG&lat=48.5227&lon=9.05222&asl=333&format=json\")"
   ]
  },
  {
   "cell_type": "code",
   "execution_count": 96,
   "metadata": {},
   "outputs": [
    {
     "data": {
      "text/plain": [
       "b'{\"error_message\":\"Available credits exceeded for this API key\",\"error\":true}'"
      ]
     },
     "execution_count": 96,
     "metadata": {},
     "output_type": "execute_result"
    }
   ],
   "source": [
    "response.content"
   ]
  },
  {
   "cell_type": "code",
   "execution_count": null,
   "metadata": {},
   "outputs": [],
   "source": []
  }
 ],
 "metadata": {
  "kernelspec": {
   "display_name": "DataLiteracy",
   "language": "python",
   "name": "python3"
  },
  "language_info": {
   "codemirror_mode": {
    "name": "ipython",
    "version": 3
   },
   "file_extension": ".py",
   "mimetype": "text/x-python",
   "name": "python",
   "nbconvert_exporter": "python",
   "pygments_lexer": "ipython3",
   "version": "3.11.7"
  }
 },
 "nbformat": 4,
 "nbformat_minor": 2
}
