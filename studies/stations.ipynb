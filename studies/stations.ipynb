{
 "cells": [
  {
   "cell_type": "code",
   "execution_count": 20,
   "metadata": {},
   "outputs": [],
   "source": [
    "import pandas as pd"
   ]
  },
  {
   "cell_type": "code",
   "execution_count": 21,
   "metadata": {},
   "outputs": [],
   "source": [
    "def preprocess():\n",
    "    pass"
   ]
  },
  {
   "cell_type": "code",
   "execution_count": 22,
   "metadata": {},
   "outputs": [
    {
     "data": {
      "text/html": [
       "<div>\n",
       "<style scoped>\n",
       "    .dataframe tbody tr th:only-of-type {\n",
       "        vertical-align: middle;\n",
       "    }\n",
       "\n",
       "    .dataframe tbody tr th {\n",
       "        vertical-align: top;\n",
       "    }\n",
       "\n",
       "    .dataframe thead th {\n",
       "        text-align: right;\n",
       "    }\n",
       "</style>\n",
       "<table border=\"1\" class=\"dataframe\">\n",
       "  <thead>\n",
       "    <tr style=\"text-align: right;\">\n",
       "      <th></th>\n",
       "      <th>Stationsname</th>\n",
       "      <th>Stations_ID</th>\n",
       "      <th>Kennung</th>\n",
       "      <th>Stations-kennung</th>\n",
       "      <th>Breite</th>\n",
       "      <th>Länge</th>\n",
       "      <th>Stations-höhe</th>\n",
       "      <th>Flussgebiet</th>\n",
       "      <th>Bundesland</th>\n",
       "      <th>Beginn</th>\n",
       "      <th>Ende</th>\n",
       "    </tr>\n",
       "  </thead>\n",
       "  <tbody>\n",
       "    <tr>\n",
       "      <th>0</th>\n",
       "      <td>Aach</td>\n",
       "      <td>1</td>\n",
       "      <td>KL</td>\n",
       "      <td>02783</td>\n",
       "      <td>47.8410</td>\n",
       "      <td>8.8490</td>\n",
       "      <td>478</td>\n",
       "      <td></td>\n",
       "      <td>BW</td>\n",
       "      <td>1937-01-01</td>\n",
       "      <td>1986-06-30</td>\n",
       "    </tr>\n",
       "    <tr>\n",
       "      <th>1</th>\n",
       "      <td>Aach</td>\n",
       "      <td>1</td>\n",
       "      <td>RR</td>\n",
       "      <td>70191</td>\n",
       "      <td>47.8410</td>\n",
       "      <td>8.8490</td>\n",
       "      <td>478</td>\n",
       "      <td></td>\n",
       "      <td>BW</td>\n",
       "      <td>1912-01-01</td>\n",
       "      <td>1986-06-30</td>\n",
       "    </tr>\n",
       "    <tr>\n",
       "      <th>2</th>\n",
       "      <td>Aach/Hegau</td>\n",
       "      <td>10771</td>\n",
       "      <td>PE</td>\n",
       "      <td>10771</td>\n",
       "      <td>47.8500</td>\n",
       "      <td>8.8500</td>\n",
       "      <td>480</td>\n",
       "      <td></td>\n",
       "      <td>BW</td>\n",
       "      <td>1951-02-27</td>\n",
       "      <td>2000-06-15</td>\n",
       "    </tr>\n",
       "    <tr>\n",
       "      <th>3</th>\n",
       "      <td>Aachen</td>\n",
       "      <td>3</td>\n",
       "      <td>EB</td>\n",
       "      <td>02205</td>\n",
       "      <td>50.7827</td>\n",
       "      <td>6.0941</td>\n",
       "      <td>202</td>\n",
       "      <td>803100</td>\n",
       "      <td>NW</td>\n",
       "      <td>1951-01-01</td>\n",
       "      <td>2011-03-31</td>\n",
       "    </tr>\n",
       "    <tr>\n",
       "      <th>4</th>\n",
       "      <td>Aachen</td>\n",
       "      <td>3</td>\n",
       "      <td>FF</td>\n",
       "      <td>02205</td>\n",
       "      <td>50.7827</td>\n",
       "      <td>6.0941</td>\n",
       "      <td>202</td>\n",
       "      <td>803100</td>\n",
       "      <td>NW</td>\n",
       "      <td>1937-01-01</td>\n",
       "      <td>2011-03-31</td>\n",
       "    </tr>\n",
       "  </tbody>\n",
       "</table>\n",
       "</div>"
      ],
      "text/plain": [
       "  Stationsname  Stations_ID Kennung Stations-kennung   Breite   Länge  \\\n",
       "0         Aach            1      KL            02783  47.8410  8.8490   \n",
       "1         Aach            1      RR            70191  47.8410  8.8490   \n",
       "2   Aach/Hegau        10771      PE            10771  47.8500  8.8500   \n",
       "3       Aachen            3      EB            02205  50.7827  6.0941   \n",
       "4       Aachen            3      FF            02205  50.7827  6.0941   \n",
       "\n",
       "   Stations-höhe Flussgebiet Bundesland     Beginn       Ende  \n",
       "0            478                     BW 1937-01-01 1986-06-30  \n",
       "1            478                     BW 1912-01-01 1986-06-30  \n",
       "2            480                     BW 1951-02-27 2000-06-15  \n",
       "3            202      803100         NW 1951-01-01 2011-03-31  \n",
       "4            202      803100         NW 1937-01-01 2011-03-31  "
      ]
     },
     "execution_count": 22,
     "metadata": {},
     "output_type": "execute_result"
    }
   ],
   "source": [
    "stations = pd.read_csv(\"../project/data/dwd/stations.tsv\", sep=\"\\t\")\n",
    "\n",
    "#remove stations with empty Beginn or Ende\n",
    "mask = stations[\"Beginn\"] == \" \"\n",
    "stations = stations[~mask]\n",
    "mask = stations[\"Ende\"] == \" \"\n",
    "stations = stations[~mask]\n",
    "\n",
    "stations[\"Beginn\"] = pd.to_datetime(stations[\"Beginn\"], dayfirst=True)\n",
    "stations[\"Ende\"] = pd.to_datetime(stations[\"Ende\"], dayfirst=True)\n",
    "\n",
    "stations.head()"
   ]
  },
  {
   "cell_type": "code",
   "execution_count": 23,
   "metadata": {},
   "outputs": [],
   "source": [
    "from datetime import datetime\n",
    "bw_stations = stations.loc[stations[\"Bundesland\"] == \"BW\"].drop_duplicates(subset= [\"Stationsname\", \"Stations-kennung\"])\n",
    "\n",
    "current_bw_stations = bw_stations[bw_stations[\"Ende\"] >= datetime(day=2, month=12, year=2023)]\n",
    "id_str = current_bw_stations[\"Stations-kennung\"].to_string(index=False).replace(\"\\n \", \",\")"
   ]
  },
  {
   "cell_type": "code",
   "execution_count": 24,
   "metadata": {},
   "outputs": [],
   "source": [
    "import requests\n",
    "\n",
    "# repsonse = requests.get(f'https://dwd.api.proxy.bund.dev/v30/stationOverviewExtended?stationIds={id_str}')"
   ]
  },
  {
   "cell_type": "code",
   "execution_count": 69,
   "metadata": {},
   "outputs": [
    {
     "data": {
      "text/plain": [
       "'Altheim,KreisBiberach|Baden-Baden-Geroldsau|Balingen-Bronnhaupten|Buchen,Kr.Neckar-Odenwald|Buchenbach|Dachsberg-Wolpadingen|Ellwangen-Rindelbach|Elzach-Fisnacht|Emmendingen-Mundingen|Eppingen-Elsenz|Friedrichshafen-Unterraderach|Geisingen|Großerlach-Mannenweiler|Hechingen|Hermaringen-Allewind|Kirchberg/Jagst-Herboldshausen|Merklingen|Müllheim|Münsingen-Apfelstetten|Neubulach-Oberhaugstett|Notzingen|Obersulm-Willsbach|Ohlsbach|Pforzheim-Ispringen|Pfullendorf|Renningen-IhingerHof|Rheinau-Memprechtshofen|Rottweil|Sachsenheim|SchwäbischGmünd-Weiler|Sigmaringen-Laiz|Singen|Villingen-Schwenningen|Weingarten,Kr.Ravensburg|Wolfach|Wutöschingen-Ofteringen'"
      ]
     },
     "execution_count": 69,
     "metadata": {},
     "output_type": "execute_result"
    }
   ],
   "source": [
    "import json\n",
    "content = json.loads(repsonse.content.decode(\"utf-8\"))\n",
    "response_ids = content.keys()\n",
    "\n",
    "bw_response_stations = current_bw_stations[current_bw_stations[\"Stations-kennung\"].isin(response_ids)]\n",
    "s = bw_response_stations[\"Stationsname\"].to_string(index=False).replace(\"\\n\", \"| \")\n",
    "s = s.replace(\" \", \"\")\n",
    "s"
   ]
  },
  {
   "cell_type": "code",
   "execution_count": 41,
   "metadata": {},
   "outputs": [
    {
     "data": {
      "text/plain": [
       "b'{\"error_message\":\"This api key requires signature validation. Please specify the url parameter &sig=md5(<url>&secrect=<secret>)\",\"error\":true}'"
      ]
     },
     "execution_count": 41,
     "metadata": {},
     "output_type": "execute_result"
    }
   ],
   "source": [
    "cost_per_request = 12000\n",
    "num_stations = len(bw_response_stations)\n",
    "credits_total = 15000000\n",
    "\n",
    "credits_total / cost_per_request / num_stations\n",
    "\n",
    "response = requests.get(\"http://my.meteoblue.com/packages/basic-1h_basic-day?lat=47.558&lon=7.573&apikey=DEMOKEY\")\n",
    "response.content"
   ]
  },
  {
   "cell_type": "code",
   "execution_count": 49,
   "metadata": {},
   "outputs": [
    {
     "name": "stderr",
     "output_type": "stream",
     "text": [
      "/tmp/ipykernel_488/3404676141.py:12: FutureWarning: The geopandas.dataset module is deprecated and will be removed in GeoPandas 1.0. You can get the original 'naturalearth_lowres' data from https://www.naturalearthdata.com/downloads/110m-cultural-vectors/.\n",
      "  world = gpd.read_file(gpd.datasets.get_path('naturalearth_lowres'))\n"
     ]
    },
    {
     "data": {
      "text/plain": [
       "<Axes: >"
      ]
     },
     "execution_count": 49,
     "metadata": {},
     "output_type": "execute_result"
    },
    {
     "data": {
      "image/png": "[encoded data removed]",
      "text/plain": [
       "<Figure size 640x480 with 1 Axes>"
      ]
     },
     "metadata": {},
     "output_type": "display_data"
    }
   ],
   "source": [
    "import pandas as pd\n",
    "from shapely.geometry import Point\n",
    "import geopandas as gpd\n",
    "from geopandas import GeoDataFrame\n",
    "import matplotlib.pyplot as plt\n",
    "\n",
    "\n",
    "geometry = [Point(xy) for xy in zip(bw_response_stations['Länge'], bw_response_stations['Breite'])]\n",
    "gdf = GeoDataFrame(bw_response_stations, geometry=geometry)\n",
    "\n",
    "#this is a simple map that goes with geopandas\n",
    "world = gpd.read_file(gpd.datasets.get_path('naturalearth_lowres'))\n",
    "germany = world[world[\"name\"] == \"Germany\"]\n",
    "\n",
    "fig, ax = plt.subplots()\n",
    "\n",
    "germany.plot(\n",
    "    ax=ax\n",
    ")\n",
    "gdf.plot(ax=ax, color=\"r\", markersize=10)"
   ]
  }
 ],
 "metadata": {
  "kernelspec": {
   "display_name": "DataLiteracy",
   "language": "python",
   "name": "python3"
  },
  "language_info": {
   "codemirror_mode": {
    "name": "ipython",
    "version": 3
   },
   "file_extension": ".py",
   "mimetype": "text/x-python",
   "name": "python",
   "nbconvert_exporter": "python",
   "pygments_lexer": "ipython3",
   "version": "3.11.6"
  }
 },
 "nbformat": 4,
 "nbformat_minor": 2
}
