{
 "cells": [
  {
   "cell_type": "code",
   "execution_count": 9,
   "metadata": {},
   "outputs": [],
   "source": [
    "#Trend plot\n",
    "#plots created by Robin Uhrich\n",
    "#modified by Lilli DIederichs\n",
    "import matplotlib.pyplot as plt\n",
    "import numpy as np\n",
    "from tqdm import tqdm\n",
    "import os\n",
    "\n",
    "# sys.path.append(\"/\".join(sys.path[0].split(\"/\")[:-1]))\n",
    "\n",
    "from studies.utils.dwd_data import DWD_Dataset, Feature\n",
    "\n",
    "import polars as pl\n",
    "import pandas as pd\n",
    "import datetime\n",
    "import matplotlib\n",
    "\n",
    "\n",
    "#Tueplots\n",
    "from scipy.stats import linregress\n",
    "import matplotlib.colors as mcolors\n",
    "from tueplots import cycler, markers,figsizes, fonts\n",
    "from tueplots.constants import markers as marker_constants\n",
    "from tueplots.constants.color import palettes\n",
    "\n",
    "#Legend\n",
    "import matplotlib.lines as mlines"
   ]
  },
  {
   "cell_type": "code",
   "execution_count": 10,
   "metadata": {},
   "outputs": [],
   "source": [
    "#Plotting Params\n",
    "\n",
    "plt.rcParams.update(figsizes.icml2022_full())\n",
    "tue_plot_colors = palettes.tue_plot\n",
    "from studies.utils.setup_pyplot import (\n",
    "    SIDEEFFECTS_setup_tueplot,\n",
    "    SIDEEFFECTS_choose_color_palette,\n",
    ")\n",
    "#Font\n",
    "SIDEEFFECTS_setup_tueplot()\n",
    "tue_plot_colors = palettes.tue_plot\n",
    "FIG_SAVE_BASE_PATH = '../docs/report/fig/'"
   ]
  },
  {
   "cell_type": "code",
   "execution_count": 11,
   "metadata": {},
   "outputs": [],
   "source": [
    "#Import dataset\n",
    "dataset_model_1 = DWD_Dataset(\n",
    "    source_path=\"../data/dwd\",\n",
    "    model=1,\n",
    "    feature=Feature.PRECIPITATION\n",
    ")\n",
    "dataset_model_2 = DWD_Dataset(\n",
    "    source_path=\"../data/dwd\",\n",
    "    model=2,\n",
    "    feature=Feature.PRECIPITATION\n",
    ")"
   ]
  },
  {
   "cell_type": "code",
   "execution_count": 12,
   "metadata": {},
   "outputs": [
    {
     "name": "stderr",
     "output_type": "stream",
     "text": [
      "100%|██████████| 10000/10000 [00:32<00:00, 304.56it/s]\n"
     ]
    },
    {
     "data": {
      "text/plain": [
       "array([0.36665392, 0.30070557])"
      ]
     },
     "execution_count": 12,
     "metadata": {},
     "output_type": "execute_result"
    }
   ],
   "source": [
    "merge_1 = dataset_model_1.get_merge()\n",
    "merge_2 = dataset_model_2.get_merge()\n",
    "\n",
    "\n",
    "N_BOOT = 10000\n",
    "boot_mean = np.empty((N_BOOT, 2))\n",
    "for i in tqdm(range(N_BOOT)):\n",
    "    boot_mean[i, 0] = np.random.choice(np.abs(merge_1[\"precipitation_error\"].values), replace=True, size=len(merge_1)).std()\n",
    "    boot_mean[i, 1] = np.random.choice(np.abs(merge_2[\"precipitation_error\"].values / 3), replace=True, size=len(merge_1)).std()\n",
    "\n",
    "boot_mean.mean(axis=0)"
   ]
  },
  {
   "cell_type": "code",
   "execution_count": 13,
   "metadata": {},
   "outputs": [
    {
     "data": {
      "text/plain": [
       "<matplotlib.lines.Line2D at 0x7feb454a2f90>"
      ]
     },
     "execution_count": 13,
     "metadata": {},
     "output_type": "execute_result"
    },
    {
     "data": {
      "image/png": "[encoded data removed]",
      "text/plain": [
       "<Figure size 325x200.861 with 1 Axes>"
      ]
     },
     "metadata": {},
     "output_type": "display_data"
    }
   ],
   "source": [
    "plt.hist(boot_mean[:, 0], bins=100)\n",
    "plt.hist(boot_mean[:, 1], bins=100)\n",
    "boot_mean.mean(axis=0)\n",
    "\n",
    "plt.axvline(boot_mean.mean(axis=0)[0] - boot_mean.std(axis=0)[0], color=\"grey\")\n",
    "plt.axvline(boot_mean.mean(axis=0)[0] + boot_mean.std(axis=0)[0], color=\"grey\")\n",
    "\n",
    "plt.axvline(boot_mean.mean(axis=0)[1] - boot_mean.std(axis=0)[1], color=\"grey\")\n",
    "plt.axvline(boot_mean.mean(axis=0)[1] + boot_mean.std(axis=0)[1], color=\"grey\")"
   ]
  },
  {
   "cell_type": "code",
   "execution_count": 14,
   "metadata": {},
   "outputs": [
    {
     "name": "stderr",
     "output_type": "stream",
     "text": [
      "  0%|          | 0/73 [00:00<?, ?it/s]"
     ]
    },
    {
     "name": "stderr",
     "output_type": "stream",
     "text": [
      "100%|██████████| 73/73 [01:05<00:00,  1.11it/s]\n",
      "100%|██████████| 56/56 [00:59<00:00,  1.06s/it]\n"
     ]
    }
   ],
   "source": [
    "merge_1 = dataset_model_1.get_merge().copy()\n",
    "merge_2 = dataset_model_2.get_merge().copy()\n",
    "\n",
    "# absolute values\n",
    "# merge_1[\"precipitation_error\"] = merge_1[\"precipitation_error\"].abs()\n",
    "# merge_2[\"precipitation_error\"] = merge_2[\"precipitation_error\"].abs()\n",
    "\n",
    "# set call time for all to 00:00\n",
    "merge_1[\"call_time\"] = merge_1[\"call_time\"].dt.normalize()\n",
    "merge_2[\"call_time\"] = merge_2[\"call_time\"].dt.normalize()\n",
    "# insert time delta column\n",
    "time_delta = merge_1[\"time\"] - merge_1[\"call_time\"]\n",
    "merge_1.insert(len(merge_1.columns), \"time_delta\", time_delta)\n",
    "time_delta = merge_2[\"time\"] - merge_2[\"call_time\"]\n",
    "merge_2.insert(len(merge_2.columns), \"time_delta\", time_delta)\n",
    "\n",
    "\n",
    "N_BOOT = 10000\n",
    "\n",
    "time_delta_std_1 = np.empty((len(merge_1[\"time_delta\"].unique()), N_BOOT, 2))\n",
    "for idx, (_, group) in enumerate(tqdm(merge_1.groupby(\"time_delta\"))):\n",
    "    for i in range(N_BOOT):\n",
    "        time_delta_std_1[idx, i, 0] = np.random.choice(group[\"precipitation_error\"].values, replace=True, size=len(group)).std()\n",
    "        time_delta_std_1[idx, i, 1] = np.random.choice(np.abs(group[\"precipitation_error\"].values), replace=True, size=len(group)).std()\n",
    "\n",
    "time_delta_std_2 = np.empty((len(merge_2[\"time_delta\"].unique()), N_BOOT, 2))\n",
    "for idx, (_, group) in enumerate(tqdm(merge_2.groupby(\"time_delta\"))):\n",
    "    for i in range(N_BOOT):\n",
    "        time_delta_std_2[idx, i, 0] = np.random.choice(group[\"precipitation_error\"].values / 3, replace=True, size=len(group)).std()\n",
    "        time_delta_std_2[idx, i, 1] = np.random.choice(np.abs(group[\"precipitation_error\"].values / 3), replace=True, size=len(group)).std()\n"
   ]
  },
  {
   "cell_type": "code",
   "execution_count": 15,
   "metadata": {},
   "outputs": [
    {
     "data": {
      "text/plain": [
       "<matplotlib.lines.Line2D at 0x7feb2309a110>"
      ]
     },
     "execution_count": 15,
     "metadata": {},
     "output_type": "execute_result"
    },
    {
     "data": {
      "image/png": "[encoded data removed]",
      "text/plain": [
       "<Figure size 325x200.861 with 1 Axes>"
      ]
     },
     "metadata": {},
     "output_type": "display_data"
    }
   ],
   "source": [
    "plt.hist(boot_mean[:, 0], bins=100)\n",
    "plt.hist(boot_mean[:, 1], bins=100)\n",
    "boot_mean.mean(axis=0)\n",
    "\n",
    "plt.axvline(boot_mean.mean(axis=0)[0] - boot_mean.std(axis=0)[0], color=\"grey\")\n",
    "plt.axvline(boot_mean.mean(axis=0)[0] + boot_mean.std(axis=0)[0], color=\"grey\")\n",
    "\n",
    "plt.axvline(boot_mean.mean(axis=0)[1] - boot_mean.std(axis=0)[1], color=\"grey\")\n",
    "plt.axvline(boot_mean.mean(axis=0)[1] + boot_mean.std(axis=0)[1], color=\"grey\")"
   ]
  },
  {
   "cell_type": "code",
   "execution_count": 16,
   "metadata": {},
   "outputs": [
    {
     "name": "stdout",
     "output_type": "stream",
     "text": [
      "forecast 1 mean:  0.005080804183813443\n",
      "forecast 2 mean:  0.023185350529100528\n",
      "forecast 1 mean:  0.1529267403978052\n",
      "forecast 2 mean:  0.15936994782480893\n"
     ]
    },
    {
     "data": {
      "image/png": "[encoded data removed]",
      "text/plain": [
       "<Figure size 325x200.861 with 2 Axes>"
      ]
     },
     "metadata": {},
     "output_type": "display_data"
    }
   ],
   "source": [
    "merge_1 = dataset_model_1.get_merge().copy()\n",
    "merge2 = dataset_model_2.get_merge().copy()\n",
    "\n",
    "# set call time for all to 00:00\n",
    "merge_1[\"call_time\"] = merge_1[\"call_time\"].dt.normalize()\n",
    "merge2[\"call_time\"] = merge2[\"call_time\"].dt.normalize()\n",
    "# insert time delta column\n",
    "time_delta = merge_1[\"time\"] - merge_1[\"call_time\"]\n",
    "merge_1.insert(len(merge_1.columns), \"time_delta\", time_delta)\n",
    "time_delta = merge2[\"time\"] - merge2[\"call_time\"]\n",
    "merge2.insert(len(merge2.columns), \"time_delta\", time_delta)\n",
    "\n",
    "\n",
    "fig, (ax1, ax2) = plt.subplots(ncols=2, sharey=True)\n",
    "\n",
    "ax1.grid(axis='x', color='gray',linewidth = 0.5, alpha=0.4)\n",
    "ax2.grid(axis='x', color='gray',linewidth = 0.5, alpha=0.4)\n",
    "\n",
    "# plot means\n",
    "mean_time_delta = merge_1.groupby(\"time_delta\").mean().iloc[:-1]\n",
    "t = (mean_time_delta.index.values / (3600 * 1e9)).astype(float)  # to hours\n",
    "ax1.plot(t, mean_time_delta[\"precipitation_error\"], c=tue_plot_colors[3], label=\"ME\")\n",
    "print(\"forecast 1 mean: \", (mean_time_delta[\"precipitation_error\"]).mean())\n",
    "ax1.fill_between(\n",
    "    t,\n",
    "    mean_time_delta[\"precipitation_error\"] - time_delta_std_1.mean(axis=1)[:-1, 0],\n",
    "    mean_time_delta[\"precipitation_error\"] + time_delta_std_1.mean(axis=1)[:-1, 0],\n",
    "    alpha=0.3,\n",
    "    color=tue_plot_colors[3]\n",
    ")\n",
    "\n",
    "mean_time_delta = merge2.groupby(\"time_delta\").mean()\n",
    "t = (mean_time_delta.index.values / (3600 * 1e9)).astype(float)  # to hours\n",
    "ax2.plot(t, mean_time_delta[\"precipitation_error\"] / 3, c=tue_plot_colors[3], label=\"MAE\")\n",
    "print(\"forecast 2 mean: \", (mean_time_delta[\"precipitation_error\"] / 3).mean())\n",
    "ax2.fill_between(\n",
    "    t,\n",
    "    mean_time_delta[\"precipitation_error\"] - time_delta_std_2.mean(axis=1)[:, 0],\n",
    "    mean_time_delta[\"precipitation_error\"] + time_delta_std_2.mean(axis=1)[:, 0],\n",
    "    alpha=0.3,\n",
    "    color=tue_plot_colors[3]\n",
    ")\n",
    "\n",
    "\n",
    "# absolute values\n",
    "merge_1[\"precipitation_error\"] = merge_1[\"precipitation_error\"].abs()\n",
    "merge2[\"precipitation_error\"] = merge2[\"precipitation_error\"].abs()\n",
    "\n",
    "# plot means\n",
    "mean_time_delta = merge_1.groupby(\"time_delta\").mean().iloc[:-1]\n",
    "t = (mean_time_delta.index.values / (3600 * 1e9)).astype(float)  # to hours\n",
    "ax1.plot(t, mean_time_delta[\"precipitation_error\"], c=tue_plot_colors[5], label=\"MAE\")\n",
    "print(\"forecast 1 mean: \", (mean_time_delta[\"precipitation_error\"]).mean())\n",
    "ax1.fill_between(\n",
    "    t,\n",
    "    mean_time_delta[\"precipitation_error\"] - time_delta_std_1.mean(axis=1)[:-1, 1],\n",
    "    mean_time_delta[\"precipitation_error\"] + time_delta_std_1.mean(axis=1)[:-1, 1],\n",
    "    alpha=0.3,\n",
    "    color=tue_plot_colors[5]\n",
    ")\n",
    "\n",
    "\n",
    "mean_time_delta = merge2.groupby(\"time_delta\").mean()\n",
    "t = (mean_time_delta.index.values / (3600 * 1e9)).astype(float)  # to hours\n",
    "ax2.plot(t, mean_time_delta[\"precipitation_error\"] / 3, c=tue_plot_colors[5], label=\"mean\")\n",
    "print(\"forecast 2 mean: \", (mean_time_delta[\"precipitation_error\"] / 3).mean())\n",
    "ax2.fill_between(\n",
    "    t,\n",
    "    mean_time_delta[\"precipitation_error\"] / 3 - time_delta_std_2.mean(axis=1)[:, 1],\n",
    "    mean_time_delta[\"precipitation_error\"] / 3 + time_delta_std_2.mean(axis=1)[:, 1],\n",
    "    alpha=0.3,\n",
    "    color=tue_plot_colors[5]\n",
    ")\n",
    "\n",
    "\n",
    "\n",
    "ax1.set_ylabel('[l/(m²h)]')\n",
    "#ax1.set_title(\"Model 1\")\n",
    "ax1.set_xlabel(\"\"   \"\")\n",
    "ax2.set_xlabel(\"\"   \"\")\n",
    "ax1.set_xticks(np.linspace(0, 72, 4, dtype=int), np.linspace(0, 72, 4, dtype=int))\n",
    "\n",
    "ax1.set_ylim((-1, 1))\n",
    "ax1.legend()\n",
    "\n",
    "#ax2.set_title(\"Model 2\")\n",
    "fig.text(0.54,-0.05,\"$\\Delta t$ h\")\n",
    "ax2.set_xticks(\n",
    "    np.linspace(0, 56, 8, dtype=int) * 3 + 72, np.linspace(0, 56, 8, dtype=int) * 3 + 72\n",
    ")\n",
    "\n",
    "\n",
    "\n",
    "plt.savefig(os.path.join(FIG_SAVE_BASE_PATH,'fig_mean_trend.pdf'))"
   ]
  }
 ],
 "metadata": {
  "kernelspec": {
   "display_name": "project",
   "language": "python",
   "name": "python3"
  },
  "language_info": {
   "codemirror_mode": {
    "name": "ipython",
    "version": 3
   },
   "file_extension": ".py",
   "mimetype": "text/x-python",
   "name": "python",
   "nbconvert_exporter": "python",
   "pygments_lexer": "ipython3",
   "version": "3.11.7"
  }
 },
 "nbformat": 4,
 "nbformat_minor": 2
}
